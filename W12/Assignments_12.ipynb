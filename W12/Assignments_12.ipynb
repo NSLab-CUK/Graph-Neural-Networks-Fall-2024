{
 "cells": [
  {
   "cell_type": "markdown",
   "id": "ca3dcbfb-8bae-48de-94b2-288f1c0b132d",
   "metadata": {},
   "source": [
    "# Assignment 1. Given amazon-book dataset in the folder \"Data/\": \n",
    "\n",
    "Questions: Build the NGCF model to learn the amazon-book dataset"
   ]
  },
  {
   "cell_type": "markdown",
   "id": "8eb3bddb-c71c-44f5-a1f0-40671ea155ed",
   "metadata": {},
   "source": [
    "# Assignment 2. Follow the LightGCN in Practice code\n",
    "\n",
    "Questions: \n",
    "1. Modify the LightGCN model with dropout layers after each LGConv layer. Print out the results.\n",
    "2. Visualize embedding distribution of representations of user and item embeddings using t-SNE or PCA\n"
   ]
  }
 ],
 "metadata": {
  "kernelspec": {
   "display_name": "Python 3 (ipykernel)",
   "language": "python",
   "name": "python3"
  },
  "language_info": {
   "codemirror_mode": {
    "name": "ipython",
    "version": 3
   },
   "file_extension": ".py",
   "mimetype": "text/x-python",
   "name": "python",
   "nbconvert_exporter": "python",
   "pygments_lexer": "ipython3",
   "version": "3.8.8"
  }
 },
 "nbformat": 4,
 "nbformat_minor": 5
}
