{
 "cells": [
  {
   "cell_type": "markdown",
   "metadata": {},
   "source": [
    "# 1. Install necessary libraries"
   ]
  },
  {
   "cell_type": "code",
   "execution_count": 35,
   "metadata": {
    "ExecuteTime": {
     "end_time": "2023-09-13T10:03:24.026724700Z",
     "start_time": "2023-09-13T10:03:20.195939800Z"
    },
    "colab": {
     "base_uri": "https://localhost:8080/"
    },
    "executionInfo": {
     "elapsed": 17682,
     "status": "ok",
     "timestamp": 1694273603438,
     "user": {
      "displayName": "이주호",
      "userId": "15914417090480631241"
     },
     "user_tz": -540
    },
    "id": "NQhZNeHRkSaF",
    "outputId": "fbb77514-350f-45f7-c055-ed76fbad0d5a"
   },
   "outputs": [],
   "source": [
    "# !pip install gensim\n",
    "# !pip install matplotlib\n",
    "# !pip install -U scikit-learn\n",
    "# !pip install torch_geometric\n",
    "# !pip install networkx\n",
    "# !pip3 install torch torchvision torchaudio --index-url https://download.pytorch.org/whl/cu117"
   ]
  },
  {
   "cell_type": "markdown",
   "metadata": {
    "id": "DwAT_2qqlbCr"
   },
   "source": [
    "#  2. Graph  Construction"
   ]
  },
  {
   "cell_type": "code",
   "execution_count": 16,
   "metadata": {
    "ExecuteTime": {
     "end_time": "2023-09-13T10:03:25.490787400Z",
     "start_time": "2023-09-13T10:03:24.026724700Z"
    },
    "id": "waOeZ6J5lajH"
   },
   "outputs": [],
   "source": [
    "import networkx as nx\n",
    "import random\n",
    "from torch_geometric.datasets import KarateClub\n",
    "from torch_geometric.utils import to_networkx"
   ]
  },
  {
   "cell_type": "markdown",
   "metadata": {},
   "source": [
    "## 2.1. KarateClub"
   ]
  },
  {
   "cell_type": "code",
   "execution_count": 17,
   "metadata": {
    "ExecuteTime": {
     "end_time": "2023-09-13T10:03:25.495219800Z",
     "start_time": "2023-09-13T10:03:25.490787400Z"
    }
   },
   "outputs": [
    {
     "data": {
      "text/plain": [
       "Data(x=[34, 34], edge_index=[2, 156], y=[34], train_mask=[34])"
      ]
     },
     "execution_count": 17,
     "metadata": {},
     "output_type": "execute_result"
    }
   ],
   "source": [
    "# Import the KarateClub dataset and select the first graph in the dataset\n",
    "dataset = KarateClub()[0]\n",
    "\n",
    "# Display the dataset\n",
    "dataset"
   ]
  },
  {
   "cell_type": "code",
   "execution_count": 18,
   "metadata": {
    "ExecuteTime": {
     "end_time": "2023-09-13T10:03:25.519121200Z",
     "start_time": "2023-09-13T10:03:25.508158500Z"
    }
   },
   "outputs": [
    {
     "data": {
      "text/plain": [
       "tensor([1, 1, 1, 1, 3, 3, 3, 1, 0, 1, 3, 1, 1, 1, 0, 0, 3, 1, 0, 1, 0, 1, 0, 0,\n",
       "        2, 2, 0, 0, 2, 0, 0, 2, 0, 0])"
      ]
     },
     "execution_count": 18,
     "metadata": {},
     "output_type": "execute_result"
    }
   ],
   "source": [
    "dataset.y"
   ]
  },
  {
   "cell_type": "code",
   "execution_count": 19,
   "metadata": {
    "ExecuteTime": {
     "end_time": "2023-09-13T10:03:25.532706200Z",
     "start_time": "2023-09-13T10:03:25.519121200Z"
    }
   },
   "outputs": [],
   "source": [
    "# Convert the dataset to a NetworkX graph\n",
    "karate_graph = to_networkx(dataset)\n",
    "\n",
    "# Iterate over each node in the NetworkX graph\n",
    "for node in karate_graph.nodes:\n",
    "    # Assign the class label from the dataset to the node's \"class\" attribute\n",
    "    karate_graph.nodes[node][\"class\"] = dataset.y.tolist()[node]"
   ]
  },
  {
   "cell_type": "code",
   "execution_count": 20,
   "metadata": {
    "ExecuteTime": {
     "end_time": "2023-09-13T10:03:25.558910Z",
     "start_time": "2023-09-13T10:03:25.527199900Z"
    }
   },
   "outputs": [
    {
     "data": {
      "text/plain": [
       "NodeDataView({0: {'class': 1}, 1: {'class': 1}, 2: {'class': 1}, 3: {'class': 1}, 4: {'class': 3}, 5: {'class': 3}, 6: {'class': 3}, 7: {'class': 1}, 8: {'class': 0}, 9: {'class': 1}, 10: {'class': 3}, 11: {'class': 1}, 12: {'class': 1}, 13: {'class': 1}, 14: {'class': 0}, 15: {'class': 0}, 16: {'class': 3}, 17: {'class': 1}, 18: {'class': 0}, 19: {'class': 1}, 20: {'class': 0}, 21: {'class': 1}, 22: {'class': 0}, 23: {'class': 0}, 24: {'class': 2}, 25: {'class': 2}, 26: {'class': 0}, 27: {'class': 0}, 28: {'class': 2}, 29: {'class': 0}, 30: {'class': 0}, 31: {'class': 2}, 32: {'class': 0}, 33: {'class': 0}})"
      ]
     },
     "execution_count": 20,
     "metadata": {},
     "output_type": "execute_result"
    }
   ],
   "source": [
    "# Retrieve all nodes in the karate_graph along with their attributes\n",
    "karate_graph.nodes(data=True)"
   ]
  },
  {
   "cell_type": "markdown",
   "metadata": {
    "id": "Bri8adxGmZZp"
   },
   "source": [
    "# 3. Random Walk"
   ]
  },
  {
   "cell_type": "code",
   "execution_count": 21,
   "metadata": {
    "ExecuteTime": {
     "end_time": "2023-09-13T10:03:25.558910Z",
     "start_time": "2023-09-13T10:03:25.532706200Z"
    },
    "id": "crQWRSfpmt_P"
   },
   "outputs": [],
   "source": [
    "'''\n",
    "    graph : Graph\n",
    "        The graph on which to perform the random walk.\n",
    "    start_node : int\n",
    "        The starting node of the random walk sequence.\n",
    "    num_steps : int\n",
    "        The length of the random walk sequence.\n",
    "'''\n",
    "def random_walk(graph, start_node, num_steps):\n",
    "    # Initialize the result list to store the sequence of nodes visited\n",
    "    result = []\n",
    "    # Set the current node to the start node\n",
    "    current_node = start_node\n",
    "    \n",
    "    # Perform the random walk for the specified number of steps\n",
    "    for _ in range(num_steps):\n",
    "        # Append the current node to the result list\n",
    "        result.append(current_node)\n",
    "        # Get the neighbors of the current node\n",
    "        neighbors = list(graph.neighbors(current_node))\n",
    "        \n",
    "        # If the current node has no neighbors, break the loop\n",
    "        if not neighbors:\n",
    "            break\n",
    "        \n",
    "        # Randomly select the next node from the neighbors\n",
    "        current_node = random.choice(neighbors)\n",
    "\n",
    "    # Return the sequence of nodes visited during the random walk\n",
    "    return result"
   ]
  },
  {
   "cell_type": "code",
   "execution_count": 22,
   "metadata": {
    "ExecuteTime": {
     "end_time": "2023-09-13T10:03:25.558910Z",
     "start_time": "2023-09-13T10:03:25.537831400Z"
    },
    "colab": {
     "base_uri": "https://localhost:8080/"
    },
    "executionInfo": {
     "elapsed": 2,
     "status": "ok",
     "timestamp": 1694281698539,
     "user": {
      "displayName": "이주호",
      "userId": "15914417090480631241"
     },
     "user_tz": -540
    },
    "id": "yEuAh6O0mP3W",
    "outputId": "0d9f9632-aa2f-4541-a007-3f9e78a91a8e"
   },
   "outputs": [
    {
     "name": "stdout",
     "output_type": "stream",
     "text": [
      "Random Walk:\n",
      "[1, 3, 7, 1, 21, 0, 17, 1, 7, 2]\n"
     ]
    }
   ],
   "source": [
    "# Randomly select a start node from the nodes in the karate_graph\n",
    "start_node = random.choice(list(karate_graph.nodes()))\n",
    "\n",
    "# Define the number of steps for the random walk (length of the sequence)\n",
    "num_steps = 10\n",
    "\n",
    "# Print a message indicating the start of the random walk\n",
    "print(\"Random Walk:\")\n",
    "\n",
    "# Perform the random walk on the karate_graph starting from the start_node and for num_steps steps\n",
    "result = random_walk(karate_graph, start_node, num_steps)\n",
    "\n",
    "# Print the result of the random walk (the sequence of nodes visited)\n",
    "print(result)"
   ]
  },
  {
   "cell_type": "markdown",
   "metadata": {
    "id": "bKvqaHPz-Xbt"
   },
   "source": [
    "# 4. Deep Walk"
   ]
  },
  {
   "cell_type": "code",
   "execution_count": 23,
   "metadata": {
    "ExecuteTime": {
     "end_time": "2023-09-13T10:03:25.773206600Z",
     "start_time": "2023-09-13T10:03:25.548908800Z"
    },
    "id": "KCz7jUxW-XSG"
   },
   "outputs": [],
   "source": [
    "import numpy as np\n",
    "import random\n",
    "from gensim.models import Word2Vec\n",
    "from torch.utils.data import Dataset\n",
    "from functools import partial"
   ]
  },
  {
   "cell_type": "markdown",
   "metadata": {
    "id": "KlpYFh3zBDMT"
   },
   "source": [
    "## 4.1. Building dataset"
   ]
  },
  {
   "cell_type": "code",
   "execution_count": 24,
   "metadata": {
    "ExecuteTime": {
     "end_time": "2023-09-13T10:03:25.778546600Z",
     "start_time": "2023-09-13T10:03:25.773206600Z"
    },
    "id": "oOj1EIKB-v-6"
   },
   "outputs": [],
   "source": [
    "# Generate a list of 100 random walks on the karate_graph\n",
    "dataset = [\n",
    "    random_walk(\n",
    "        karate_graph,  # The graph on which to perform the random walk\n",
    "        start_node=random.choice(list(karate_graph.nodes)),  # Randomly select a start node from the graph's nodes\n",
    "        num_steps=20  # Number of steps in each random walk\n",
    "    ) \n",
    "    for _ in range(100)  # Repeat the process 100 times to generate 100 random walks\n",
    "]"
   ]
  },
  {
   "cell_type": "code",
   "execution_count": 25,
   "metadata": {
    "ExecuteTime": {
     "end_time": "2023-09-13T10:03:25.787885600Z",
     "start_time": "2023-09-13T10:03:25.776544800Z"
    },
    "colab": {
     "base_uri": "https://localhost:8080/"
    },
    "executionInfo": {
     "elapsed": 434,
     "status": "ok",
     "timestamp": 1694281709082,
     "user": {
      "displayName": "이주호",
      "userId": "15914417090480631241"
     },
     "user_tz": -540
    },
    "id": "CZE8-aFKCLZy",
    "outputId": "ab2370fc-92bf-4b0c-9c32-4e8acfbc910a"
   },
   "outputs": [
    {
     "name": "stdout",
     "output_type": "stream",
     "text": [
      "[15, 33, 14, 32, 15, 32, 31, 25, 31, 0, 21, 1, 13, 3, 2, 0, 5, 16, 6, 0]\n",
      "[17, 1, 17, 1, 19, 0, 13, 3, 2, 8, 30, 33, 23, 33, 15, 32, 14, 32, 22, 33]\n",
      "[9, 2, 9, 2, 28, 33, 23, 32, 33, 27, 23, 25, 23, 32, 15, 32, 18, 32, 20, 32]\n",
      "[1, 0, 8, 0, 8, 33, 23, 25, 24, 31, 0, 19, 33, 9, 33, 8, 33, 32, 14, 32]\n",
      "[28, 2, 0, 1, 21, 1, 17, 1, 17, 0, 12, 0, 7, 0, 11, 0, 10, 5, 16, 5]\n",
      "[2, 28, 33, 15, 32, 31, 24, 25, 23, 29, 32, 14, 32, 14, 32, 29, 32, 33, 31, 28]\n",
      "[32, 18, 33, 22, 32, 15, 32, 33, 29, 26, 29, 32, 14, 32, 15, 32, 14, 32, 22, 32]\n",
      "[27, 33, 19, 0, 19, 0, 8, 30, 1, 21, 1, 2, 1, 17, 0, 12, 3, 13, 2, 32]\n",
      "[23, 32, 20, 32, 2, 0, 7, 0, 3, 13, 3, 1, 19, 33, 9, 2, 3, 13, 0, 19]\n",
      "[15, 33, 23, 25, 23, 33, 27, 23, 32, 29, 26, 33, 18, 33, 18, 33, 13, 1, 21, 1]\n",
      "[30, 33, 19, 33, 15, 33, 31, 32, 2, 3, 12, 0, 7, 0, 13, 33, 20, 32, 30, 32]\n",
      "[12, 3, 12, 0, 21, 0, 10, 4, 0, 2, 3, 12, 0, 12, 0, 8, 33, 14, 32, 14]\n",
      "[18, 33, 19, 33, 20, 33, 18, 33, 29, 33, 8, 0, 21, 0, 21, 0, 13, 33, 18, 33]\n",
      "[13, 33, 28, 33, 19, 0, 19, 1, 13, 0, 4, 10, 5, 0, 21, 0, 11, 0, 5, 16]\n",
      "[28, 33, 32, 33, 14, 33, 20, 33, 32, 14, 33, 23, 25, 23, 33, 15, 32, 30, 8, 32]\n",
      "[16, 5, 6, 4, 10, 5, 16, 6, 5, 6, 5, 6, 5, 0, 13, 2, 1, 3, 7, 0]\n",
      "[23, 33, 31, 25, 23, 25, 23, 27, 23, 33, 19, 1, 13, 2, 28, 31, 0, 2, 28, 2]\n",
      "[24, 27, 23, 29, 33, 8, 32, 30, 8, 32, 23, 29, 32, 2, 7, 2, 1, 30, 8, 32]\n",
      "[12, 3, 7, 2, 7, 1, 17, 0, 31, 24, 31, 0, 11, 0, 10, 5, 6, 0, 13, 3]\n",
      "[12, 3, 13, 1, 13, 2, 3, 13, 2, 7, 3, 7, 2, 7, 0, 4, 0, 13, 2, 8]\n",
      "[8, 2, 3, 13, 0, 12, 3, 12, 0, 8, 32, 30, 33, 13, 2, 27, 24, 25, 31, 32]\n",
      "[20, 33, 15, 32, 15, 32, 18, 32, 18, 32, 29, 23, 33, 20, 33, 30, 32, 33, 13, 2]\n",
      "[26, 29, 32, 14, 33, 27, 24, 25, 23, 32, 31, 28, 33, 15, 32, 14, 32, 22, 32, 15]\n",
      "[5, 16, 6, 16, 5, 0, 5, 10, 0, 17, 0, 1, 2, 3, 0, 10, 4, 6, 4, 10]\n",
      "[18, 33, 14, 33, 15, 33, 31, 0, 4, 0, 3, 0, 1, 30, 33, 26, 33, 15, 32, 8]\n",
      "[11, 0, 10, 5, 10, 4, 6, 4, 10, 4, 6, 4, 6, 16, 5, 10, 0, 5, 16, 5]\n",
      "[8, 33, 19, 33, 30, 33, 26, 33, 28, 31, 33, 9, 2, 3, 2, 28, 33, 26, 29, 32]\n",
      "[12, 3, 7, 2, 27, 23, 32, 30, 32, 33, 18, 32, 20, 33, 32, 29, 23, 25, 31, 25]\n",
      "[26, 29, 23, 25, 31, 28, 31, 28, 33, 18, 32, 30, 1, 21, 0, 6, 5, 10, 0, 4]\n",
      "[8, 33, 28, 31, 28, 2, 28, 31, 33, 30, 1, 3, 1, 3, 7, 1, 30, 33, 31, 32]\n",
      "[24, 31, 32, 33, 22, 33, 8, 0, 13, 2, 3, 12, 0, 6, 16, 5, 0, 12, 3, 13]\n",
      "[25, 23, 29, 26, 33, 23, 29, 26, 33, 22, 33, 28, 33, 9, 2, 27, 2, 13, 3, 0]\n",
      "[6, 4, 0, 1, 17, 0, 10, 4, 10, 4, 6, 4, 10, 5, 0, 5, 16, 6, 5, 16]\n",
      "[26, 33, 15, 33, 27, 2, 28, 31, 33, 23, 25, 23, 33, 32, 2, 13, 1, 19, 0, 13]\n",
      "[0, 11, 0, 8, 30, 33, 27, 24, 31, 25, 23, 25, 24, 27, 2, 8, 30, 33, 19, 33]\n",
      "[29, 26, 29, 33, 8, 32, 18, 33, 15, 32, 15, 32, 14, 33, 18, 32, 20, 33, 27, 2]\n",
      "[30, 32, 29, 26, 29, 33, 28, 31, 0, 4, 10, 4, 6, 0, 13, 2, 13, 33, 29, 23]\n",
      "[3, 2, 3, 12, 3, 2, 27, 2, 3, 7, 2, 3, 12, 3, 0, 19, 0, 2, 32, 23]\n",
      "[27, 24, 27, 23, 25, 31, 32, 30, 33, 19, 1, 21, 1, 3, 2, 0, 21, 0, 21, 1]\n",
      "[28, 2, 32, 31, 32, 30, 1, 17, 0, 5, 10, 4, 0, 7, 2, 13, 33, 19, 33, 9]\n",
      "[4, 0, 21, 0, 10, 5, 6, 4, 6, 5, 16, 5, 16, 6, 16, 6, 0, 3, 0, 4]\n",
      "[10, 4, 6, 16, 6, 16, 6, 4, 10, 0, 2, 27, 23, 25, 23, 33, 9, 33, 32, 31]\n",
      "[16, 5, 6, 0, 3, 0, 4, 10, 4, 6, 5, 6, 4, 10, 0, 19, 0, 19, 33, 27]\n",
      "[5, 0, 4, 6, 4, 6, 4, 0, 10, 5, 16, 6, 16, 5, 16, 6, 16, 6, 4, 6]\n",
      "[22, 33, 14, 32, 30, 8, 0, 1, 7, 2, 28, 33, 18, 33, 13, 0, 8, 30, 32, 33]\n",
      "[4, 6, 0, 6, 4, 0, 13, 0, 31, 25, 23, 33, 8, 2, 27, 33, 22, 33, 32, 33]\n",
      "[22, 33, 14, 33, 27, 2, 0, 10, 4, 0, 6, 16, 6, 0, 31, 28, 2, 1, 2, 28]\n",
      "[26, 33, 8, 2, 8, 33, 28, 33, 15, 32, 20, 33, 19, 33, 14, 32, 18, 32, 2, 9]\n",
      "[20, 32, 2, 8, 30, 1, 19, 1, 0, 4, 6, 5, 10, 4, 0, 17, 1, 30, 1, 2]\n",
      "[20, 32, 2, 7, 1, 17, 0, 12, 3, 13, 3, 0, 1, 0, 6, 0, 11, 0, 8, 2]\n",
      "[4, 6, 16, 5, 0, 8, 0, 8, 0, 7, 3, 0, 1, 30, 8, 0, 8, 2, 9, 2]\n",
      "[21, 0, 5, 6, 5, 10, 0, 13, 33, 13, 0, 8, 0, 12, 0, 19, 1, 3, 2, 7]\n",
      "[1, 0, 8, 33, 29, 32, 15, 33, 26, 33, 22, 32, 15, 32, 22, 33, 31, 25, 24, 25]\n",
      "[28, 31, 32, 31, 32, 8, 2, 3, 13, 2, 1, 3, 1, 13, 3, 0, 6, 0, 17, 0]\n",
      "[31, 33, 14, 32, 29, 26, 29, 26, 33, 23, 33, 28, 2, 7, 1, 17, 0, 19, 0, 5]\n",
      "[25, 24, 27, 33, 28, 33, 31, 0, 8, 33, 31, 0, 7, 2, 32, 22, 32, 8, 33, 13]\n",
      "[22, 32, 22, 33, 23, 32, 29, 26, 29, 26, 29, 33, 9, 33, 13, 2, 3, 12, 0, 6]\n",
      "[2, 27, 33, 29, 23, 29, 26, 29, 32, 29, 33, 31, 25, 23, 33, 31, 24, 25, 31, 33]\n",
      "[0, 21, 0, 11, 0, 5, 0, 12, 0, 11, 0, 4, 0, 10, 4, 10, 0, 31, 28, 31]\n",
      "[5, 10, 4, 0, 8, 30, 32, 8, 33, 13, 3, 12, 0, 13, 33, 14, 32, 22, 33, 26]\n",
      "[1, 19, 1, 13, 0, 19, 33, 28, 33, 27, 23, 25, 24, 27, 2, 7, 0, 3, 7, 1]\n",
      "[31, 32, 14, 33, 8, 2, 27, 33, 15, 33, 13, 3, 7, 1, 0, 2, 0, 11, 0, 17]\n",
      "[21, 0, 8, 32, 23, 32, 33, 18, 33, 26, 33, 14, 32, 14, 32, 22, 33, 13, 0, 4]\n",
      "[18, 32, 23, 29, 32, 20, 32, 18, 33, 13, 3, 1, 21, 1, 13, 2, 13, 1, 21, 0]\n",
      "[5, 16, 5, 0, 11, 0, 19, 33, 30, 32, 22, 33, 23, 33, 23, 32, 15, 33, 29, 32]\n",
      "[29, 33, 31, 33, 23, 25, 24, 25, 23, 33, 29, 26, 29, 26, 33, 29, 32, 14, 32, 2]\n",
      "[29, 33, 15, 33, 22, 33, 29, 23, 33, 18, 33, 14, 33, 18, 33, 13, 0, 8, 33, 31]\n",
      "[3, 0, 6, 0, 3, 12, 0, 10, 5, 0, 3, 13, 1, 3, 12, 0, 8, 32, 14, 33]\n",
      "[18, 32, 29, 23, 25, 23, 25, 23, 32, 29, 23, 27, 24, 25, 31, 24, 31, 33, 32, 33]\n",
      "[12, 3, 12, 0, 3, 0, 11, 0, 10, 0, 4, 0, 2, 27, 2, 0, 6, 16, 5, 6]\n",
      "[10, 0, 17, 0, 17, 0, 3, 7, 2, 28, 31, 25, 24, 25, 24, 25, 31, 28, 31, 28]\n",
      "[0, 11, 0, 7, 3, 13, 1, 2, 27, 23, 33, 9, 2, 1, 19, 0, 7, 1, 17, 0]\n",
      "[6, 5, 16, 5, 16, 5, 0, 2, 28, 33, 27, 23, 33, 23, 27, 2, 13, 1, 3, 0]\n",
      "[11, 0, 11, 0, 12, 3, 2, 8, 30, 32, 23, 29, 32, 15, 32, 15, 33, 32, 2, 1]\n",
      "[3, 7, 0, 7, 0, 8, 0, 6, 16, 6, 4, 0, 8, 0, 4, 6, 5, 10, 4, 10]\n",
      "[0, 4, 0, 17, 0, 10, 0, 13, 2, 8, 2, 27, 24, 27, 2, 0, 1, 30, 32, 29]\n",
      "[26, 33, 31, 24, 31, 32, 31, 0, 13, 1, 13, 33, 8, 33, 22, 32, 31, 33, 22, 33]\n",
      "[30, 33, 31, 32, 33, 22, 32, 29, 33, 22, 32, 31, 24, 27, 33, 28, 2, 1, 19, 0]\n",
      "[19, 1, 21, 0, 17, 0, 3, 12, 3, 7, 1, 2, 1, 21, 1, 0, 3, 13, 3, 0]\n",
      "[9, 33, 29, 23, 32, 22, 33, 20, 32, 31, 0, 13, 2, 13, 33, 28, 31, 0, 21, 0]\n",
      "[23, 27, 23, 29, 23, 27, 2, 9, 33, 22, 33, 13, 0, 8, 30, 33, 32, 14, 32, 31]\n",
      "[18, 32, 23, 32, 22, 32, 31, 25, 24, 31, 28, 2, 27, 2, 27, 23, 27, 23, 33, 32]\n",
      "[8, 33, 20, 32, 15, 32, 14, 32, 2, 8, 2, 0, 2, 8, 32, 31, 25, 31, 33, 26]\n",
      "[9, 33, 20, 32, 30, 33, 30, 32, 15, 33, 8, 0, 31, 32, 15, 33, 22, 33, 8, 32]\n",
      "[12, 3, 2, 7, 1, 17, 0, 10, 4, 10, 4, 10, 0, 8, 33, 32, 22, 32, 18, 32]\n",
      "[28, 33, 19, 33, 13, 3, 0, 8, 33, 20, 32, 14, 32, 18, 32, 2, 1, 17, 0, 21]\n",
      "[31, 32, 14, 32, 23, 29, 23, 25, 23, 33, 19, 1, 17, 0, 1, 3, 7, 3, 2, 9]\n",
      "[29, 33, 32, 22, 33, 14, 33, 26, 29, 26, 33, 32, 30, 32, 14, 33, 30, 33, 8, 33]\n",
      "[8, 33, 26, 29, 32, 33, 15, 33, 22, 33, 28, 2, 32, 30, 1, 7, 3, 12, 3, 0]\n",
      "[17, 0, 17, 1, 7, 1, 19, 0, 19, 33, 29, 23, 32, 8, 33, 9, 2, 0, 17, 0]\n",
      "[20, 33, 26, 29, 32, 30, 1, 3, 2, 28, 2, 27, 23, 33, 13, 3, 0, 8, 33, 32]\n",
      "[28, 31, 33, 20, 32, 15, 32, 23, 29, 26, 29, 33, 20, 32, 30, 1, 30, 33, 28, 31]\n",
      "[9, 33, 19, 33, 9, 33, 32, 14, 33, 23, 32, 31, 24, 31, 28, 2, 28, 31, 25, 23]\n",
      "[5, 6, 5, 10, 4, 0, 7, 0, 2, 8, 33, 19, 0, 8, 0, 3, 7, 3, 12, 0]\n",
      "[2, 1, 21, 1, 21, 0, 7, 1, 21, 0, 17, 1, 30, 8, 33, 27, 2, 28, 31, 33]\n",
      "[17, 0, 10, 5, 10, 0, 5, 16, 6, 4, 0, 17, 1, 19, 33, 28, 33, 32, 18, 32]\n",
      "[20, 33, 29, 33, 14, 33, 23, 25, 24, 27, 24, 31, 25, 31, 24, 27, 24, 27, 2, 8]\n",
      "[0, 2, 27, 23, 25, 24, 25, 23, 25, 31, 25, 24, 27, 23, 29, 26, 33, 19, 0, 3]\n",
      "[11, 0, 8, 2, 9, 2, 0, 4, 10, 0, 5, 16, 5, 0, 7, 0, 2, 13, 3, 7]\n",
      "[21, 0, 2, 0, 7, 0, 11, 0, 19, 1, 21, 0, 31, 28, 2, 0, 13, 0, 7, 1]\n"
     ]
    }
   ],
   "source": [
    "# Iterate over each random walk sequence in the dataset\n",
    "for seq in dataset:\n",
    "    # Print the current random walk sequence\n",
    "    print(seq)"
   ]
  },
  {
   "cell_type": "markdown",
   "metadata": {
    "id": "KStE4Z0hBAEF"
   },
   "source": [
    "## 4.2. Run DeepWalk"
   ]
  },
  {
   "cell_type": "code",
   "execution_count": 26,
   "metadata": {
    "ExecuteTime": {
     "end_time": "2023-09-13T10:03:25.913458200Z",
     "start_time": "2023-09-13T10:03:25.787885600Z"
    },
    "id": "8QT1cXP4-fZQ"
   },
   "outputs": [],
   "source": [
    "# Import the Word2Vec class from the gensim library\n",
    "from gensim.models import Word2Vec\n",
    "\n",
    "# Create a Word2Vec model using the dataset of random walks\n",
    "deepwalk = Word2Vec(\n",
    "    dataset,        # The dataset of random walks\n",
    "    vector_size=300,  # The size of the word vectors\n",
    "    epochs=100       # The number of training epochs\n",
    ")"
   ]
  },
  {
   "cell_type": "code",
   "execution_count": 27,
   "metadata": {
    "ExecuteTime": {
     "end_time": "2023-09-13T10:21:58.129081500Z",
     "start_time": "2023-09-13T10:21:58.121267400Z"
    }
   },
   "outputs": [
    {
     "data": {
      "text/plain": [
       "array([-4.28042077e-02,  1.18562706e-01,  2.33856160e-02, -9.16411057e-02,\n",
       "       -6.48594135e-03, -1.80745661e-01, -3.59608121e-02,  2.57204026e-01,\n",
       "        7.34632313e-02, -7.11698309e-02,  1.26440614e-01, -1.44184858e-01,\n",
       "       -1.24751620e-01,  1.37787819e-01, -3.50137204e-02,  1.73143987e-02,\n",
       "        7.72830695e-02, -6.73723593e-02, -8.71455595e-02, -3.89006957e-02,\n",
       "       -1.10568672e-01,  5.74580319e-02, -1.59772076e-02,  2.14255229e-01,\n",
       "       -1.79783672e-01,  7.13987127e-02, -7.08623882e-03,  1.44568801e-01,\n",
       "       -9.53725055e-02,  2.03037206e-02, -1.32281529e-02, -1.09520592e-01,\n",
       "        6.31754622e-02, -2.94006970e-02, -7.09780231e-02,  1.22852184e-01,\n",
       "        7.39577338e-02, -1.12287201e-01,  7.10068047e-02,  3.19490023e-02,\n",
       "       -3.65500487e-02, -3.05717904e-02,  1.19634643e-02, -6.28316253e-02,\n",
       "        1.82939976e-01,  6.98080212e-02, -1.16281077e-01,  3.63783687e-02,\n",
       "        9.13951769e-02,  3.66724376e-03,  4.91487049e-02,  1.15507245e-02,\n",
       "        2.07172204e-02,  1.14054512e-02,  3.20759192e-02,  5.65813370e-02,\n",
       "        7.72998063e-03,  6.66209087e-02,  2.02535182e-01,  4.86808829e-03,\n",
       "       -6.03074767e-02, -1.01547323e-01, -3.57612781e-02,  1.57825530e-01,\n",
       "        6.88727871e-02,  5.81431501e-02, -2.80241612e-02,  1.15421675e-01,\n",
       "       -1.20238282e-01,  7.02912360e-02,  7.98648447e-02,  9.06522349e-02,\n",
       "        1.11149646e-01, -1.72509059e-01,  1.62774846e-01, -6.65667560e-03,\n",
       "       -9.20291431e-03, -6.38984144e-02,  3.23508941e-02, -1.66767299e-01,\n",
       "       -1.20013729e-01, -4.75751124e-02, -4.69256602e-02,  2.90497631e-01,\n",
       "        5.08544259e-02, -1.67056092e-03,  2.61598639e-02, -3.92132327e-02,\n",
       "        1.44249916e-01,  1.08220018e-01, -2.25547738e-02, -6.70055524e-02,\n",
       "        2.25220118e-02, -1.16616309e-01,  1.56130686e-01,  7.13712946e-02,\n",
       "        7.44944662e-02,  7.29929004e-03,  3.75386998e-02,  4.77504693e-02,\n",
       "        3.91601473e-02,  6.78187311e-02, -1.17826194e-01, -4.30811085e-02,\n",
       "       -3.66794318e-02, -6.32487684e-02, -6.55344427e-02,  1.00557856e-01,\n",
       "       -6.62398860e-02,  7.08202831e-03, -2.78995425e-01, -6.62760511e-02,\n",
       "       -8.47719312e-02, -1.64463874e-02, -5.44843152e-02,  9.14286077e-02,\n",
       "       -2.54484378e-02,  8.45542029e-02,  7.89870918e-02, -3.42118204e-01,\n",
       "        1.29595608e-01,  4.13490199e-02,  1.86268970e-01, -1.58809777e-02,\n",
       "       -1.70482751e-02,  1.05583064e-01, -1.26156524e-01, -2.03341216e-01,\n",
       "       -1.12016415e-02,  1.22268565e-01,  1.80812016e-01,  9.58999991e-02,\n",
       "        3.27291101e-01, -1.82362184e-01,  7.83372894e-02,  1.13031663e-01,\n",
       "       -6.95629269e-02, -1.01695834e-02, -1.17783926e-01, -8.70679095e-02,\n",
       "        4.14129499e-05, -8.51011872e-02, -8.81802142e-02,  1.57696277e-01,\n",
       "       -6.89342967e-04, -6.68392479e-02, -1.08500436e-01, -5.31938262e-02,\n",
       "        7.25452006e-02, -1.52033474e-02, -3.46352011e-02, -1.62891835e-01,\n",
       "        5.69116436e-02, -7.87595287e-02,  7.97561780e-02, -1.49187520e-02,\n",
       "       -1.05049059e-01, -1.35565937e-01, -1.27627090e-01,  4.14083153e-02,\n",
       "        9.20001641e-02,  4.35347445e-02,  3.17309052e-02,  1.59171745e-01,\n",
       "       -2.65299659e-02,  8.65000337e-02, -5.80439121e-02,  6.33486509e-02,\n",
       "       -4.91747037e-02,  1.09562054e-01,  2.39636730e-02,  5.62192909e-02,\n",
       "        8.13219100e-02,  1.21443868e-01,  1.59921423e-01, -4.28933604e-03,\n",
       "       -2.90086139e-02, -7.56075829e-02,  4.81370538e-02, -7.39765237e-04,\n",
       "       -6.00703992e-02, -3.52104455e-02, -1.35123342e-01,  2.60570273e-02,\n",
       "       -9.45110545e-02, -9.51586589e-02,  2.85043836e-01,  1.61672652e-01,\n",
       "       -6.93809688e-02, -8.23598802e-02,  2.75310487e-01,  1.54150769e-01,\n",
       "        6.39806613e-02, -3.09134666e-02, -7.26619363e-02, -7.37536326e-02,\n",
       "       -4.58990298e-02, -2.82488428e-02,  6.35603536e-03,  3.18575911e-02,\n",
       "        6.26074448e-02,  8.89932886e-02,  8.55224282e-02, -1.51844382e-01,\n",
       "        1.84136227e-01, -1.04384035e-01,  1.58045948e-01,  1.04811482e-01,\n",
       "       -6.71422631e-02, -1.17517419e-01, -1.78217679e-01, -2.53775716e-01,\n",
       "       -5.79358339e-02, -1.87983871e-01,  6.82499483e-02, -1.43205062e-01,\n",
       "       -9.06997100e-02, -1.77866846e-01,  3.58539671e-02, -2.00016126e-01,\n",
       "        2.92854421e-02,  5.78444637e-02,  6.42335266e-02, -7.75606260e-02,\n",
       "       -7.50480443e-02, -3.75341140e-02,  1.03395894e-01,  1.44756418e-02,\n",
       "        2.70943139e-02, -3.32215033e-03,  2.86711920e-02, -5.90568557e-02,\n",
       "       -2.52960902e-02,  2.92142536e-02, -8.45893174e-02,  4.74144034e-02,\n",
       "        7.49425367e-02,  9.35654715e-02,  6.55514747e-02, -1.65278926e-01,\n",
       "        7.48709366e-02, -1.14796184e-01, -7.30038434e-03,  5.39190043e-03,\n",
       "        8.56072754e-02,  1.68779716e-02,  2.02294942e-02, -2.28041559e-02,\n",
       "        3.32493782e-02,  4.51584905e-02,  5.56804612e-02,  1.93736218e-02,\n",
       "        2.17960238e-01, -1.55202433e-01, -8.74539837e-02, -1.22602753e-01,\n",
       "        1.91289440e-01,  6.64232895e-02, -1.10939503e-01, -6.26886636e-02,\n",
       "        7.24434704e-02, -8.06452110e-02,  8.56142417e-02, -1.42593116e-01,\n",
       "       -1.07748546e-01,  3.75115983e-02,  4.74124886e-02,  1.28883466e-01,\n",
       "       -1.83229402e-01, -2.54969997e-03, -8.04302022e-02,  1.37631120e-02,\n",
       "        8.84460211e-02,  1.43171087e-01, -4.45617586e-02,  4.62117679e-02,\n",
       "        1.14284404e-01,  1.59797907e-01, -7.13659674e-02,  1.11167140e-01,\n",
       "        1.21217379e-02,  9.17212218e-02, -8.34972709e-02, -4.35050530e-03,\n",
       "        8.59277472e-02, -2.65119709e-02,  6.12599477e-02,  4.90584709e-02,\n",
       "        8.51567760e-02, -3.03756222e-02,  2.01055929e-01,  9.02280286e-02,\n",
       "        7.80344903e-02,  1.78382233e-01,  2.18278125e-01,  1.02222286e-01,\n",
       "       -1.01067528e-01, -9.28052366e-02, -4.55233306e-02, -1.37654990e-01],\n",
       "      dtype=float32)"
      ]
     },
     "execution_count": 27,
     "metadata": {},
     "output_type": "execute_result"
    }
   ],
   "source": [
    "# Retrieve the word vector for the node with index 1 from the Word2Vec model\n",
    "deepwalk.wv[1]"
   ]
  },
  {
   "cell_type": "markdown",
   "metadata": {},
   "source": [
    "## 4.3. Visualize DeepWalk"
   ]
  },
  {
   "cell_type": "code",
   "execution_count": 29,
   "metadata": {},
   "outputs": [
    {
     "data": {
      "image/png": "[encoded data removed]",
      "text/plain": [
       "<Figure size 640x480 with 1 Axes>"
      ]
     },
     "metadata": {},
     "output_type": "display_data"
    }
   ],
   "source": [
    "from sklearn.manifold import TSNE\n",
    "import matplotlib.pyplot as plt\n",
    "import numpy as np\n",
    "\n",
    "deepwalk_x = np.stack([deepwalk.wv[idx] for idx in range(34)])\n",
    "deepwalk_y = np.stack([node[1][\"class\"] for node in karate_graph.nodes(data=True)])\n",
    "\n",
    "\n",
    "# Perform t-SNE on the DeepWalk embeddings\n",
    "tsne = TSNE(n_components=2)\n",
    "tsne_deepwalk = tsne.fit_transform(deepwalk_x)\n",
    "\n",
    "# Plot the t-SNE visualization\n",
    "plt.scatter(tsne_deepwalk[:, 0], tsne_deepwalk[:, 1], c=deepwalk_y)\n",
    "plt.title(\"t-SNE Visualization of DeepWalk Embeddings\")\n",
    "plt.show()"
   ]
  },
  {
   "cell_type": "markdown",
   "metadata": {
    "id": "7egKpseqxX5g"
   },
   "source": [
    "# 5. Node2Vec"
   ]
  },
  {
   "cell_type": "markdown",
   "metadata": {
    "id": "f6Lp-TFlBlzA"
   },
   "source": [
    "## 5.1. Random Walk for Node2Vec"
   ]
  },
  {
   "cell_type": "code",
   "execution_count": 30,
   "metadata": {
    "ExecuteTime": {
     "end_time": "2023-09-13T10:03:25.923150800Z",
     "start_time": "2023-09-13T10:03:25.916942900Z"
    },
    "id": "6Iu41Jyg88hr"
   },
   "outputs": [],
   "source": [
    "def node2vec_walk(G, start_node, num_steps, p, q):\n",
    "    # Initialize the walk with the start node\n",
    "    walk = [start_node]\n",
    "\n",
    "    # Perform the walk for the specified number of steps\n",
    "    for _ in range(num_steps - 1):\n",
    "        # Get the current node (last node in the walk)\n",
    "        current_node = walk[-1]\n",
    "        # Get the neighbors of the current node\n",
    "        neighbors = list(G.neighbors(current_node))\n",
    "\n",
    "        if len(neighbors) > 0:\n",
    "            # Check if the walk has just started\n",
    "            if len(walk) == 1:\n",
    "                next_node = random.choice(neighbors)\n",
    "            else:\n",
    "                # Otherwise, choose the next node based on the weighted choice\n",
    "                next_node = node2vec_weighted_choice(G, current_node, walk[-2], p, q)\n",
    "\n",
    "            # Append the chosen node to the walk\n",
    "            walk.append(next_node)\n",
    "        else:\n",
    "            # If there are no neighbors, break the loop \n",
    "            break\n",
    "    # Return the completed walk\n",
    "    return walk\n",
    "\n",
    "def node2vec_weighted_choice(G, current_node, previous_node, p, q):\n",
    "    # Get the neighbors of the current node\n",
    "    neighbors = list(G.neighbors(current_node))\n",
    "    unnormalized_weights = []\n",
    "\n",
    "    # Calculate unnormalized weights for each neighbor\n",
    "    for neighbor in neighbors:\n",
    "        if neighbor == previous_node:\n",
    "            # If the neighbor is the previous node, apply the return parameter p\n",
    "            unnormalized_weights.append(1.0 / p)\n",
    "        elif G.has_edge(current_node, neighbor):\n",
    "            # If the neighbor is connected to the current node, weight is 1\n",
    "            unnormalized_weights.append(1.0)\n",
    "        else:\n",
    "            # Otherwise, apply the in-out parameter q\n",
    "            unnormalized_weights.append(1.0 / q)\n",
    "\n",
    "    # Normalize the weights\n",
    "    norm_weights = [weight / sum(unnormalized_weights) for weight in unnormalized_weights]\n",
    "    # Choose the next node based on the normalized weights\n",
    "    return random.choices(neighbors, weights=norm_weights)[0]"
   ]
  },
  {
   "cell_type": "code",
   "execution_count": 42,
   "metadata": {},
   "outputs": [],
   "source": [
    "import random\n",
    "import networkx as nx\n",
    "import matplotlib.pyplot as plt\n",
    "from sklearn.manifold import TSNE\n",
    "import numpy as np\n",
    "from gensim.models import Word2Vec\n",
    "\n",
    "# Load the Karate Club dataset\n",
    "karate_graph = nx.karate_club_graph()\n",
    "\n",
    "# Generate a list of 100 random walks on the karate_graph\n",
    "# Keep the nodes as integers while performing random walks\n",
    "dataset2 = [\n",
    "    [str(node) for node in node2vec_walk(  # Convert nodes to string just for Word2Vec\n",
    "        karate_graph,  \n",
    "        start_node=random.choice(list(karate_graph.nodes())),  # Use integer nodes\n",
    "        num_steps=10,  \n",
    "        p=0.8,  \n",
    "        q=0.2  \n",
    "    )]\n",
    "    for _ in range(100)\n",
    "]\n",
    "\n",
    "# Train the Word2Vec model using the random walks generated\n",
    "node2vec_model = Word2Vec(\n",
    "    sentences=dataset2,    \n",
    "    vector_size=200,       \n",
    "    window=5,              \n",
    "    min_count=1,           \n",
    "    sg=1,                  \n",
    "    epochs=100             \n",
    ")\n",
    "\n",
    "# Get the node embeddings learned by the Word2Vec model\n",
    "# Convert node to string while accessing the embeddings\n",
    "node_embeddings = np.array([node2vec_model.wv[str(node)] for node in karate_graph.nodes()])\n"
   ]
  },
  {
   "cell_type": "markdown",
   "metadata": {},
   "source": [
    "## 5.2. Visualization"
   ]
  },
  {
   "cell_type": "code",
   "execution_count": 44,
   "metadata": {},
   "outputs": [
    {
     "data": {
      "image/png": "[encoded data removed]",
      "text/plain": [
       "<Figure size 1000x700 with 1 Axes>"
      ]
     },
     "metadata": {},
     "output_type": "display_data"
    }
   ],
   "source": [
    "# Reduce dimensions using t-SNE to 2D for visualization\n",
    "tsne = TSNE(n_components=2, random_state=42)\n",
    "node_embeddings_2d = tsne.fit_transform(node_embeddings)\n",
    "\n",
    "# Visualization\n",
    "plt.figure(figsize=(10, 7))\n",
    "plt.scatter(node_embeddings_2d[:, 0], node_embeddings_2d[:, 1], s=200, c=list(karate_graph.nodes()), cmap='viridis', alpha=0.7)\n",
    "\n",
    "# Annotate nodes with their labels\n",
    "for i, node in enumerate(karate_graph.nodes()):\n",
    "    plt.annotate(str(node), (node_embeddings_2d[i, 0], node_embeddings_2d[i, 1]), textcoords=\"offset points\", xytext=(0, 10), ha='center')\n",
    "\n",
    "plt.title(\"t-SNE visualization of node2vec\")\n",
    "plt.show()"
   ]
  },
  {
   "cell_type": "markdown",
   "metadata": {
    "id": "e78t1TMLNQCT"
   },
   "source": [
    "# 6. LINE"
   ]
  },
  {
   "cell_type": "markdown",
   "metadata": {
    "id": "9hCshZM6NWvU"
   },
   "source": [
    "## 6.1. Alias Sampling"
   ]
  },
  {
   "cell_type": "code",
   "execution_count": 51,
   "metadata": {
    "ExecuteTime": {
     "end_time": "2023-09-13T10:03:26.208905300Z",
     "start_time": "2023-09-13T10:03:26.053090200Z"
    },
    "executionInfo": {
     "elapsed": 336,
     "status": "ok",
     "timestamp": 1694285070863,
     "user": {
      "displayName": "이주호",
      "userId": "15914417090480631241"
     },
     "user_tz": -540
    },
    "id": "UODB94CHNP1M"
   },
   "outputs": [],
   "source": [
    "import random\n",
    "from decimal import *\n",
    "import numpy as np\n",
    "import collections\n",
    "from tqdm import tqdm\n",
    "import matplotlib.pyplot as plt\n",
    "\n",
    "class VoseAlias:\n",
    "    def __init__(self, dist):\n",
    "        \"\"\"\n",
    "        (VoseAlias, dict) -> NoneType\n",
    "        \"\"\"\n",
    "        self.dist = dist\n",
    "        self.alias_initialisation()\n",
    "\n",
    "    def alias_initialisation(self):\n",
    "        \"\"\"\n",
    "        Construct probability and alias tables for the distribution\n",
    "        \"\"\"\n",
    "        # Initialise variables\n",
    "        n = len(self.dist)\n",
    "        self.table_prob = {}   # probability table\n",
    "        self.table_alias = {}  # alias table\n",
    "        scaled_prob = {}       # scaled probabilities\n",
    "        small = []             # stack for probabilities smaller that 1\n",
    "        large = []             # stack for probabilities greater than or equal to 1\n",
    "\n",
    "        # Construct and sort the scaled probabilities into their appropriate stacks\n",
    "        print(\"1/2. Building and sorting scaled probabilities for alias table...\")\n",
    "        for o, p in tqdm(self.dist.items()):\n",
    "            scaled_prob[o] = Decimal(p) * n\n",
    "\n",
    "            if scaled_prob[o] < 1:\n",
    "                small.append(o)\n",
    "            else:\n",
    "                large.append(o)\n",
    "\n",
    "        print(\"2/2. Building alias table...\")\n",
    "        # Construct the probability and alias tables\n",
    "        while small and large:\n",
    "            s = small.pop()\n",
    "            l = large.pop()\n",
    "\n",
    "            self.table_prob[s] = scaled_prob[s]\n",
    "            self.table_alias[s] = l\n",
    "\n",
    "            scaled_prob[l] = (scaled_prob[l] + scaled_prob[s]) - Decimal(1)\n",
    "\n",
    "            if scaled_prob[l] < 1:\n",
    "                small.append(l)\n",
    "            else:\n",
    "                large.append(l)\n",
    "\n",
    "        # The remaining outcomes (of one stack) must have probability 1\n",
    "        while large:\n",
    "            self.table_prob[large.pop()] = Decimal(1)\n",
    "\n",
    "        while small:\n",
    "            self.table_prob[small.pop()] = Decimal(1)\n",
    "        self.listprobs = list(self.table_prob)\n",
    "\n",
    "    def alias_generation(self):\n",
    "        \"\"\"\n",
    "        Yields a random outcome from the distribution.\n",
    "        \"\"\"\n",
    "        # Determine which column of table_prob to inspect\n",
    "        col = random.choice(self.listprobs)\n",
    "        # Determine which outcome to pick in that column\n",
    "        if self.table_prob[col] >= random.uniform(0, 1):\n",
    "            return col\n",
    "        else:\n",
    "            return self.table_alias[col]\n",
    "\n",
    "    def sample_n(self, size):\n",
    "        \"\"\"\n",
    "        Yields a sample of size n from the distribution, and print the results to stdout.\n",
    "        \"\"\"\n",
    "        for i in range(size):\n",
    "            yield self.alias_generation()\n",
    "\n",
    "\n",
    "def makeDist(graph: nx.Graph, power=0.75):\n",
    "\n",
    "    edgedistdict = collections.defaultdict(int)\n",
    "    nodedistdict = collections.defaultdict(int)\n",
    "\n",
    "    weightsdict = collections.defaultdict(int)\n",
    "    nodedegrees = collections.defaultdict(int)\n",
    "\n",
    "    weightsum = 0\n",
    "    negprobsum = 0\n",
    "\n",
    "    nlines = 0\n",
    "\n",
    "    maxindex = 0\n",
    "\n",
    "    # Iterate over all edges in the graph\n",
    "    for edge in tqdm(graph.edges(data=True), total=nlines):\n",
    "        node1, node2, weight = edge[0], edge[1], edge[2][\"weight\"]\n",
    "\n",
    "        edgedistdict[tuple([node1, node2])] = weight\n",
    "        nodedistdict[node1] += weight\n",
    "\n",
    "        weightsdict[tuple([node1, node2])] = weight\n",
    "        nodedegrees[node1] += weight\n",
    "\n",
    "        weightsum += weight\n",
    "        negprobsum += np.power(weight, power)\n",
    "\n",
    "        if node1 > maxindex:\n",
    "            maxindex = node1\n",
    "        elif node2 > maxindex:\n",
    "            maxindex = node2\n",
    "\n",
    "    # Normalize node distribution dictionary\n",
    "    for node, outdegree in nodedistdict.items():\n",
    "        nodedistdict[node] = np.power(outdegree, power) / negprobsum\n",
    "\n",
    "    # Normalize edge distribution dictionary\n",
    "    for edge, weight in edgedistdict.items():\n",
    "        edgedistdict[edge] = weight / weightsum\n",
    "\n",
    "    return edgedistdict, nodedistdict, weightsdict, nodedegrees, maxindex\n",
    "\n",
    "\n",
    "def negSampleBatch(sourcenode, targetnode, negsamplesize, weights,\n",
    "                   nodedegrees, nodesaliassampler, t=10e-3):\n",
    "    \"\"\"\n",
    "    For generating negative samples.\n",
    "    \"\"\"\n",
    "    negsamples = 0\n",
    "    while negsamples < negsamplesize:\n",
    "        samplednode = nodesaliassampler.sample_n(1)\n",
    "        if (samplednode == sourcenode) or (samplednode == targetnode):\n",
    "            continue\n",
    "        else:\n",
    "            negsamples += 1\n",
    "            yield samplednode\n",
    "\n",
    "\n",
    "def makeData(samplededges, negsamplesize, weights, nodedegrees, nodesaliassampler):\n",
    "    for e in samplededges:\n",
    "        sourcenode, targetnode = e[0], e[1]\n",
    "        negnodes = []\n",
    "        for negsample in negSampleBatch(sourcenode, targetnode, negsamplesize,\n",
    "                                        weights, nodedegrees, nodesaliassampler):\n",
    "            for node in negsample:\n",
    "                negnodes.append(node)\n",
    "        yield [e[0], e[1]] + negnodes"
   ]
  },
  {
   "cell_type": "markdown",
   "metadata": {
    "id": "IzPUT7syNo_1"
   },
   "source": [
    "## 6.2. LINE Model"
   ]
  },
  {
   "cell_type": "code",
   "execution_count": 52,
   "metadata": {
    "ExecuteTime": {
     "end_time": "2023-09-13T10:03:26.213566500Z",
     "start_time": "2023-09-13T10:03:26.208905300Z"
    },
    "executionInfo": {
     "elapsed": 433,
     "status": "ok",
     "timestamp": 1694285273557,
     "user": {
      "displayName": "이주호",
      "userId": "15914417090480631241"
     },
     "user_tz": -540
    },
    "id": "5PnFMgwKNYyY"
   },
   "outputs": [],
   "source": [
    "import torch\n",
    "import torch.nn as nn\n",
    "import torch.nn.functional as F\n",
    "\n",
    "\n",
    "class LINE(nn.Module):\n",
    "    def __init__(self, size, embed_dim=128, order=1):\n",
    "        super(LINE, self).__init__()\n",
    "\n",
    "        # Ensure the order is either 1 or 2\n",
    "        assert order in [1, 2], print(\"Order should either be int(1) or int(2)\")\n",
    "\n",
    "        # Set embedding dimension and order\n",
    "        self.embed_dim = embed_dim\n",
    "        self.order = order\n",
    "\n",
    "        # Initialize node embeddings\n",
    "        self.nodes_embeddings = nn.Embedding(size, embed_dim)\n",
    "        \n",
    "        # If order is 2, initialize context node embeddings\n",
    "        if order == 2:\n",
    "            self.contextnodes_embeddings = nn.Embedding(size, embed_dim)\n",
    "            # Initialize context node embeddings with uniform distribution\n",
    "            self.contextnodes_embeddings.weight.data = self.contextnodes_embeddings.weight.data.uniform_(-.5, .5) / embed_dim\n",
    "\n",
    "        # Initialize node embeddings with uniform distribution\n",
    "        self.nodes_embeddings.weight.data = self.nodes_embeddings.weight.data.uniform_(-.5, .5) / embed_dim\n",
    "\n",
    "    def forward(self, v_i, v_j, negsamples, device):\n",
    "        # Get embeddings for input nodes and move to the specified device\n",
    "        v_i = self.nodes_embeddings(v_i).to(device)\n",
    "\n",
    "        # If order is 2, use context node embeddings for v_j and negative samples\n",
    "        if self.order == 2:\n",
    "            v_j = self.contextnodes_embeddings(v_j).to(device)\n",
    "            negativenodes = -self.contextnodes_embeddings(negsamples).to(device)\n",
    "\n",
    "        else:\n",
    "            # Otherwise, use node embeddings for v_j and negative samples\n",
    "            v_j = self.nodes_embeddings(v_j).to(device)\n",
    "            negativenodes = -self.nodes_embeddings(negsamples).to(device)\n",
    "\n",
    "        # Compute the positive batch by element-wise multiplication and log-sigmoid\n",
    "        mulpositivebatch = torch.mul(v_i, v_j)\n",
    "        positivebatch = F.logsigmoid(torch.sum(mulpositivebatch, dim=1))\n",
    "\n",
    "        # Compute the negative batch by element-wise multiplication and log-sigmoid\n",
    "        mulnegativebatch = torch.mul(v_i.view(len(v_i), 1, self.embed_dim), negativenodes)\n",
    "        negativebatch = torch.sum(\n",
    "            F.logsigmoid(\n",
    "                torch.sum(mulnegativebatch, dim=2)\n",
    "            ),\n",
    "            dim=1)\n",
    "        \n",
    "        # Compute the loss as the sum of positive and negative batches\n",
    "        loss = positivebatch + negativebatch\n",
    "        # Return the mean negative loss        \n",
    "        return -torch.mean(loss)"
   ]
  },
  {
   "cell_type": "code",
   "execution_count": 53,
   "metadata": {
    "ExecuteTime": {
     "end_time": "2023-09-13T10:03:26.225342200Z",
     "start_time": "2023-09-13T10:03:26.213566500Z"
    }
   },
   "outputs": [],
   "source": [
    "# Iterate over all edges in the karate_graph\n",
    "for edge in karate_graph.edges():\n",
    "    # Set the weight of each edge to 1\n",
    "    karate_graph.edges[edge][\"weight\"] = 1"
   ]
  },
  {
   "cell_type": "code",
   "execution_count": 54,
   "metadata": {
    "ExecuteTime": {
     "end_time": "2023-09-13T10:03:28.303270100Z",
     "start_time": "2023-09-13T10:03:26.225342200Z"
    },
    "colab": {
     "base_uri": "https://localhost:8080/"
    },
    "executionInfo": {
     "elapsed": 4927,
     "status": "ok",
     "timestamp": 1694285305113,
     "user": {
      "displayName": "이주호",
      "userId": "15914417090480631241"
     },
     "user_tz": -540
    },
    "id": "xfJiGAsiNwGT",
    "outputId": "44703b89-f5c0-4a39-bf13-4da418b686b2"
   },
   "outputs": [
    {
     "name": "stderr",
     "output_type": "stream",
     "text": [
      "78it [00:00, 81829.84it/s]\n"
     ]
    },
    {
     "name": "stdout",
     "output_type": "stream",
     "text": [
      "1/2. Building and sorting scaled probabilities for alias table...\n"
     ]
    },
    {
     "name": "stderr",
     "output_type": "stream",
     "text": [
      "100%|██████████| 78/78 [00:00<00:00, 323596.15it/s]\n"
     ]
    },
    {
     "name": "stdout",
     "output_type": "stream",
     "text": [
      "2/2. Building alias table...\n",
      "1/2. Building and sorting scaled probabilities for alias table...\n"
     ]
    },
    {
     "name": "stderr",
     "output_type": "stream",
     "text": [
      "100%|██████████| 26/26 [00:00<00:00, 213827.26it/s]\n"
     ]
    },
    {
     "name": "stdout",
     "output_type": "stream",
     "text": [
      "2/2. Building alias table...\n",
      "33\n",
      "\n",
      "Training on cuda\n",
      "\n"
     ]
    },
    {
     "name": "stderr",
     "output_type": "stream",
     "text": [
      "Epoch 0: 100%|██████████| 7/7 [00:00<00:00, 396.30it/s]\n",
      "Epoch 1: 100%|██████████| 7/7 [00:00<00:00, 2111.18it/s]\n",
      "Epoch 2: 100%|██████████| 7/7 [00:00<00:00, 2292.86it/s]\n",
      "Epoch 3: 100%|██████████| 7/7 [00:00<00:00, 2439.56it/s]\n",
      "Epoch 4: 100%|██████████| 7/7 [00:00<00:00, 1772.74it/s]\n",
      "Epoch 5: 100%|██████████| 7/7 [00:00<00:00, 1883.15it/s]\n",
      "Epoch 6: 100%|██████████| 7/7 [00:00<00:00, 1986.34it/s]\n",
      "Epoch 7: 100%|██████████| 7/7 [00:00<00:00, 2123.39it/s]\n",
      "Epoch 8: 100%|██████████| 7/7 [00:00<00:00, 2524.08it/s]\n",
      "Epoch 9: 100%|██████████| 7/7 [00:00<00:00, 2337.59it/s]\n",
      "Epoch 10: 100%|██████████| 7/7 [00:00<00:00, 2448.92it/s]\n",
      "Epoch 11: 100%|██████████| 7/7 [00:00<00:00, 2644.10it/s]\n",
      "Epoch 12: 100%|██████████| 7/7 [00:00<00:00, 2620.97it/s]\n",
      "Epoch 13: 100%|██████████| 7/7 [00:00<00:00, 2526.04it/s]\n",
      "Epoch 14: 100%|██████████| 7/7 [00:00<00:00, 2375.41it/s]\n",
      "Epoch 15: 100%|██████████| 7/7 [00:00<00:00, 2414.48it/s]\n",
      "Epoch 16: 100%|██████████| 7/7 [00:00<00:00, 2525.82it/s]\n",
      "Epoch 17: 100%|██████████| 7/7 [00:00<00:00, 2559.29it/s]\n",
      "Epoch 18: 100%|██████████| 7/7 [00:00<00:00, 2270.35it/s]\n",
      "Epoch 19: 100%|██████████| 7/7 [00:00<00:00, 2460.41it/s]\n",
      "Epoch 20: 100%|██████████| 7/7 [00:00<00:00, 2380.62it/s]\n",
      "Epoch 21: 100%|██████████| 7/7 [00:00<00:00, 2605.62it/s]\n",
      "Epoch 22: 100%|██████████| 7/7 [00:00<00:00, 2601.23it/s]\n",
      "Epoch 23: 100%|██████████| 7/7 [00:00<00:00, 2585.43it/s]\n",
      "Epoch 24: 100%|██████████| 7/7 [00:00<00:00, 2243.97it/s]\n",
      "Epoch 25: 100%|██████████| 7/7 [00:00<00:00, 2572.07it/s]\n",
      "Epoch 26: 100%|██████████| 7/7 [00:00<00:00, 2656.06it/s]\n",
      "Epoch 27: 100%|██████████| 7/7 [00:00<00:00, 2600.54it/s]\n",
      "Epoch 28: 100%|██████████| 7/7 [00:00<00:00, 2199.75it/s]\n",
      "Epoch 29: 100%|██████████| 7/7 [00:00<00:00, 2174.66it/s]\n",
      "Epoch 30: 100%|██████████| 7/7 [00:00<00:00, 2484.57it/s]\n",
      "Epoch 31: 100%|██████████| 7/7 [00:00<00:00, 2493.43it/s]\n",
      "Epoch 32: 100%|██████████| 7/7 [00:00<00:00, 2241.23it/s]\n",
      "Epoch 33: 100%|██████████| 7/7 [00:00<00:00, 2388.75it/s]\n",
      "Epoch 34: 100%|██████████| 7/7 [00:00<00:00, 2370.05it/s]\n",
      "Epoch 35: 100%|██████████| 7/7 [00:00<00:00, 2435.11it/s]\n",
      "Epoch 36: 100%|██████████| 7/7 [00:00<00:00, 2561.07it/s]\n",
      "Epoch 37: 100%|██████████| 7/7 [00:00<00:00, 1619.07it/s]\n",
      "Epoch 38: 100%|██████████| 7/7 [00:00<00:00, 1815.49it/s]\n",
      "Epoch 39: 100%|██████████| 7/7 [00:00<00:00, 2184.86it/s]\n",
      "Epoch 40: 100%|██████████| 7/7 [00:00<00:00, 2528.21it/s]\n",
      "Epoch 41: 100%|██████████| 7/7 [00:00<00:00, 2482.89it/s]\n",
      "Epoch 42: 100%|██████████| 7/7 [00:00<00:00, 2454.65it/s]\n",
      "Epoch 43: 100%|██████████| 7/7 [00:00<00:00, 2254.83it/s]\n",
      "Epoch 44: 100%|██████████| 7/7 [00:00<00:00, 2567.34it/s]\n",
      "Epoch 45: 100%|██████████| 7/7 [00:00<00:00, 2567.57it/s]\n",
      "Epoch 46: 100%|██████████| 7/7 [00:00<00:00, 2196.30it/s]\n",
      "Epoch 47: 100%|██████████| 7/7 [00:00<00:00, 1936.56it/s]\n",
      "Epoch 48: 100%|██████████| 7/7 [00:00<00:00, 2210.02it/s]\n",
      "Epoch 49: 100%|██████████| 7/7 [00:00<00:00, 2601.69it/s]\n",
      "Epoch 50: 100%|██████████| 7/7 [00:00<00:00, 2577.03it/s]\n",
      "Epoch 51: 100%|██████████| 7/7 [00:00<00:00, 2325.37it/s]\n",
      "Epoch 52: 100%|██████████| 7/7 [00:00<00:00, 2473.89it/s]\n",
      "Epoch 53: 100%|██████████| 7/7 [00:00<00:00, 2338.71it/s]\n",
      "Epoch 54: 100%|██████████| 7/7 [00:00<00:00, 2515.00it/s]\n",
      "Epoch 55: 100%|██████████| 7/7 [00:00<00:00, 2016.77it/s]\n",
      "Epoch 56: 100%|██████████| 7/7 [00:00<00:00, 1708.47it/s]\n",
      "Epoch 57: 100%|██████████| 7/7 [00:00<00:00, 2079.62it/s]\n",
      "Epoch 58: 100%|██████████| 7/7 [00:00<00:00, 1810.23it/s]\n",
      "Epoch 59: 100%|██████████| 7/7 [00:00<00:00, 2067.91it/s]\n",
      "Epoch 60: 100%|██████████| 7/7 [00:00<00:00, 2467.44it/s]\n",
      "Epoch 61: 100%|██████████| 7/7 [00:00<00:00, 2394.01it/s]\n",
      "Epoch 62: 100%|██████████| 7/7 [00:00<00:00, 1060.85it/s]\n",
      "Epoch 63: 100%|██████████| 7/7 [00:00<00:00, 2259.17it/s]\n",
      "Epoch 64: 100%|██████████| 7/7 [00:00<00:00, 1928.16it/s]\n",
      "Epoch 65: 100%|██████████| 7/7 [00:00<00:00, 1336.50it/s]\n",
      "Epoch 66: 100%|██████████| 7/7 [00:00<00:00, 1334.73it/s]\n",
      "Epoch 67: 100%|██████████| 7/7 [00:00<00:00, 1635.75it/s]\n",
      "Epoch 68: 100%|██████████| 7/7 [00:00<00:00, 2017.19it/s]\n",
      "Epoch 69: 100%|██████████| 7/7 [00:00<00:00, 1501.64it/s]\n",
      "Epoch 70: 100%|██████████| 7/7 [00:00<00:00, 1414.88it/s]\n",
      "Epoch 71: 100%|██████████| 7/7 [00:00<00:00, 1415.42it/s]\n",
      "Epoch 72: 100%|██████████| 7/7 [00:00<00:00, 1805.89it/s]\n",
      "Epoch 73: 100%|██████████| 7/7 [00:00<00:00, 1129.71it/s]\n",
      "Epoch 74: 100%|██████████| 7/7 [00:00<00:00, 788.87it/s]\n",
      "Epoch 75: 100%|██████████| 7/7 [00:00<00:00, 907.55it/s]\n",
      "Epoch 76: 100%|██████████| 7/7 [00:00<00:00, 955.42it/s]\n",
      "Epoch 77: 100%|██████████| 7/7 [00:00<00:00, 1781.78it/s]\n",
      "Epoch 78: 100%|██████████| 7/7 [00:00<00:00, 1906.13it/s]\n",
      "Epoch 79: 100%|██████████| 7/7 [00:00<00:00, 2084.79it/s]\n",
      "Epoch 80: 100%|██████████| 7/7 [00:00<00:00, 2313.64it/s]\n",
      "Epoch 81: 100%|██████████| 7/7 [00:00<00:00, 2412.50it/s]\n",
      "Epoch 82: 100%|██████████| 7/7 [00:00<00:00, 2675.91it/s]\n",
      "Epoch 83: 100%|██████████| 7/7 [00:00<00:00, 2484.99it/s]\n",
      "Epoch 84: 100%|██████████| 7/7 [00:00<00:00, 2348.62it/s]\n",
      "Epoch 85: 100%|██████████| 7/7 [00:00<00:00, 2261.60it/s]\n",
      "Epoch 86: 100%|██████████| 7/7 [00:00<00:00, 2409.93it/s]\n",
      "Epoch 87: 100%|██████████| 7/7 [00:00<00:00, 2553.72it/s]\n",
      "Epoch 88: 100%|██████████| 7/7 [00:00<00:00, 2125.85it/s]\n",
      "Epoch 89: 100%|██████████| 7/7 [00:00<00:00, 1777.68it/s]\n",
      "Epoch 90: 100%|██████████| 7/7 [00:00<00:00, 2364.13it/s]\n",
      "Epoch 91: 100%|██████████| 7/7 [00:00<00:00, 1923.36it/s]\n",
      "Epoch 92: 100%|██████████| 7/7 [00:00<00:00, 1809.56it/s]\n",
      "Epoch 93: 100%|██████████| 7/7 [00:00<00:00, 1831.35it/s]\n",
      "Epoch 94: 100%|██████████| 7/7 [00:00<00:00, 1355.25it/s]\n",
      "Epoch 95: 100%|██████████| 7/7 [00:00<00:00, 1463.91it/s]\n",
      "Epoch 96: 100%|██████████| 7/7 [00:00<00:00, 1724.13it/s]\n",
      "Epoch 97: 100%|██████████| 7/7 [00:00<00:00, 1742.75it/s]\n",
      "Epoch 98: 100%|██████████| 7/7 [00:00<00:00, 1480.67it/s]\n",
      "Epoch 99: 100%|██████████| 7/7 [00:00<00:00, 1168.56it/s]\n"
     ]
    }
   ],
   "source": [
    "from tqdm import trange\n",
    "import torch\n",
    "import torch.optim as optim\n",
    "\n",
    "# Define training parameters\n",
    "args = {\n",
    "    \"epochs\": 100,\n",
    "    \"order\": 2,\n",
    "    \"num_neg\": 5,\n",
    "    \"dim\": 128,\n",
    "    \"batch_size\": 10,\n",
    "    \"lr\": 0.025,\n",
    "    \"neg_power\": 0.75\n",
    "}\n",
    "# Create dict of distribution when opening file\n",
    "edgedistdict, nodedistdict, weights, nodedegrees, maxindex = makeDist(karate_graph, args[\"neg_power\"])\n",
    "\n",
    "# Initialize VoseAlias samplers for edges and nodes\n",
    "edgesaliassampler = VoseAlias(edgedistdict)\n",
    "nodesaliassampler = VoseAlias(nodedistdict)\n",
    "\n",
    "# Calculate the number of batches per epoch\n",
    "batchrange = int(len(edgedistdict) / args[\"batch_size\"])\n",
    "print(maxindex)\n",
    "\n",
    "# Initialize the LINE model\n",
    "line = LINE(maxindex + 1, embed_dim=args[\"dim\"], order=args[\"order\"])\n",
    "\n",
    "# Set up the optimizer with Stochastic Gradient Descent (SGD)\n",
    "opt = optim.SGD(line.parameters(), lr=args[\"lr\"], momentum=0.9, nesterov=True)\n",
    "\n",
    "device = torch.device(\"cuda\" if torch.cuda.is_available() else \"cpu\")\n",
    "\n",
    "# Initialize a dictionary to store loss data\n",
    "lossdata = {\"it\": [], \"loss\": []}\n",
    "it = 0\n",
    "\n",
    "print(\"\\nTraining on {}\\n\".format(device))\n",
    "\n",
    "# Training loop\n",
    "for epoch in range(args[\"epochs\"]):\n",
    "    for b in trange(batchrange, desc=f\"Epoch {epoch}\"):\n",
    "        # Sample a batch of edges\n",
    "        samplededges = edgesaliassampler.sample_n(args[\"batch_size\"])\n",
    "\n",
    "        # Generate training data from sampled edges\n",
    "        batch = list(makeData(samplededges, args[\"num_neg\"], weights, nodedegrees, nodesaliassampler))\n",
    "        batch = torch.LongTensor(batch)\n",
    "\n",
    "        # Separate the batch into input nodes, context nodes, and negative samples\n",
    "        v_i = batch[:, 0]\n",
    "        v_j = batch[:, 1]\n",
    "        negsamples = batch[:, 2:]\n",
    "\n",
    "        # Zero the gradients\n",
    "        line.zero_grad()\n",
    "\n",
    "        # Compute the loss\n",
    "        loss = line(v_i, v_j, negsamples, device)\n",
    "        \n",
    "        # Backpropagate the loss\n",
    "        loss.backward()\n",
    "\n",
    "        # Update the model parameters\n",
    "        opt.step()\n",
    "\n",
    "        # Store the loss and iteration number\n",
    "        lossdata[\"loss\"].append(loss.item())\n",
    "        lossdata[\"it\"].append(it)\n",
    "        it += 1"
   ]
  },
  {
   "cell_type": "markdown",
   "metadata": {},
   "source": [
    "## 6.3. Visualization"
   ]
  },
  {
   "cell_type": "code",
   "execution_count": 55,
   "metadata": {},
   "outputs": [
    {
     "data": {
      "image/png": "[encoded data removed]",
      "text/plain": [
       "<Figure size 640x480 with 1 Axes>"
      ]
     },
     "metadata": {},
     "output_type": "display_data"
    }
   ],
   "source": [
    "from sklearn.manifold import TSNE\n",
    "\n",
    "import matplotlib.pyplot as plt\n",
    "\n",
    "# Get the node embeddings learned by the LINE model\n",
    "node_embeddings = line.nodes_embeddings.weight.data.cpu().numpy()\n",
    "\n",
    "# Perform t-SNE on the node embeddings\n",
    "tsne = TSNE(n_components=2, random_state=42)\n",
    "tsne_embeddings = tsne.fit_transform(node_embeddings)\n",
    "\n",
    "# Plot the t-SNE visualization\n",
    "plt.scatter(tsne_embeddings[:, 0], tsne_embeddings[:, 1])\n",
    "plt.title(\"t-SNE Visualization of LINE Model Embeddings\")\n",
    "plt.show()"
   ]
  },
  {
   "cell_type": "markdown",
   "metadata": {},
   "source": [
    "# 7. Metapath2Vec"
   ]
  },
  {
   "cell_type": "code",
   "execution_count": 1,
   "metadata": {},
   "outputs": [
    {
     "data": {
      "text/plain": [
       "HeteroData(\n",
       "  author={\n",
       "    y=[246678],\n",
       "    y_index=[246678],\n",
       "    num_nodes=1693531,\n",
       "  },\n",
       "  venue={\n",
       "    y=[134],\n",
       "    y_index=[134],\n",
       "    num_nodes=3883,\n",
       "  },\n",
       "  paper={ num_nodes=3194405 },\n",
       "  (paper, written_by, author)={ edge_index=[2, 9323605] },\n",
       "  (author, writes, paper)={ edge_index=[2, 9323605] },\n",
       "  (paper, published_in, venue)={ edge_index=[2, 3194405] },\n",
       "  (venue, publishes, paper)={ edge_index=[2, 3194405] }\n",
       ")"
      ]
     },
     "execution_count": 1,
     "metadata": {},
     "output_type": "execute_result"
    }
   ],
   "source": [
    "from torch_geometric.datasets.aminer import AMiner\n",
    "\n",
    "# Load the AMiner dataset from the specified directory.\n",
    "# The dataset will be downloaded if it is not already present in the directory.\n",
    "aminer_data = AMiner(\"./\")[0]\n",
    "\n",
    "# Display the first graph object in the AMiner dataset.\n",
    "# This object contains the graph structure and node/edge features.\n",
    "aminer_data"
   ]
  },
  {
   "cell_type": "code",
   "execution_count": 56,
   "metadata": {},
   "outputs": [],
   "source": [
    "from torch_geometric.nn.models import MetaPath2Vec\n",
    "import torch\n",
    "\n",
    "# Define the metapath schema for the heterogeneous graph\n",
    "metapath = [\n",
    "    ('author', 'writes', 'paper'),\n",
    "    ('paper', 'published_in', 'venue'),\n",
    "    ('venue', 'publishes', 'paper'),\n",
    "    ('paper', 'written_by', 'author'),\n",
    "]\n",
    "\n",
    "# Set the device to GPU if available, otherwise use CPU\n",
    "device = 'cuda' if torch.cuda.is_available() else 'cpu'\n",
    "\n",
    "# Initialize the MetaPath2Vec model with the specified parameters\n",
    "model = MetaPath2Vec(\n",
    "    aminer_data.edge_index_dict,  # Edge index dictionary from the AMiner dataset\n",
    "    embedding_dim=128,            # Dimension of the embedding vectors\n",
    "    metapath=metapath,            # Metapath schema\n",
    "    walk_length=50,               # Length of each random walk\n",
    "    context_size=7,               # Size of the context window\n",
    "    walks_per_node=5,             # Number of walks per node\n",
    "    num_negative_samples=5,       # Number of negative samples for negative sampling\n",
    "    sparse=True                   # Use sparse gradients for optimization\n",
    ").to(device)                      # Move the model to the specified device\n",
    "\n",
    "# Create a data loader for generating batches of random walks\n",
    "loader = model.loader(\n",
    "    batch_size=128,  # Number of walks per batch\n",
    "    shuffle=True,    # Shuffle the walks at each epoch\n",
    "    num_workers=6    # Number of worker threads for data loading\n",
    ")\n",
    "\n",
    "# Set up the optimizer using SparseAdam for sparse gradients\n",
    "optimizer = torch.optim.SparseAdam(\n",
    "    list(model.parameters()),  # Model parameters to optimize\n",
    "    lr=0.01                    # Learning rate\n",
    ")"
   ]
  },
  {
   "cell_type": "code",
   "execution_count": 5,
   "metadata": {},
   "outputs": [],
   "source": [
    "def train(epoch, log_steps=100, eval_steps=2000):\n",
    "    '''\n",
    "    :param log_steps: the value of step for log \n",
    "    :param eval_steps: the value of step for evaluation\n",
    "    :return: \n",
    "    '''\n",
    "    # Set the model to training mode\n",
    "    model.train()\n",
    "\n",
    "    total_loss = 0\n",
    "    for i, (pos_rw, neg_rw) in enumerate(loader):\n",
    "        # Zero the gradients for the optimizer\n",
    "        optimizer.zero_grad()\n",
    "        # Move positive and negative random walks to the GPU\n",
    "        pos_rw = pos_rw.to(device)\n",
    "        neg_rw = neg_rw.to(device)\n",
    "        # Compute the loss using the model's loss function\n",
    "        loss = model.loss(pos_rw, neg_rw)\n",
    "        # Backpropagate the loss\n",
    "        loss.backward()\n",
    "        # Update the model parameters\n",
    "        optimizer.step()\n",
    "\n",
    "        # Accumulate the total loss\n",
    "        total_loss += loss.item()\n",
    "        # Log the loss at specified intervals\n",
    "        if (i + 1) % log_steps == 0:\n",
    "            print((f'Epoch: {epoch}, Step: {i + 1:05d}/{len(loader)}, '\n",
    "                   f'Loss: {total_loss / log_steps:.4f}'))\n",
    "            total_loss = 0\n",
    "\n",
    "        # Evaluate the model at specified intervals\n",
    "        if (i + 1) % eval_steps == 0:\n",
    "            acc = test()\n",
    "            print((f'Epoch: {epoch}, Step: {i + 1:05d}/{len(loader)}, '\n",
    "                   f'Acc: {acc:.4f}'))\n",
    "\n",
    "\n",
    "@torch.no_grad()\n",
    "def test(train_ratio=0.1):\n",
    "    # Set the model to evaluation mode\n",
    "    model.eval()\n",
    "\n",
    "    # Move data to GPU and get the embeddings for 'author' nodes\n",
    "    z = model('author', batch=aminer_data['author'].y_index.to(device))\n",
    "    y = aminer_data['author'].y.to(device)\n",
    "\n",
    "    # Generate a random permutation of the indices\n",
    "    perm = torch.randperm(z.size(0), device=device)\n",
    "    # Split the indices into training and testing sets\n",
    "    train_perm = perm[:int(z.size(0) * train_ratio)]\n",
    "    test_perm = perm[int(z.size(0) * train_ratio):]\n",
    "\n",
    "    # Test the model using the training and testing sets\n",
    "    return model.test(z[train_perm], y[train_perm], z[test_perm], y[test_perm],\n",
    "                      max_iter=150)"
   ]
  },
  {
   "cell_type": "code",
   "execution_count": 6,
   "metadata": {},
   "outputs": [
    {
     "name": "stdout",
     "output_type": "stream",
     "text": [
      "Epoch: 0, Step: 00100/13231, Loss: 9.1038\n",
      "Epoch: 0, Step: 00200/13231, Loss: 7.5650\n",
      "Epoch: 0, Step: 00300/13231, Loss: 6.4600\n",
      "Epoch: 0, Step: 00400/13231, Loss: 5.8501\n",
      "Epoch: 0, Step: 00500/13231, Loss: 5.5913\n",
      "Epoch: 0, Step: 00600/13231, Loss: 5.4350\n",
      "Epoch: 0, Step: 00700/13231, Loss: 5.2979\n",
      "Epoch: 0, Step: 00800/13231, Loss: 5.1691\n",
      "Epoch: 0, Step: 00900/13231, Loss: 5.0447\n",
      "Epoch: 0, Step: 01000/13231, Loss: 4.9273\n",
      "Epoch: 0, Step: 01100/13231, Loss: 4.8106\n",
      "Epoch: 0, Step: 01200/13231, Loss: 4.7034\n",
      "Epoch: 0, Step: 01300/13231, Loss: 4.5945\n",
      "Epoch: 0, Step: 01400/13231, Loss: 4.4956\n",
      "Epoch: 0, Step: 01500/13231, Loss: 4.3941\n",
      "Epoch: 0, Step: 01600/13231, Loss: 4.2977\n",
      "Epoch: 0, Step: 01700/13231, Loss: 4.2026\n",
      "Epoch: 0, Step: 01800/13231, Loss: 4.1125\n",
      "Epoch: 0, Step: 01900/13231, Loss: 4.0238\n",
      "Epoch: 0, Step: 02000/13231, Loss: 3.9379\n"
     ]
    },
    {
     "name": "stderr",
     "output_type": "stream",
     "text": [
      "/home/osfa_cat/.local/lib/python3.10/site-packages/sklearn/linear_model/_logistic.py:1247: FutureWarning: 'multi_class' was deprecated in version 1.5 and will be removed in 1.7. From then on, it will always use 'multinomial'. Leave it to its default value to avoid this warning.\n",
      "  warnings.warn(\n"
     ]
    },
    {
     "name": "stdout",
     "output_type": "stream",
     "text": [
      "Epoch: 0, Step: 02000/13231, Acc: 0.2888\n",
      "Epoch: 0, Step: 02100/13231, Loss: 3.8505\n",
      "Epoch: 0, Step: 02200/13231, Loss: 3.7700\n",
      "Epoch: 0, Step: 02300/13231, Loss: 3.6898\n",
      "Epoch: 0, Step: 02400/13231, Loss: 3.6136\n",
      "Epoch: 0, Step: 02500/13231, Loss: 3.5353\n",
      "Epoch: 0, Step: 02600/13231, Loss: 3.4610\n",
      "Epoch: 0, Step: 02700/13231, Loss: 3.3881\n",
      "Epoch: 0, Step: 02800/13231, Loss: 3.3172\n",
      "Epoch: 0, Step: 02900/13231, Loss: 3.2501\n",
      "Epoch: 0, Step: 03000/13231, Loss: 3.1835\n",
      "Epoch: 0, Step: 03100/13231, Loss: 3.1188\n",
      "Epoch: 0, Step: 03200/13231, Loss: 3.0550\n",
      "Epoch: 0, Step: 03300/13231, Loss: 2.9935\n",
      "Epoch: 0, Step: 03400/13231, Loss: 2.9361\n",
      "Epoch: 0, Step: 03500/13231, Loss: 2.8777\n",
      "Epoch: 0, Step: 03600/13231, Loss: 2.8225\n",
      "Epoch: 0, Step: 03700/13231, Loss: 2.7689\n",
      "Epoch: 0, Step: 03800/13231, Loss: 2.7154\n",
      "Epoch: 0, Step: 03900/13231, Loss: 2.6650\n",
      "Epoch: 0, Step: 04000/13231, Loss: 2.6171\n"
     ]
    },
    {
     "name": "stderr",
     "output_type": "stream",
     "text": [
      "/home/osfa_cat/.local/lib/python3.10/site-packages/sklearn/linear_model/_logistic.py:1247: FutureWarning: 'multi_class' was deprecated in version 1.5 and will be removed in 1.7. From then on, it will always use 'multinomial'. Leave it to its default value to avoid this warning.\n",
      "  warnings.warn(\n"
     ]
    },
    {
     "name": "stdout",
     "output_type": "stream",
     "text": [
      "Epoch: 0, Step: 04000/13231, Acc: 0.4659\n",
      "Epoch: 0, Step: 04100/13231, Loss: 2.5691\n",
      "Epoch: 0, Step: 04200/13231, Loss: 2.5215\n",
      "Epoch: 0, Step: 04300/13231, Loss: 2.4772\n",
      "Epoch: 0, Step: 04400/13231, Loss: 2.4349\n",
      "Epoch: 0, Step: 04500/13231, Loss: 2.3924\n",
      "Epoch: 0, Step: 04600/13231, Loss: 2.3530\n",
      "Epoch: 0, Step: 04700/13231, Loss: 2.3162\n",
      "Epoch: 0, Step: 04800/13231, Loss: 2.2767\n",
      "Epoch: 0, Step: 04900/13231, Loss: 2.2413\n",
      "Epoch: 0, Step: 05000/13231, Loss: 2.2061\n",
      "Epoch: 0, Step: 05100/13231, Loss: 2.1732\n",
      "Epoch: 0, Step: 05200/13231, Loss: 2.1392\n",
      "Epoch: 0, Step: 05300/13231, Loss: 2.1091\n",
      "Epoch: 0, Step: 05400/13231, Loss: 2.0793\n",
      "Epoch: 0, Step: 05500/13231, Loss: 2.0480\n",
      "Epoch: 0, Step: 05600/13231, Loss: 2.0191\n",
      "Epoch: 0, Step: 05700/13231, Loss: 1.9924\n",
      "Epoch: 0, Step: 05800/13231, Loss: 1.9659\n",
      "Epoch: 0, Step: 05900/13231, Loss: 1.9410\n",
      "Epoch: 0, Step: 06000/13231, Loss: 1.9146\n"
     ]
    },
    {
     "name": "stderr",
     "output_type": "stream",
     "text": [
      "/home/osfa_cat/.local/lib/python3.10/site-packages/sklearn/linear_model/_logistic.py:1247: FutureWarning: 'multi_class' was deprecated in version 1.5 and will be removed in 1.7. From then on, it will always use 'multinomial'. Leave it to its default value to avoid this warning.\n",
      "  warnings.warn(\n"
     ]
    },
    {
     "name": "stdout",
     "output_type": "stream",
     "text": [
      "Epoch: 0, Step: 06000/13231, Acc: 0.6404\n",
      "Epoch: 0, Step: 06100/13231, Loss: 1.8925\n",
      "Epoch: 0, Step: 06200/13231, Loss: 1.8687\n",
      "Epoch: 0, Step: 06300/13231, Loss: 1.8473\n",
      "Epoch: 0, Step: 06400/13231, Loss: 1.8245\n",
      "Epoch: 0, Step: 06500/13231, Loss: 1.8036\n",
      "Epoch: 0, Step: 06600/13231, Loss: 1.7837\n",
      "Epoch: 0, Step: 06700/13231, Loss: 1.7642\n",
      "Epoch: 0, Step: 06800/13231, Loss: 1.7448\n",
      "Epoch: 0, Step: 06900/13231, Loss: 1.7267\n",
      "Epoch: 0, Step: 07000/13231, Loss: 1.7076\n",
      "Epoch: 0, Step: 07100/13231, Loss: 1.6908\n",
      "Epoch: 0, Step: 07200/13231, Loss: 1.6747\n",
      "Epoch: 0, Step: 07300/13231, Loss: 1.6579\n",
      "Epoch: 0, Step: 07400/13231, Loss: 1.6422\n",
      "Epoch: 0, Step: 07500/13231, Loss: 1.6270\n",
      "Epoch: 0, Step: 07600/13231, Loss: 1.6111\n",
      "Epoch: 0, Step: 07700/13231, Loss: 1.5962\n",
      "Epoch: 0, Step: 07800/13231, Loss: 1.5839\n",
      "Epoch: 0, Step: 07900/13231, Loss: 1.5694\n",
      "Epoch: 0, Step: 08000/13231, Loss: 1.5555\n"
     ]
    },
    {
     "name": "stderr",
     "output_type": "stream",
     "text": [
      "/home/osfa_cat/.local/lib/python3.10/site-packages/sklearn/linear_model/_logistic.py:1247: FutureWarning: 'multi_class' was deprecated in version 1.5 and will be removed in 1.7. From then on, it will always use 'multinomial'. Leave it to its default value to avoid this warning.\n",
      "  warnings.warn(\n"
     ]
    },
    {
     "name": "stdout",
     "output_type": "stream",
     "text": [
      "Epoch: 0, Step: 08000/13231, Acc: 0.7397\n",
      "Epoch: 0, Step: 08100/13231, Loss: 1.5423\n",
      "Epoch: 0, Step: 08200/13231, Loss: 1.5303\n",
      "Epoch: 0, Step: 08300/13231, Loss: 1.5183\n",
      "Epoch: 0, Step: 08400/13231, Loss: 1.5062\n",
      "Epoch: 0, Step: 08500/13231, Loss: 1.4945\n",
      "Epoch: 0, Step: 08600/13231, Loss: 1.4828\n",
      "Epoch: 0, Step: 08700/13231, Loss: 1.4706\n",
      "Epoch: 0, Step: 08800/13231, Loss: 1.4598\n",
      "Epoch: 0, Step: 08900/13231, Loss: 1.4496\n",
      "Epoch: 0, Step: 09000/13231, Loss: 1.4395\n",
      "Epoch: 0, Step: 09100/13231, Loss: 1.4296\n",
      "Epoch: 0, Step: 09200/13231, Loss: 1.4196\n",
      "Epoch: 0, Step: 09300/13231, Loss: 1.4102\n",
      "Epoch: 0, Step: 09400/13231, Loss: 1.3998\n",
      "Epoch: 0, Step: 09500/13231, Loss: 1.3915\n",
      "Epoch: 0, Step: 09600/13231, Loss: 1.3826\n",
      "Epoch: 0, Step: 09700/13231, Loss: 1.3738\n",
      "Epoch: 0, Step: 09800/13231, Loss: 1.3646\n",
      "Epoch: 0, Step: 09900/13231, Loss: 1.3560\n",
      "Epoch: 0, Step: 10000/13231, Loss: 1.3481\n"
     ]
    },
    {
     "name": "stderr",
     "output_type": "stream",
     "text": [
      "/home/osfa_cat/.local/lib/python3.10/site-packages/sklearn/linear_model/_logistic.py:1247: FutureWarning: 'multi_class' was deprecated in version 1.5 and will be removed in 1.7. From then on, it will always use 'multinomial'. Leave it to its default value to avoid this warning.\n",
      "  warnings.warn(\n"
     ]
    },
    {
     "name": "stdout",
     "output_type": "stream",
     "text": [
      "Epoch: 0, Step: 10000/13231, Acc: 0.7937\n",
      "Epoch: 0, Step: 10100/13231, Loss: 1.3397\n",
      "Epoch: 0, Step: 10200/13231, Loss: 1.3320\n",
      "Epoch: 0, Step: 10300/13231, Loss: 1.3249\n",
      "Epoch: 0, Step: 10400/13231, Loss: 1.3166\n",
      "Epoch: 0, Step: 10500/13231, Loss: 1.3095\n",
      "Epoch: 0, Step: 10600/13231, Loss: 1.3022\n",
      "Epoch: 0, Step: 10700/13231, Loss: 1.2951\n",
      "Epoch: 0, Step: 10800/13231, Loss: 1.2881\n",
      "Epoch: 0, Step: 10900/13231, Loss: 1.2808\n",
      "Epoch: 0, Step: 11000/13231, Loss: 1.2742\n",
      "Epoch: 0, Step: 11100/13231, Loss: 1.2677\n",
      "Epoch: 0, Step: 11200/13231, Loss: 1.2613\n",
      "Epoch: 0, Step: 11300/13231, Loss: 1.2550\n",
      "Epoch: 0, Step: 11400/13231, Loss: 1.2484\n",
      "Epoch: 0, Step: 11500/13231, Loss: 1.2431\n",
      "Epoch: 0, Step: 11600/13231, Loss: 1.2369\n",
      "Epoch: 0, Step: 11700/13231, Loss: 1.2307\n",
      "Epoch: 0, Step: 11800/13231, Loss: 1.2252\n",
      "Epoch: 0, Step: 11900/13231, Loss: 1.2197\n",
      "Epoch: 0, Step: 12000/13231, Loss: 1.2141\n"
     ]
    },
    {
     "name": "stderr",
     "output_type": "stream",
     "text": [
      "/home/osfa_cat/.local/lib/python3.10/site-packages/sklearn/linear_model/_logistic.py:1247: FutureWarning: 'multi_class' was deprecated in version 1.5 and will be removed in 1.7. From then on, it will always use 'multinomial'. Leave it to its default value to avoid this warning.\n",
      "  warnings.warn(\n"
     ]
    },
    {
     "name": "stdout",
     "output_type": "stream",
     "text": [
      "Epoch: 0, Step: 12000/13231, Acc: 0.8220\n",
      "Epoch: 0, Step: 12100/13231, Loss: 1.2082\n",
      "Epoch: 0, Step: 12200/13231, Loss: 1.2033\n",
      "Epoch: 0, Step: 12300/13231, Loss: 1.1973\n",
      "Epoch: 0, Step: 12400/13231, Loss: 1.1932\n",
      "Epoch: 0, Step: 12500/13231, Loss: 1.1881\n",
      "Epoch: 0, Step: 12600/13231, Loss: 1.1822\n",
      "Epoch: 0, Step: 12700/13231, Loss: 1.1781\n",
      "Epoch: 0, Step: 12800/13231, Loss: 1.1731\n",
      "Epoch: 0, Step: 12900/13231, Loss: 1.1681\n",
      "Epoch: 0, Step: 13000/13231, Loss: 1.1640\n",
      "Epoch: 0, Step: 13100/13231, Loss: 1.1594\n",
      "Epoch: 0, Step: 13200/13231, Loss: 1.1552\n"
     ]
    },
    {
     "name": "stderr",
     "output_type": "stream",
     "text": [
      "/home/osfa_cat/.local/lib/python3.10/site-packages/sklearn/linear_model/_logistic.py:1247: FutureWarning: 'multi_class' was deprecated in version 1.5 and will be removed in 1.7. From then on, it will always use 'multinomial'. Leave it to its default value to avoid this warning.\n",
      "  warnings.warn(\n"
     ]
    },
    {
     "name": "stdout",
     "output_type": "stream",
     "text": [
      "Epoch: 0, Accuracy: 0.8366\n",
      "Epoch: 1, Step: 00100/13231, Loss: 1.1485\n",
      "Epoch: 1, Step: 00200/13231, Loss: 1.1440\n",
      "Epoch: 1, Step: 00300/13231, Loss: 1.1402\n",
      "Epoch: 1, Step: 00400/13231, Loss: 1.1359\n",
      "Epoch: 1, Step: 00500/13231, Loss: 1.1325\n",
      "Epoch: 1, Step: 00600/13231, Loss: 1.1282\n",
      "Epoch: 1, Step: 00700/13231, Loss: 1.1238\n",
      "Epoch: 1, Step: 00800/13231, Loss: 1.1201\n",
      "Epoch: 1, Step: 00900/13231, Loss: 1.1164\n",
      "Epoch: 1, Step: 01000/13231, Loss: 1.1127\n",
      "Epoch: 1, Step: 01100/13231, Loss: 1.1093\n",
      "Epoch: 1, Step: 01200/13231, Loss: 1.1057\n",
      "Epoch: 1, Step: 01300/13231, Loss: 1.1021\n",
      "Epoch: 1, Step: 01400/13231, Loss: 1.0988\n",
      "Epoch: 1, Step: 01500/13231, Loss: 1.0947\n",
      "Epoch: 1, Step: 01600/13231, Loss: 1.0916\n",
      "Epoch: 1, Step: 01700/13231, Loss: 1.0884\n",
      "Epoch: 1, Step: 01800/13231, Loss: 1.0850\n",
      "Epoch: 1, Step: 01900/13231, Loss: 1.0812\n",
      "Epoch: 1, Step: 02000/13231, Loss: 1.0791\n"
     ]
    },
    {
     "name": "stderr",
     "output_type": "stream",
     "text": [
      "/home/osfa_cat/.local/lib/python3.10/site-packages/sklearn/linear_model/_logistic.py:1247: FutureWarning: 'multi_class' was deprecated in version 1.5 and will be removed in 1.7. From then on, it will always use 'multinomial'. Leave it to its default value to avoid this warning.\n",
      "  warnings.warn(\n"
     ]
    },
    {
     "name": "stdout",
     "output_type": "stream",
     "text": [
      "Epoch: 1, Step: 02000/13231, Acc: 0.8513\n",
      "Epoch: 1, Step: 02100/13231, Loss: 1.0756\n",
      "Epoch: 1, Step: 02200/13231, Loss: 1.0726\n",
      "Epoch: 1, Step: 02300/13231, Loss: 1.0697\n",
      "Epoch: 1, Step: 02400/13231, Loss: 1.0670\n",
      "Epoch: 1, Step: 02500/13231, Loss: 1.0637\n",
      "Epoch: 1, Step: 02600/13231, Loss: 1.0614\n",
      "Epoch: 1, Step: 02700/13231, Loss: 1.0581\n",
      "Epoch: 1, Step: 02800/13231, Loss: 1.0549\n",
      "Epoch: 1, Step: 02900/13231, Loss: 1.0526\n",
      "Epoch: 1, Step: 03000/13231, Loss: 1.0502\n",
      "Epoch: 1, Step: 03100/13231, Loss: 1.0475\n",
      "Epoch: 1, Step: 03200/13231, Loss: 1.0444\n",
      "Epoch: 1, Step: 03300/13231, Loss: 1.0419\n",
      "Epoch: 1, Step: 03400/13231, Loss: 1.0397\n",
      "Epoch: 1, Step: 03500/13231, Loss: 1.0372\n",
      "Epoch: 1, Step: 03600/13231, Loss: 1.0350\n",
      "Epoch: 1, Step: 03700/13231, Loss: 1.0323\n",
      "Epoch: 1, Step: 03800/13231, Loss: 1.0301\n",
      "Epoch: 1, Step: 03900/13231, Loss: 1.0274\n",
      "Epoch: 1, Step: 04000/13231, Loss: 1.0254\n"
     ]
    },
    {
     "name": "stderr",
     "output_type": "stream",
     "text": [
      "/home/osfa_cat/.local/lib/python3.10/site-packages/sklearn/linear_model/_logistic.py:1247: FutureWarning: 'multi_class' was deprecated in version 1.5 and will be removed in 1.7. From then on, it will always use 'multinomial'. Leave it to its default value to avoid this warning.\n",
      "  warnings.warn(\n"
     ]
    },
    {
     "name": "stdout",
     "output_type": "stream",
     "text": [
      "Epoch: 1, Step: 04000/13231, Acc: 0.8638\n",
      "Epoch: 1, Step: 04100/13231, Loss: 1.0231\n",
      "Epoch: 1, Step: 04200/13231, Loss: 1.0205\n",
      "Epoch: 1, Step: 04300/13231, Loss: 1.0184\n",
      "Epoch: 1, Step: 04400/13231, Loss: 1.0167\n",
      "Epoch: 1, Step: 04500/13231, Loss: 1.0140\n",
      "Epoch: 1, Step: 04600/13231, Loss: 1.0127\n",
      "Epoch: 1, Step: 04700/13231, Loss: 1.0097\n",
      "Epoch: 1, Step: 04800/13231, Loss: 1.0079\n",
      "Epoch: 1, Step: 04900/13231, Loss: 1.0058\n",
      "Epoch: 1, Step: 05000/13231, Loss: 1.0037\n",
      "Epoch: 1, Step: 05100/13231, Loss: 1.0017\n",
      "Epoch: 1, Step: 05200/13231, Loss: 0.9999\n",
      "Epoch: 1, Step: 05300/13231, Loss: 0.9983\n",
      "Epoch: 1, Step: 05400/13231, Loss: 0.9961\n",
      "Epoch: 1, Step: 05500/13231, Loss: 0.9942\n",
      "Epoch: 1, Step: 05600/13231, Loss: 0.9927\n",
      "Epoch: 1, Step: 05700/13231, Loss: 0.9909\n",
      "Epoch: 1, Step: 05800/13231, Loss: 0.9888\n",
      "Epoch: 1, Step: 05900/13231, Loss: 0.9867\n",
      "Epoch: 1, Step: 06000/13231, Loss: 0.9855\n"
     ]
    },
    {
     "name": "stderr",
     "output_type": "stream",
     "text": [
      "/home/osfa_cat/.local/lib/python3.10/site-packages/sklearn/linear_model/_logistic.py:1247: FutureWarning: 'multi_class' was deprecated in version 1.5 and will be removed in 1.7. From then on, it will always use 'multinomial'. Leave it to its default value to avoid this warning.\n",
      "  warnings.warn(\n"
     ]
    },
    {
     "name": "stdout",
     "output_type": "stream",
     "text": [
      "Epoch: 1, Step: 06000/13231, Acc: 0.8715\n",
      "Epoch: 1, Step: 06100/13231, Loss: 0.9838\n",
      "Epoch: 1, Step: 06200/13231, Loss: 0.9821\n",
      "Epoch: 1, Step: 06300/13231, Loss: 0.9804\n",
      "Epoch: 1, Step: 06400/13231, Loss: 0.9790\n",
      "Epoch: 1, Step: 06500/13231, Loss: 0.9769\n",
      "Epoch: 1, Step: 06600/13231, Loss: 0.9757\n",
      "Epoch: 1, Step: 06700/13231, Loss: 0.9740\n",
      "Epoch: 1, Step: 06800/13231, Loss: 0.9726\n",
      "Epoch: 1, Step: 06900/13231, Loss: 0.9712\n",
      "Epoch: 1, Step: 07000/13231, Loss: 0.9696\n",
      "Epoch: 1, Step: 07100/13231, Loss: 0.9683\n",
      "Epoch: 1, Step: 07200/13231, Loss: 0.9667\n",
      "Epoch: 1, Step: 07300/13231, Loss: 0.9651\n",
      "Epoch: 1, Step: 07400/13231, Loss: 0.9637\n",
      "Epoch: 1, Step: 07500/13231, Loss: 0.9624\n",
      "Epoch: 1, Step: 07600/13231, Loss: 0.9609\n",
      "Epoch: 1, Step: 07700/13231, Loss: 0.9597\n",
      "Epoch: 1, Step: 07800/13231, Loss: 0.9586\n",
      "Epoch: 1, Step: 07900/13231, Loss: 0.9572\n",
      "Epoch: 1, Step: 08000/13231, Loss: 0.9553\n"
     ]
    },
    {
     "name": "stderr",
     "output_type": "stream",
     "text": [
      "/home/osfa_cat/.local/lib/python3.10/site-packages/sklearn/linear_model/_logistic.py:1247: FutureWarning: 'multi_class' was deprecated in version 1.5 and will be removed in 1.7. From then on, it will always use 'multinomial'. Leave it to its default value to avoid this warning.\n",
      "  warnings.warn(\n"
     ]
    },
    {
     "name": "stdout",
     "output_type": "stream",
     "text": [
      "Epoch: 1, Step: 08000/13231, Acc: 0.8800\n",
      "Epoch: 1, Step: 08100/13231, Loss: 0.9546\n",
      "Epoch: 1, Step: 08200/13231, Loss: 0.9531\n",
      "Epoch: 1, Step: 08300/13231, Loss: 0.9517\n",
      "Epoch: 1, Step: 08400/13231, Loss: 0.9503\n",
      "Epoch: 1, Step: 08500/13231, Loss: 0.9498\n",
      "Epoch: 1, Step: 08600/13231, Loss: 0.9480\n",
      "Epoch: 1, Step: 08700/13231, Loss: 0.9470\n",
      "Epoch: 1, Step: 08800/13231, Loss: 0.9458\n",
      "Epoch: 1, Step: 08900/13231, Loss: 0.9449\n",
      "Epoch: 1, Step: 09000/13231, Loss: 0.9432\n",
      "Epoch: 1, Step: 09100/13231, Loss: 0.9425\n",
      "Epoch: 1, Step: 09200/13231, Loss: 0.9415\n",
      "Epoch: 1, Step: 09300/13231, Loss: 0.9399\n",
      "Epoch: 1, Step: 09400/13231, Loss: 0.9392\n",
      "Epoch: 1, Step: 09500/13231, Loss: 0.9380\n",
      "Epoch: 1, Step: 09600/13231, Loss: 0.9373\n",
      "Epoch: 1, Step: 09700/13231, Loss: 0.9359\n",
      "Epoch: 1, Step: 09800/13231, Loss: 0.9351\n",
      "Epoch: 1, Step: 09900/13231, Loss: 0.9342\n",
      "Epoch: 1, Step: 10000/13231, Loss: 0.9334\n"
     ]
    },
    {
     "name": "stderr",
     "output_type": "stream",
     "text": [
      "/home/osfa_cat/.local/lib/python3.10/site-packages/sklearn/linear_model/_logistic.py:1247: FutureWarning: 'multi_class' was deprecated in version 1.5 and will be removed in 1.7. From then on, it will always use 'multinomial'. Leave it to its default value to avoid this warning.\n",
      "  warnings.warn(\n"
     ]
    },
    {
     "name": "stdout",
     "output_type": "stream",
     "text": [
      "Epoch: 1, Step: 10000/13231, Acc: 0.8837\n",
      "Epoch: 1, Step: 10100/13231, Loss: 0.9317\n",
      "Epoch: 1, Step: 10200/13231, Loss: 0.9305\n",
      "Epoch: 1, Step: 10300/13231, Loss: 0.9301\n",
      "Epoch: 1, Step: 10400/13231, Loss: 0.9290\n",
      "Epoch: 1, Step: 10500/13231, Loss: 0.9278\n",
      "Epoch: 1, Step: 10600/13231, Loss: 0.9271\n",
      "Epoch: 1, Step: 10700/13231, Loss: 0.9261\n",
      "Epoch: 1, Step: 10800/13231, Loss: 0.9251\n",
      "Epoch: 1, Step: 10900/13231, Loss: 0.9246\n",
      "Epoch: 1, Step: 11000/13231, Loss: 0.9236\n",
      "Epoch: 1, Step: 11100/13231, Loss: 0.9227\n",
      "Epoch: 1, Step: 11200/13231, Loss: 0.9220\n",
      "Epoch: 1, Step: 11300/13231, Loss: 0.9207\n",
      "Epoch: 1, Step: 11400/13231, Loss: 0.9201\n",
      "Epoch: 1, Step: 11500/13231, Loss: 0.9191\n",
      "Epoch: 1, Step: 11600/13231, Loss: 0.9188\n",
      "Epoch: 1, Step: 11700/13231, Loss: 0.9177\n",
      "Epoch: 1, Step: 11800/13231, Loss: 0.9168\n",
      "Epoch: 1, Step: 11900/13231, Loss: 0.9161\n",
      "Epoch: 1, Step: 12000/13231, Loss: 0.9153\n"
     ]
    },
    {
     "name": "stderr",
     "output_type": "stream",
     "text": [
      "/home/osfa_cat/.local/lib/python3.10/site-packages/sklearn/linear_model/_logistic.py:1247: FutureWarning: 'multi_class' was deprecated in version 1.5 and will be removed in 1.7. From then on, it will always use 'multinomial'. Leave it to its default value to avoid this warning.\n",
      "  warnings.warn(\n"
     ]
    },
    {
     "name": "stdout",
     "output_type": "stream",
     "text": [
      "Epoch: 1, Step: 12000/13231, Acc: 0.8882\n",
      "Epoch: 1, Step: 12100/13231, Loss: 0.9149\n",
      "Epoch: 1, Step: 12200/13231, Loss: 0.9137\n",
      "Epoch: 1, Step: 12300/13231, Loss: 0.9132\n",
      "Epoch: 1, Step: 12400/13231, Loss: 0.9125\n",
      "Epoch: 1, Step: 12500/13231, Loss: 0.9119\n",
      "Epoch: 1, Step: 12600/13231, Loss: 0.9107\n",
      "Epoch: 1, Step: 12700/13231, Loss: 0.9098\n",
      "Epoch: 1, Step: 12800/13231, Loss: 0.9094\n",
      "Epoch: 1, Step: 12900/13231, Loss: 0.9085\n",
      "Epoch: 1, Step: 13000/13231, Loss: 0.9083\n",
      "Epoch: 1, Step: 13100/13231, Loss: 0.9073\n",
      "Epoch: 1, Step: 13200/13231, Loss: 0.9064\n"
     ]
    },
    {
     "name": "stderr",
     "output_type": "stream",
     "text": [
      "/home/osfa_cat/.local/lib/python3.10/site-packages/sklearn/linear_model/_logistic.py:1247: FutureWarning: 'multi_class' was deprecated in version 1.5 and will be removed in 1.7. From then on, it will always use 'multinomial'. Leave it to its default value to avoid this warning.\n",
      "  warnings.warn(\n"
     ]
    },
    {
     "name": "stdout",
     "output_type": "stream",
     "text": [
      "Epoch: 1, Accuracy: 0.8906\n",
      "Epoch: 2, Step: 00100/13231, Loss: 0.9054\n",
      "Epoch: 2, Step: 00200/13231, Loss: 0.9045\n",
      "Epoch: 2, Step: 00300/13231, Loss: 0.9041\n",
      "Epoch: 2, Step: 00400/13231, Loss: 0.9035\n",
      "Epoch: 2, Step: 00500/13231, Loss: 0.9031\n",
      "Epoch: 2, Step: 00600/13231, Loss: 0.9023\n",
      "Epoch: 2, Step: 00700/13231, Loss: 0.9014\n",
      "Epoch: 2, Step: 00800/13231, Loss: 0.9013\n",
      "Epoch: 2, Step: 00900/13231, Loss: 0.9001\n",
      "Epoch: 2, Step: 01000/13231, Loss: 0.8995\n",
      "Epoch: 2, Step: 01100/13231, Loss: 0.8994\n",
      "Epoch: 2, Step: 01200/13231, Loss: 0.8987\n",
      "Epoch: 2, Step: 01300/13231, Loss: 0.8979\n",
      "Epoch: 2, Step: 01400/13231, Loss: 0.8973\n",
      "Epoch: 2, Step: 01500/13231, Loss: 0.8969\n",
      "Epoch: 2, Step: 01600/13231, Loss: 0.8965\n",
      "Epoch: 2, Step: 01700/13231, Loss: 0.8958\n",
      "Epoch: 2, Step: 01800/13231, Loss: 0.8953\n",
      "Epoch: 2, Step: 01900/13231, Loss: 0.8950\n",
      "Epoch: 2, Step: 02000/13231, Loss: 0.8941\n"
     ]
    },
    {
     "name": "stderr",
     "output_type": "stream",
     "text": [
      "/home/osfa_cat/.local/lib/python3.10/site-packages/sklearn/linear_model/_logistic.py:1247: FutureWarning: 'multi_class' was deprecated in version 1.5 and will be removed in 1.7. From then on, it will always use 'multinomial'. Leave it to its default value to avoid this warning.\n",
      "  warnings.warn(\n"
     ]
    },
    {
     "name": "stdout",
     "output_type": "stream",
     "text": [
      "Epoch: 2, Step: 02000/13231, Acc: 0.8944\n",
      "Epoch: 2, Step: 02100/13231, Loss: 0.8935\n",
      "Epoch: 2, Step: 02200/13231, Loss: 0.8931\n",
      "Epoch: 2, Step: 02300/13231, Loss: 0.8925\n",
      "Epoch: 2, Step: 02400/13231, Loss: 0.8919\n",
      "Epoch: 2, Step: 02500/13231, Loss: 0.8918\n",
      "Epoch: 2, Step: 02600/13231, Loss: 0.8910\n",
      "Epoch: 2, Step: 02700/13231, Loss: 0.8905\n",
      "Epoch: 2, Step: 02800/13231, Loss: 0.8901\n",
      "Epoch: 2, Step: 02900/13231, Loss: 0.8897\n",
      "Epoch: 2, Step: 03000/13231, Loss: 0.8895\n",
      "Epoch: 2, Step: 03100/13231, Loss: 0.8890\n",
      "Epoch: 2, Step: 03200/13231, Loss: 0.8882\n",
      "Epoch: 2, Step: 03300/13231, Loss: 0.8878\n",
      "Epoch: 2, Step: 03400/13231, Loss: 0.8874\n",
      "Epoch: 2, Step: 03500/13231, Loss: 0.8870\n",
      "Epoch: 2, Step: 03600/13231, Loss: 0.8867\n",
      "Epoch: 2, Step: 03700/13231, Loss: 0.8861\n",
      "Epoch: 2, Step: 03800/13231, Loss: 0.8859\n",
      "Epoch: 2, Step: 03900/13231, Loss: 0.8850\n",
      "Epoch: 2, Step: 04000/13231, Loss: 0.8843\n"
     ]
    },
    {
     "name": "stderr",
     "output_type": "stream",
     "text": [
      "/home/osfa_cat/.local/lib/python3.10/site-packages/sklearn/linear_model/_logistic.py:1247: FutureWarning: 'multi_class' was deprecated in version 1.5 and will be removed in 1.7. From then on, it will always use 'multinomial'. Leave it to its default value to avoid this warning.\n",
      "  warnings.warn(\n"
     ]
    },
    {
     "name": "stdout",
     "output_type": "stream",
     "text": [
      "Epoch: 2, Step: 04000/13231, Acc: 0.8961\n",
      "Epoch: 2, Step: 04100/13231, Loss: 0.8844\n",
      "Epoch: 2, Step: 04200/13231, Loss: 0.8839\n",
      "Epoch: 2, Step: 04300/13231, Loss: 0.8832\n",
      "Epoch: 2, Step: 04400/13231, Loss: 0.8829\n",
      "Epoch: 2, Step: 04500/13231, Loss: 0.8822\n",
      "Epoch: 2, Step: 04600/13231, Loss: 0.8820\n",
      "Epoch: 2, Step: 04700/13231, Loss: 0.8817\n",
      "Epoch: 2, Step: 04800/13231, Loss: 0.8813\n",
      "Epoch: 2, Step: 04900/13231, Loss: 0.8809\n",
      "Epoch: 2, Step: 05000/13231, Loss: 0.8809\n",
      "Epoch: 2, Step: 05100/13231, Loss: 0.8801\n",
      "Epoch: 2, Step: 05200/13231, Loss: 0.8797\n",
      "Epoch: 2, Step: 05300/13231, Loss: 0.8793\n",
      "Epoch: 2, Step: 05400/13231, Loss: 0.8787\n",
      "Epoch: 2, Step: 05500/13231, Loss: 0.8789\n",
      "Epoch: 2, Step: 05600/13231, Loss: 0.8783\n",
      "Epoch: 2, Step: 05700/13231, Loss: 0.8780\n",
      "Epoch: 2, Step: 05800/13231, Loss: 0.8781\n",
      "Epoch: 2, Step: 05900/13231, Loss: 0.8771\n",
      "Epoch: 2, Step: 06000/13231, Loss: 0.8768\n"
     ]
    },
    {
     "name": "stderr",
     "output_type": "stream",
     "text": [
      "/home/osfa_cat/.local/lib/python3.10/site-packages/sklearn/linear_model/_logistic.py:1247: FutureWarning: 'multi_class' was deprecated in version 1.5 and will be removed in 1.7. From then on, it will always use 'multinomial'. Leave it to its default value to avoid this warning.\n",
      "  warnings.warn(\n"
     ]
    },
    {
     "name": "stdout",
     "output_type": "stream",
     "text": [
      "Epoch: 2, Step: 06000/13231, Acc: 0.8993\n",
      "Epoch: 2, Step: 06100/13231, Loss: 0.8765\n",
      "Epoch: 2, Step: 06200/13231, Loss: 0.8761\n",
      "Epoch: 2, Step: 06300/13231, Loss: 0.8759\n",
      "Epoch: 2, Step: 06400/13231, Loss: 0.8755\n",
      "Epoch: 2, Step: 06500/13231, Loss: 0.8753\n",
      "Epoch: 2, Step: 06600/13231, Loss: 0.8750\n",
      "Epoch: 2, Step: 06700/13231, Loss: 0.8747\n",
      "Epoch: 2, Step: 06800/13231, Loss: 0.8745\n",
      "Epoch: 2, Step: 06900/13231, Loss: 0.8735\n",
      "Epoch: 2, Step: 07000/13231, Loss: 0.8731\n",
      "Epoch: 2, Step: 07100/13231, Loss: 0.8736\n",
      "Epoch: 2, Step: 07200/13231, Loss: 0.8728\n",
      "Epoch: 2, Step: 07300/13231, Loss: 0.8725\n",
      "Epoch: 2, Step: 07400/13231, Loss: 0.8727\n",
      "Epoch: 2, Step: 07500/13231, Loss: 0.8721\n",
      "Epoch: 2, Step: 07600/13231, Loss: 0.8718\n",
      "Epoch: 2, Step: 07700/13231, Loss: 0.8713\n",
      "Epoch: 2, Step: 07800/13231, Loss: 0.8710\n",
      "Epoch: 2, Step: 07900/13231, Loss: 0.8705\n",
      "Epoch: 2, Step: 08000/13231, Loss: 0.8705\n"
     ]
    },
    {
     "name": "stderr",
     "output_type": "stream",
     "text": [
      "/home/osfa_cat/.local/lib/python3.10/site-packages/sklearn/linear_model/_logistic.py:1247: FutureWarning: 'multi_class' was deprecated in version 1.5 and will be removed in 1.7. From then on, it will always use 'multinomial'. Leave it to its default value to avoid this warning.\n",
      "  warnings.warn(\n"
     ]
    },
    {
     "name": "stdout",
     "output_type": "stream",
     "text": [
      "Epoch: 2, Step: 08000/13231, Acc: 0.9016\n",
      "Epoch: 2, Step: 08100/13231, Loss: 0.8700\n",
      "Epoch: 2, Step: 08200/13231, Loss: 0.8700\n",
      "Epoch: 2, Step: 08300/13231, Loss: 0.8698\n",
      "Epoch: 2, Step: 08400/13231, Loss: 0.8692\n",
      "Epoch: 2, Step: 08500/13231, Loss: 0.8690\n",
      "Epoch: 2, Step: 08600/13231, Loss: 0.8686\n",
      "Epoch: 2, Step: 08700/13231, Loss: 0.8683\n",
      "Epoch: 2, Step: 08800/13231, Loss: 0.8680\n",
      "Epoch: 2, Step: 08900/13231, Loss: 0.8681\n",
      "Epoch: 2, Step: 09000/13231, Loss: 0.8677\n",
      "Epoch: 2, Step: 09100/13231, Loss: 0.8675\n",
      "Epoch: 2, Step: 09200/13231, Loss: 0.8671\n",
      "Epoch: 2, Step: 09300/13231, Loss: 0.8667\n",
      "Epoch: 2, Step: 09400/13231, Loss: 0.8666\n",
      "Epoch: 2, Step: 09500/13231, Loss: 0.8663\n",
      "Epoch: 2, Step: 09600/13231, Loss: 0.8661\n",
      "Epoch: 2, Step: 09700/13231, Loss: 0.8657\n",
      "Epoch: 2, Step: 09800/13231, Loss: 0.8655\n",
      "Epoch: 2, Step: 09900/13231, Loss: 0.8652\n",
      "Epoch: 2, Step: 10000/13231, Loss: 0.8652\n"
     ]
    },
    {
     "name": "stderr",
     "output_type": "stream",
     "text": [
      "/home/osfa_cat/.local/lib/python3.10/site-packages/sklearn/linear_model/_logistic.py:1247: FutureWarning: 'multi_class' was deprecated in version 1.5 and will be removed in 1.7. From then on, it will always use 'multinomial'. Leave it to its default value to avoid this warning.\n",
      "  warnings.warn(\n"
     ]
    },
    {
     "name": "stdout",
     "output_type": "stream",
     "text": [
      "Epoch: 2, Step: 10000/13231, Acc: 0.9025\n",
      "Epoch: 2, Step: 10100/13231, Loss: 0.8648\n",
      "Epoch: 2, Step: 10200/13231, Loss: 0.8649\n",
      "Epoch: 2, Step: 10300/13231, Loss: 0.8643\n",
      "Epoch: 2, Step: 10400/13231, Loss: 0.8638\n",
      "Epoch: 2, Step: 10500/13231, Loss: 0.8639\n",
      "Epoch: 2, Step: 10600/13231, Loss: 0.8634\n",
      "Epoch: 2, Step: 10700/13231, Loss: 0.8635\n",
      "Epoch: 2, Step: 10800/13231, Loss: 0.8630\n",
      "Epoch: 2, Step: 10900/13231, Loss: 0.8630\n",
      "Epoch: 2, Step: 11000/13231, Loss: 0.8628\n",
      "Epoch: 2, Step: 11100/13231, Loss: 0.8625\n",
      "Epoch: 2, Step: 11200/13231, Loss: 0.8621\n",
      "Epoch: 2, Step: 11300/13231, Loss: 0.8621\n",
      "Epoch: 2, Step: 11400/13231, Loss: 0.8617\n",
      "Epoch: 2, Step: 11500/13231, Loss: 0.8618\n",
      "Epoch: 2, Step: 11600/13231, Loss: 0.8615\n",
      "Epoch: 2, Step: 11700/13231, Loss: 0.8612\n",
      "Epoch: 2, Step: 11800/13231, Loss: 0.8613\n",
      "Epoch: 2, Step: 11900/13231, Loss: 0.8603\n",
      "Epoch: 2, Step: 12000/13231, Loss: 0.8604\n"
     ]
    },
    {
     "name": "stderr",
     "output_type": "stream",
     "text": [
      "/home/osfa_cat/.local/lib/python3.10/site-packages/sklearn/linear_model/_logistic.py:1247: FutureWarning: 'multi_class' was deprecated in version 1.5 and will be removed in 1.7. From then on, it will always use 'multinomial'. Leave it to its default value to avoid this warning.\n",
      "  warnings.warn(\n"
     ]
    },
    {
     "name": "stdout",
     "output_type": "stream",
     "text": [
      "Epoch: 2, Step: 12000/13231, Acc: 0.9048\n",
      "Epoch: 2, Step: 12100/13231, Loss: 0.8604\n",
      "Epoch: 2, Step: 12200/13231, Loss: 0.8602\n",
      "Epoch: 2, Step: 12300/13231, Loss: 0.8597\n",
      "Epoch: 2, Step: 12400/13231, Loss: 0.8595\n",
      "Epoch: 2, Step: 12500/13231, Loss: 0.8596\n",
      "Epoch: 2, Step: 12600/13231, Loss: 0.8593\n",
      "Epoch: 2, Step: 12700/13231, Loss: 0.8590\n",
      "Epoch: 2, Step: 12800/13231, Loss: 0.8589\n",
      "Epoch: 2, Step: 12900/13231, Loss: 0.8588\n",
      "Epoch: 2, Step: 13000/13231, Loss: 0.8586\n",
      "Epoch: 2, Step: 13100/13231, Loss: 0.8585\n",
      "Epoch: 2, Step: 13200/13231, Loss: 0.8583\n"
     ]
    },
    {
     "name": "stderr",
     "output_type": "stream",
     "text": [
      "/home/osfa_cat/.local/lib/python3.10/site-packages/sklearn/linear_model/_logistic.py:1247: FutureWarning: 'multi_class' was deprecated in version 1.5 and will be removed in 1.7. From then on, it will always use 'multinomial'. Leave it to its default value to avoid this warning.\n",
      "  warnings.warn(\n"
     ]
    },
    {
     "name": "stdout",
     "output_type": "stream",
     "text": [
      "Epoch: 2, Accuracy: 0.9056\n",
      "Epoch: 3, Step: 00100/13231, Loss: 0.8580\n",
      "Epoch: 3, Step: 00200/13231, Loss: 0.8573\n",
      "Epoch: 3, Step: 00300/13231, Loss: 0.8572\n",
      "Epoch: 3, Step: 00400/13231, Loss: 0.8569\n",
      "Epoch: 3, Step: 00500/13231, Loss: 0.8568\n",
      "Epoch: 3, Step: 00600/13231, Loss: 0.8566\n",
      "Epoch: 3, Step: 00700/13231, Loss: 0.8562\n",
      "Epoch: 3, Step: 00800/13231, Loss: 0.8559\n",
      "Epoch: 3, Step: 00900/13231, Loss: 0.8564\n",
      "Epoch: 3, Step: 01000/13231, Loss: 0.8560\n",
      "Epoch: 3, Step: 01100/13231, Loss: 0.8558\n",
      "Epoch: 3, Step: 01200/13231, Loss: 0.8556\n",
      "Epoch: 3, Step: 01300/13231, Loss: 0.8556\n",
      "Epoch: 3, Step: 01400/13231, Loss: 0.8554\n",
      "Epoch: 3, Step: 01500/13231, Loss: 0.8550\n",
      "Epoch: 3, Step: 01600/13231, Loss: 0.8550\n",
      "Epoch: 3, Step: 01700/13231, Loss: 0.8549\n",
      "Epoch: 3, Step: 01800/13231, Loss: 0.8546\n",
      "Epoch: 3, Step: 01900/13231, Loss: 0.8546\n",
      "Epoch: 3, Step: 02000/13231, Loss: 0.8544\n"
     ]
    },
    {
     "name": "stderr",
     "output_type": "stream",
     "text": [
      "/home/osfa_cat/.local/lib/python3.10/site-packages/sklearn/linear_model/_logistic.py:1247: FutureWarning: 'multi_class' was deprecated in version 1.5 and will be removed in 1.7. From then on, it will always use 'multinomial'. Leave it to its default value to avoid this warning.\n",
      "  warnings.warn(\n"
     ]
    },
    {
     "name": "stdout",
     "output_type": "stream",
     "text": [
      "Epoch: 3, Step: 02000/13231, Acc: 0.9078\n",
      "Epoch: 3, Step: 02100/13231, Loss: 0.8545\n",
      "Epoch: 3, Step: 02200/13231, Loss: 0.8536\n",
      "Epoch: 3, Step: 02300/13231, Loss: 0.8534\n",
      "Epoch: 3, Step: 02400/13231, Loss: 0.8538\n",
      "Epoch: 3, Step: 02500/13231, Loss: 0.8536\n",
      "Epoch: 3, Step: 02600/13231, Loss: 0.8531\n",
      "Epoch: 3, Step: 02700/13231, Loss: 0.8534\n",
      "Epoch: 3, Step: 02800/13231, Loss: 0.8530\n",
      "Epoch: 3, Step: 02900/13231, Loss: 0.8527\n",
      "Epoch: 3, Step: 03000/13231, Loss: 0.8526\n",
      "Epoch: 3, Step: 03100/13231, Loss: 0.8527\n",
      "Epoch: 3, Step: 03200/13231, Loss: 0.8526\n",
      "Epoch: 3, Step: 03300/13231, Loss: 0.8520\n",
      "Epoch: 3, Step: 03400/13231, Loss: 0.8523\n",
      "Epoch: 3, Step: 03500/13231, Loss: 0.8523\n",
      "Epoch: 3, Step: 03600/13231, Loss: 0.8521\n",
      "Epoch: 3, Step: 03700/13231, Loss: 0.8518\n",
      "Epoch: 3, Step: 03800/13231, Loss: 0.8518\n",
      "Epoch: 3, Step: 03900/13231, Loss: 0.8515\n",
      "Epoch: 3, Step: 04000/13231, Loss: 0.8513\n"
     ]
    },
    {
     "name": "stderr",
     "output_type": "stream",
     "text": [
      "/home/osfa_cat/.local/lib/python3.10/site-packages/sklearn/linear_model/_logistic.py:1247: FutureWarning: 'multi_class' was deprecated in version 1.5 and will be removed in 1.7. From then on, it will always use 'multinomial'. Leave it to its default value to avoid this warning.\n",
      "  warnings.warn(\n"
     ]
    },
    {
     "name": "stdout",
     "output_type": "stream",
     "text": [
      "Epoch: 3, Step: 04000/13231, Acc: 0.9091\n",
      "Epoch: 3, Step: 04100/13231, Loss: 0.8510\n",
      "Epoch: 3, Step: 04200/13231, Loss: 0.8511\n",
      "Epoch: 3, Step: 04300/13231, Loss: 0.8510\n",
      "Epoch: 3, Step: 04400/13231, Loss: 0.8508\n",
      "Epoch: 3, Step: 04500/13231, Loss: 0.8507\n",
      "Epoch: 3, Step: 04600/13231, Loss: 0.8508\n",
      "Epoch: 3, Step: 04700/13231, Loss: 0.8503\n",
      "Epoch: 3, Step: 04800/13231, Loss: 0.8505\n",
      "Epoch: 3, Step: 04900/13231, Loss: 0.8503\n",
      "Epoch: 3, Step: 05000/13231, Loss: 0.8502\n",
      "Epoch: 3, Step: 05100/13231, Loss: 0.8501\n",
      "Epoch: 3, Step: 05200/13231, Loss: 0.8496\n",
      "Epoch: 3, Step: 05300/13231, Loss: 0.8494\n",
      "Epoch: 3, Step: 05400/13231, Loss: 0.8497\n",
      "Epoch: 3, Step: 05500/13231, Loss: 0.8494\n",
      "Epoch: 3, Step: 05600/13231, Loss: 0.8493\n",
      "Epoch: 3, Step: 05700/13231, Loss: 0.8492\n",
      "Epoch: 3, Step: 05800/13231, Loss: 0.8490\n",
      "Epoch: 3, Step: 05900/13231, Loss: 0.8488\n",
      "Epoch: 3, Step: 06000/13231, Loss: 0.8487\n"
     ]
    },
    {
     "name": "stderr",
     "output_type": "stream",
     "text": [
      "/home/osfa_cat/.local/lib/python3.10/site-packages/sklearn/linear_model/_logistic.py:1247: FutureWarning: 'multi_class' was deprecated in version 1.5 and will be removed in 1.7. From then on, it will always use 'multinomial'. Leave it to its default value to avoid this warning.\n",
      "  warnings.warn(\n"
     ]
    },
    {
     "name": "stdout",
     "output_type": "stream",
     "text": [
      "Epoch: 3, Step: 06000/13231, Acc: 0.9105\n",
      "Epoch: 3, Step: 06100/13231, Loss: 0.8488\n",
      "Epoch: 3, Step: 06200/13231, Loss: 0.8489\n",
      "Epoch: 3, Step: 06300/13231, Loss: 0.8484\n",
      "Epoch: 3, Step: 06400/13231, Loss: 0.8484\n",
      "Epoch: 3, Step: 06500/13231, Loss: 0.8480\n",
      "Epoch: 3, Step: 06600/13231, Loss: 0.8482\n",
      "Epoch: 3, Step: 06700/13231, Loss: 0.8485\n",
      "Epoch: 3, Step: 06800/13231, Loss: 0.8481\n",
      "Epoch: 3, Step: 06900/13231, Loss: 0.8478\n",
      "Epoch: 3, Step: 07000/13231, Loss: 0.8480\n",
      "Epoch: 3, Step: 07100/13231, Loss: 0.8476\n",
      "Epoch: 3, Step: 07200/13231, Loss: 0.8474\n",
      "Epoch: 3, Step: 07300/13231, Loss: 0.8470\n",
      "Epoch: 3, Step: 07400/13231, Loss: 0.8473\n",
      "Epoch: 3, Step: 07500/13231, Loss: 0.8469\n",
      "Epoch: 3, Step: 07600/13231, Loss: 0.8473\n",
      "Epoch: 3, Step: 07700/13231, Loss: 0.8468\n",
      "Epoch: 3, Step: 07800/13231, Loss: 0.8468\n",
      "Epoch: 3, Step: 07900/13231, Loss: 0.8463\n",
      "Epoch: 3, Step: 08000/13231, Loss: 0.8465\n"
     ]
    },
    {
     "name": "stderr",
     "output_type": "stream",
     "text": [
      "/home/osfa_cat/.local/lib/python3.10/site-packages/sklearn/linear_model/_logistic.py:1247: FutureWarning: 'multi_class' was deprecated in version 1.5 and will be removed in 1.7. From then on, it will always use 'multinomial'. Leave it to its default value to avoid this warning.\n",
      "  warnings.warn(\n"
     ]
    },
    {
     "name": "stdout",
     "output_type": "stream",
     "text": [
      "Epoch: 3, Step: 08000/13231, Acc: 0.9114\n",
      "Epoch: 3, Step: 08100/13231, Loss: 0.8465\n",
      "Epoch: 3, Step: 08200/13231, Loss: 0.8464\n",
      "Epoch: 3, Step: 08300/13231, Loss: 0.8463\n",
      "Epoch: 3, Step: 08400/13231, Loss: 0.8461\n",
      "Epoch: 3, Step: 08500/13231, Loss: 0.8460\n",
      "Epoch: 3, Step: 08600/13231, Loss: 0.8458\n",
      "Epoch: 3, Step: 08700/13231, Loss: 0.8457\n",
      "Epoch: 3, Step: 08800/13231, Loss: 0.8457\n",
      "Epoch: 3, Step: 08900/13231, Loss: 0.8456\n",
      "Epoch: 3, Step: 09000/13231, Loss: 0.8455\n",
      "Epoch: 3, Step: 09100/13231, Loss: 0.8455\n",
      "Epoch: 3, Step: 09200/13231, Loss: 0.8454\n",
      "Epoch: 3, Step: 09300/13231, Loss: 0.8452\n",
      "Epoch: 3, Step: 09400/13231, Loss: 0.8453\n",
      "Epoch: 3, Step: 09500/13231, Loss: 0.8450\n",
      "Epoch: 3, Step: 09600/13231, Loss: 0.8453\n",
      "Epoch: 3, Step: 09700/13231, Loss: 0.8450\n",
      "Epoch: 3, Step: 09800/13231, Loss: 0.8449\n",
      "Epoch: 3, Step: 09900/13231, Loss: 0.8444\n",
      "Epoch: 3, Step: 10000/13231, Loss: 0.8444\n"
     ]
    },
    {
     "name": "stderr",
     "output_type": "stream",
     "text": [
      "/home/osfa_cat/.local/lib/python3.10/site-packages/sklearn/linear_model/_logistic.py:1247: FutureWarning: 'multi_class' was deprecated in version 1.5 and will be removed in 1.7. From then on, it will always use 'multinomial'. Leave it to its default value to avoid this warning.\n",
      "  warnings.warn(\n"
     ]
    },
    {
     "name": "stdout",
     "output_type": "stream",
     "text": [
      "Epoch: 3, Step: 10000/13231, Acc: 0.9121\n",
      "Epoch: 3, Step: 10100/13231, Loss: 0.8445\n",
      "Epoch: 3, Step: 10200/13231, Loss: 0.8447\n",
      "Epoch: 3, Step: 10300/13231, Loss: 0.8443\n",
      "Epoch: 3, Step: 10400/13231, Loss: 0.8442\n",
      "Epoch: 3, Step: 10500/13231, Loss: 0.8442\n",
      "Epoch: 3, Step: 10600/13231, Loss: 0.8441\n",
      "Epoch: 3, Step: 10700/13231, Loss: 0.8441\n",
      "Epoch: 3, Step: 10800/13231, Loss: 0.8442\n",
      "Epoch: 3, Step: 10900/13231, Loss: 0.8440\n",
      "Epoch: 3, Step: 11000/13231, Loss: 0.8434\n",
      "Epoch: 3, Step: 11100/13231, Loss: 0.8439\n",
      "Epoch: 3, Step: 11200/13231, Loss: 0.8435\n",
      "Epoch: 3, Step: 11300/13231, Loss: 0.8438\n",
      "Epoch: 3, Step: 11400/13231, Loss: 0.8434\n",
      "Epoch: 3, Step: 11500/13231, Loss: 0.8432\n",
      "Epoch: 3, Step: 11600/13231, Loss: 0.8428\n",
      "Epoch: 3, Step: 11700/13231, Loss: 0.8428\n",
      "Epoch: 3, Step: 11800/13231, Loss: 0.8432\n",
      "Epoch: 3, Step: 11900/13231, Loss: 0.8427\n",
      "Epoch: 3, Step: 12000/13231, Loss: 0.8427\n"
     ]
    },
    {
     "name": "stderr",
     "output_type": "stream",
     "text": [
      "/home/osfa_cat/.local/lib/python3.10/site-packages/sklearn/linear_model/_logistic.py:1247: FutureWarning: 'multi_class' was deprecated in version 1.5 and will be removed in 1.7. From then on, it will always use 'multinomial'. Leave it to its default value to avoid this warning.\n",
      "  warnings.warn(\n"
     ]
    },
    {
     "name": "stdout",
     "output_type": "stream",
     "text": [
      "Epoch: 3, Step: 12000/13231, Acc: 0.9128\n",
      "Epoch: 3, Step: 12100/13231, Loss: 0.8425\n",
      "Epoch: 3, Step: 12200/13231, Loss: 0.8426\n",
      "Epoch: 3, Step: 12300/13231, Loss: 0.8425\n",
      "Epoch: 3, Step: 12400/13231, Loss: 0.8425\n",
      "Epoch: 3, Step: 12500/13231, Loss: 0.8425\n",
      "Epoch: 3, Step: 12600/13231, Loss: 0.8422\n",
      "Epoch: 3, Step: 12700/13231, Loss: 0.8423\n",
      "Epoch: 3, Step: 12800/13231, Loss: 0.8420\n",
      "Epoch: 3, Step: 12900/13231, Loss: 0.8416\n",
      "Epoch: 3, Step: 13000/13231, Loss: 0.8419\n",
      "Epoch: 3, Step: 13100/13231, Loss: 0.8416\n",
      "Epoch: 3, Step: 13200/13231, Loss: 0.8414\n"
     ]
    },
    {
     "name": "stderr",
     "output_type": "stream",
     "text": [
      "/home/osfa_cat/.local/lib/python3.10/site-packages/sklearn/linear_model/_logistic.py:1247: FutureWarning: 'multi_class' was deprecated in version 1.5 and will be removed in 1.7. From then on, it will always use 'multinomial'. Leave it to its default value to avoid this warning.\n",
      "  warnings.warn(\n"
     ]
    },
    {
     "name": "stdout",
     "output_type": "stream",
     "text": [
      "Epoch: 3, Accuracy: 0.9147\n",
      "Epoch: 4, Step: 00100/13231, Loss: 0.8418\n",
      "Epoch: 4, Step: 00200/13231, Loss: 0.8415\n",
      "Epoch: 4, Step: 00300/13231, Loss: 0.8411\n",
      "Epoch: 4, Step: 00400/13231, Loss: 0.8411\n",
      "Epoch: 4, Step: 00500/13231, Loss: 0.8412\n",
      "Epoch: 4, Step: 00600/13231, Loss: 0.8411\n",
      "Epoch: 4, Step: 00700/13231, Loss: 0.8410\n",
      "Epoch: 4, Step: 00800/13231, Loss: 0.8415\n",
      "Epoch: 4, Step: 00900/13231, Loss: 0.8408\n",
      "Epoch: 4, Step: 01000/13231, Loss: 0.8408\n",
      "Epoch: 4, Step: 01100/13231, Loss: 0.8408\n",
      "Epoch: 4, Step: 01200/13231, Loss: 0.8407\n",
      "Epoch: 4, Step: 01300/13231, Loss: 0.8407\n",
      "Epoch: 4, Step: 01400/13231, Loss: 0.8410\n",
      "Epoch: 4, Step: 01500/13231, Loss: 0.8411\n",
      "Epoch: 4, Step: 01600/13231, Loss: 0.8404\n",
      "Epoch: 4, Step: 01700/13231, Loss: 0.8404\n",
      "Epoch: 4, Step: 01800/13231, Loss: 0.8405\n",
      "Epoch: 4, Step: 01900/13231, Loss: 0.8404\n",
      "Epoch: 4, Step: 02000/13231, Loss: 0.8402\n"
     ]
    },
    {
     "name": "stderr",
     "output_type": "stream",
     "text": [
      "/home/osfa_cat/.local/lib/python3.10/site-packages/sklearn/linear_model/_logistic.py:1247: FutureWarning: 'multi_class' was deprecated in version 1.5 and will be removed in 1.7. From then on, it will always use 'multinomial'. Leave it to its default value to avoid this warning.\n",
      "  warnings.warn(\n"
     ]
    },
    {
     "name": "stdout",
     "output_type": "stream",
     "text": [
      "Epoch: 4, Step: 02000/13231, Acc: 0.9143\n",
      "Epoch: 4, Step: 02100/13231, Loss: 0.8400\n",
      "Epoch: 4, Step: 02200/13231, Loss: 0.8401\n",
      "Epoch: 4, Step: 02300/13231, Loss: 0.8401\n",
      "Epoch: 4, Step: 02400/13231, Loss: 0.8399\n",
      "Epoch: 4, Step: 02500/13231, Loss: 0.8399\n",
      "Epoch: 4, Step: 02600/13231, Loss: 0.8399\n",
      "Epoch: 4, Step: 02700/13231, Loss: 0.8396\n",
      "Epoch: 4, Step: 02800/13231, Loss: 0.8394\n",
      "Epoch: 4, Step: 02900/13231, Loss: 0.8395\n",
      "Epoch: 4, Step: 03000/13231, Loss: 0.8393\n",
      "Epoch: 4, Step: 03100/13231, Loss: 0.8396\n",
      "Epoch: 4, Step: 03200/13231, Loss: 0.8393\n",
      "Epoch: 4, Step: 03300/13231, Loss: 0.8396\n",
      "Epoch: 4, Step: 03400/13231, Loss: 0.8392\n",
      "Epoch: 4, Step: 03500/13231, Loss: 0.8396\n",
      "Epoch: 4, Step: 03600/13231, Loss: 0.8390\n",
      "Epoch: 4, Step: 03700/13231, Loss: 0.8393\n",
      "Epoch: 4, Step: 03800/13231, Loss: 0.8390\n",
      "Epoch: 4, Step: 03900/13231, Loss: 0.8389\n",
      "Epoch: 4, Step: 04000/13231, Loss: 0.8390\n"
     ]
    },
    {
     "name": "stderr",
     "output_type": "stream",
     "text": [
      "/home/osfa_cat/.local/lib/python3.10/site-packages/sklearn/linear_model/_logistic.py:1247: FutureWarning: 'multi_class' was deprecated in version 1.5 and will be removed in 1.7. From then on, it will always use 'multinomial'. Leave it to its default value to avoid this warning.\n",
      "  warnings.warn(\n"
     ]
    },
    {
     "name": "stdout",
     "output_type": "stream",
     "text": [
      "Epoch: 4, Step: 04000/13231, Acc: 0.9160\n",
      "Epoch: 4, Step: 04100/13231, Loss: 0.8390\n",
      "Epoch: 4, Step: 04200/13231, Loss: 0.8388\n",
      "Epoch: 4, Step: 04300/13231, Loss: 0.8390\n",
      "Epoch: 4, Step: 04400/13231, Loss: 0.8389\n",
      "Epoch: 4, Step: 04500/13231, Loss: 0.8386\n",
      "Epoch: 4, Step: 04600/13231, Loss: 0.8391\n",
      "Epoch: 4, Step: 04700/13231, Loss: 0.8386\n",
      "Epoch: 4, Step: 04800/13231, Loss: 0.8388\n",
      "Epoch: 4, Step: 04900/13231, Loss: 0.8384\n",
      "Epoch: 4, Step: 05000/13231, Loss: 0.8382\n",
      "Epoch: 4, Step: 05100/13231, Loss: 0.8384\n",
      "Epoch: 4, Step: 05200/13231, Loss: 0.8386\n",
      "Epoch: 4, Step: 05300/13231, Loss: 0.8385\n",
      "Epoch: 4, Step: 05400/13231, Loss: 0.8381\n",
      "Epoch: 4, Step: 05500/13231, Loss: 0.8383\n",
      "Epoch: 4, Step: 05600/13231, Loss: 0.8380\n",
      "Epoch: 4, Step: 05700/13231, Loss: 0.8381\n",
      "Epoch: 4, Step: 05800/13231, Loss: 0.8379\n",
      "Epoch: 4, Step: 05900/13231, Loss: 0.8382\n",
      "Epoch: 4, Step: 06000/13231, Loss: 0.8382\n"
     ]
    },
    {
     "name": "stderr",
     "output_type": "stream",
     "text": [
      "/home/osfa_cat/.local/lib/python3.10/site-packages/sklearn/linear_model/_logistic.py:1247: FutureWarning: 'multi_class' was deprecated in version 1.5 and will be removed in 1.7. From then on, it will always use 'multinomial'. Leave it to its default value to avoid this warning.\n",
      "  warnings.warn(\n"
     ]
    },
    {
     "name": "stdout",
     "output_type": "stream",
     "text": [
      "Epoch: 4, Step: 06000/13231, Acc: 0.9166\n",
      "Epoch: 4, Step: 06100/13231, Loss: 0.8375\n",
      "Epoch: 4, Step: 06200/13231, Loss: 0.8378\n",
      "Epoch: 4, Step: 06300/13231, Loss: 0.8380\n",
      "Epoch: 4, Step: 06400/13231, Loss: 0.8379\n",
      "Epoch: 4, Step: 06500/13231, Loss: 0.8376\n",
      "Epoch: 4, Step: 06600/13231, Loss: 0.8377\n",
      "Epoch: 4, Step: 06700/13231, Loss: 0.8377\n",
      "Epoch: 4, Step: 06800/13231, Loss: 0.8376\n",
      "Epoch: 4, Step: 06900/13231, Loss: 0.8376\n",
      "Epoch: 4, Step: 07000/13231, Loss: 0.8377\n",
      "Epoch: 4, Step: 07100/13231, Loss: 0.8373\n",
      "Epoch: 4, Step: 07200/13231, Loss: 0.8371\n",
      "Epoch: 4, Step: 07300/13231, Loss: 0.8374\n",
      "Epoch: 4, Step: 07400/13231, Loss: 0.8375\n",
      "Epoch: 4, Step: 07500/13231, Loss: 0.8373\n",
      "Epoch: 4, Step: 07600/13231, Loss: 0.8372\n",
      "Epoch: 4, Step: 07700/13231, Loss: 0.8372\n",
      "Epoch: 4, Step: 07800/13231, Loss: 0.8369\n",
      "Epoch: 4, Step: 07900/13231, Loss: 0.8368\n",
      "Epoch: 4, Step: 08000/13231, Loss: 0.8371\n"
     ]
    },
    {
     "name": "stderr",
     "output_type": "stream",
     "text": [
      "/home/osfa_cat/.local/lib/python3.10/site-packages/sklearn/linear_model/_logistic.py:1247: FutureWarning: 'multi_class' was deprecated in version 1.5 and will be removed in 1.7. From then on, it will always use 'multinomial'. Leave it to its default value to avoid this warning.\n",
      "  warnings.warn(\n"
     ]
    },
    {
     "name": "stdout",
     "output_type": "stream",
     "text": [
      "Epoch: 4, Step: 08000/13231, Acc: 0.9174\n",
      "Epoch: 4, Step: 08100/13231, Loss: 0.8367\n",
      "Epoch: 4, Step: 08200/13231, Loss: 0.8371\n",
      "Epoch: 4, Step: 08300/13231, Loss: 0.8367\n",
      "Epoch: 4, Step: 08400/13231, Loss: 0.8368\n",
      "Epoch: 4, Step: 08500/13231, Loss: 0.8367\n",
      "Epoch: 4, Step: 08600/13231, Loss: 0.8368\n",
      "Epoch: 4, Step: 08700/13231, Loss: 0.8368\n",
      "Epoch: 4, Step: 08800/13231, Loss: 0.8366\n",
      "Epoch: 4, Step: 08900/13231, Loss: 0.8368\n",
      "Epoch: 4, Step: 09000/13231, Loss: 0.8367\n",
      "Epoch: 4, Step: 09100/13231, Loss: 0.8365\n",
      "Epoch: 4, Step: 09200/13231, Loss: 0.8365\n",
      "Epoch: 4, Step: 09300/13231, Loss: 0.8365\n",
      "Epoch: 4, Step: 09400/13231, Loss: 0.8360\n",
      "Epoch: 4, Step: 09500/13231, Loss: 0.8361\n",
      "Epoch: 4, Step: 09600/13231, Loss: 0.8363\n",
      "Epoch: 4, Step: 09700/13231, Loss: 0.8364\n",
      "Epoch: 4, Step: 09800/13231, Loss: 0.8363\n",
      "Epoch: 4, Step: 09900/13231, Loss: 0.8360\n",
      "Epoch: 4, Step: 10000/13231, Loss: 0.8360\n"
     ]
    },
    {
     "name": "stderr",
     "output_type": "stream",
     "text": [
      "/home/osfa_cat/.local/lib/python3.10/site-packages/sklearn/linear_model/_logistic.py:1247: FutureWarning: 'multi_class' was deprecated in version 1.5 and will be removed in 1.7. From then on, it will always use 'multinomial'. Leave it to its default value to avoid this warning.\n",
      "  warnings.warn(\n"
     ]
    },
    {
     "name": "stdout",
     "output_type": "stream",
     "text": [
      "Epoch: 4, Step: 10000/13231, Acc: 0.9181\n",
      "Epoch: 4, Step: 10100/13231, Loss: 0.8362\n",
      "Epoch: 4, Step: 10200/13231, Loss: 0.8362\n",
      "Epoch: 4, Step: 10300/13231, Loss: 0.8361\n",
      "Epoch: 4, Step: 10400/13231, Loss: 0.8359\n",
      "Epoch: 4, Step: 10500/13231, Loss: 0.8361\n",
      "Epoch: 4, Step: 10600/13231, Loss: 0.8359\n",
      "Epoch: 4, Step: 10700/13231, Loss: 0.8359\n",
      "Epoch: 4, Step: 10800/13231, Loss: 0.8361\n",
      "Epoch: 4, Step: 10900/13231, Loss: 0.8360\n",
      "Epoch: 4, Step: 11000/13231, Loss: 0.8355\n",
      "Epoch: 4, Step: 11100/13231, Loss: 0.8355\n",
      "Epoch: 4, Step: 11200/13231, Loss: 0.8359\n",
      "Epoch: 4, Step: 11300/13231, Loss: 0.8355\n",
      "Epoch: 4, Step: 11400/13231, Loss: 0.8358\n",
      "Epoch: 4, Step: 11500/13231, Loss: 0.8354\n",
      "Epoch: 4, Step: 11600/13231, Loss: 0.8356\n",
      "Epoch: 4, Step: 11700/13231, Loss: 0.8354\n",
      "Epoch: 4, Step: 11800/13231, Loss: 0.8352\n",
      "Epoch: 4, Step: 11900/13231, Loss: 0.8356\n",
      "Epoch: 4, Step: 12000/13231, Loss: 0.8354\n"
     ]
    },
    {
     "name": "stderr",
     "output_type": "stream",
     "text": [
      "/home/osfa_cat/.local/lib/python3.10/site-packages/sklearn/linear_model/_logistic.py:1247: FutureWarning: 'multi_class' was deprecated in version 1.5 and will be removed in 1.7. From then on, it will always use 'multinomial'. Leave it to its default value to avoid this warning.\n",
      "  warnings.warn(\n"
     ]
    },
    {
     "name": "stdout",
     "output_type": "stream",
     "text": [
      "Epoch: 4, Step: 12000/13231, Acc: 0.9180\n",
      "Epoch: 4, Step: 12100/13231, Loss: 0.8352\n",
      "Epoch: 4, Step: 12200/13231, Loss: 0.8353\n",
      "Epoch: 4, Step: 12300/13231, Loss: 0.8353\n",
      "Epoch: 4, Step: 12400/13231, Loss: 0.8350\n",
      "Epoch: 4, Step: 12500/13231, Loss: 0.8349\n",
      "Epoch: 4, Step: 12600/13231, Loss: 0.8354\n",
      "Epoch: 4, Step: 12700/13231, Loss: 0.8352\n",
      "Epoch: 4, Step: 12800/13231, Loss: 0.8351\n",
      "Epoch: 4, Step: 12900/13231, Loss: 0.8350\n",
      "Epoch: 4, Step: 13000/13231, Loss: 0.8349\n",
      "Epoch: 4, Step: 13100/13231, Loss: 0.8352\n",
      "Epoch: 4, Step: 13200/13231, Loss: 0.8352\n"
     ]
    },
    {
     "name": "stderr",
     "output_type": "stream",
     "text": [
      "/home/osfa_cat/.local/lib/python3.10/site-packages/sklearn/linear_model/_logistic.py:1247: FutureWarning: 'multi_class' was deprecated in version 1.5 and will be removed in 1.7. From then on, it will always use 'multinomial'. Leave it to its default value to avoid this warning.\n",
      "  warnings.warn(\n"
     ]
    },
    {
     "name": "stdout",
     "output_type": "stream",
     "text": [
      "Epoch: 4, Accuracy: 0.9188\n"
     ]
    }
   ],
   "source": [
    "for epoch in range(5):\n",
    "    train(epoch)\n",
    "    acc = test()\n",
    "    print(f'Epoch: {epoch}, Accuracy: {acc:.4f}')"
   ]
  }
 ],
 "metadata": {
  "colab": {
   "authorship_tag": "ABX9TyPEiGlAKjcXteEQ9F2/bZfh",
   "provenance": []
  },
  "kernelspec": {
   "display_name": "Python 3 (ipykernel)",
   "language": "python",
   "name": "python3"
  },
  "language_info": {
   "codemirror_mode": {
    "name": "ipython",
    "version": 3
   },
   "file_extension": ".py",
   "mimetype": "text/x-python",
   "name": "python",
   "nbconvert_exporter": "python",
   "pygments_lexer": "ipython3",
   "version": "3.10.12"
  }
 },
 "nbformat": 4,
 "nbformat_minor": 4
}
