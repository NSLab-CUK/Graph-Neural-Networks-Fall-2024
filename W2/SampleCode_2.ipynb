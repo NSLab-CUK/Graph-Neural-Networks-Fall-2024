{
  "nbformat": 4,
  "nbformat_minor": 0,
  "metadata": {
    "colab": {
      "provenance": []
    },
    "kernelspec": {
      "name": "python3",
      "display_name": "Python 3"
    },
    "language_info": {
      "name": "python"
    }
  },
  "cells": [
    {
      "cell_type": "code",
      "execution_count": 1,
      "metadata": {
        "colab": {
          "base_uri": "https://localhost:8080/"
        },
        "id": "Nu7TvpNKthbM",
        "outputId": "0efc0755-9793-479d-83c1-669b86df144b"
      },
      "outputs": [
        {
          "output_type": "stream",
          "name": "stdout",
          "text": [
            "Requirement already satisfied: gensim in /usr/local/lib/python3.10/dist-packages (4.3.3)\n",
            "Requirement already satisfied: numpy<2.0,>=1.18.5 in /usr/local/lib/python3.10/dist-packages (from gensim) (1.26.4)\n",
            "Requirement already satisfied: scipy<1.14.0,>=1.7.0 in /usr/local/lib/python3.10/dist-packages (from gensim) (1.13.1)\n",
            "Requirement already satisfied: smart-open>=1.8.1 in /usr/local/lib/python3.10/dist-packages (from gensim) (7.0.4)\n",
            "Requirement already satisfied: wrapt in /usr/local/lib/python3.10/dist-packages (from smart-open>=1.8.1->gensim) (1.16.0)\n",
            "Requirement already satisfied: matplotlib in /usr/local/lib/python3.10/dist-packages (3.7.1)\n",
            "Requirement already satisfied: contourpy>=1.0.1 in /usr/local/lib/python3.10/dist-packages (from matplotlib) (1.2.1)\n",
            "Requirement already satisfied: cycler>=0.10 in /usr/local/lib/python3.10/dist-packages (from matplotlib) (0.12.1)\n",
            "Requirement already satisfied: fonttools>=4.22.0 in /usr/local/lib/python3.10/dist-packages (from matplotlib) (4.53.1)\n",
            "Requirement already satisfied: kiwisolver>=1.0.1 in /usr/local/lib/python3.10/dist-packages (from matplotlib) (1.4.5)\n",
            "Requirement already satisfied: numpy>=1.20 in /usr/local/lib/python3.10/dist-packages (from matplotlib) (1.26.4)\n",
            "Requirement already satisfied: packaging>=20.0 in /usr/local/lib/python3.10/dist-packages (from matplotlib) (24.1)\n",
            "Requirement already satisfied: pillow>=6.2.0 in /usr/local/lib/python3.10/dist-packages (from matplotlib) (9.4.0)\n",
            "Requirement already satisfied: pyparsing>=2.3.1 in /usr/local/lib/python3.10/dist-packages (from matplotlib) (3.1.4)\n",
            "Requirement already satisfied: python-dateutil>=2.7 in /usr/local/lib/python3.10/dist-packages (from matplotlib) (2.8.2)\n",
            "Requirement already satisfied: six>=1.5 in /usr/local/lib/python3.10/dist-packages (from python-dateutil>=2.7->matplotlib) (1.16.0)\n",
            "Requirement already satisfied: scikit-learn in /usr/local/lib/python3.10/dist-packages (1.3.2)\n",
            "Collecting scikit-learn\n",
            "  Downloading scikit_learn-1.5.1-cp310-cp310-manylinux_2_17_x86_64.manylinux2014_x86_64.whl.metadata (12 kB)\n",
            "Requirement already satisfied: numpy>=1.19.5 in /usr/local/lib/python3.10/dist-packages (from scikit-learn) (1.26.4)\n",
            "Requirement already satisfied: scipy>=1.6.0 in /usr/local/lib/python3.10/dist-packages (from scikit-learn) (1.13.1)\n",
            "Requirement already satisfied: joblib>=1.2.0 in /usr/local/lib/python3.10/dist-packages (from scikit-learn) (1.4.2)\n",
            "Requirement already satisfied: threadpoolctl>=3.1.0 in /usr/local/lib/python3.10/dist-packages (from scikit-learn) (3.5.0)\n",
            "Downloading scikit_learn-1.5.1-cp310-cp310-manylinux_2_17_x86_64.manylinux2014_x86_64.whl (13.4 MB)\n",
            "\u001b[2K   \u001b[90m━━━━━━━━━━━━━━━━━━━━━━━━━━━━━━━━━━━━━━━━\u001b[0m \u001b[32m13.4/13.4 MB\u001b[0m \u001b[31m55.1 MB/s\u001b[0m eta \u001b[36m0:00:00\u001b[0m\n",
            "\u001b[?25hInstalling collected packages: scikit-learn\n",
            "  Attempting uninstall: scikit-learn\n",
            "    Found existing installation: scikit-learn 1.3.2\n",
            "    Uninstalling scikit-learn-1.3.2:\n",
            "      Successfully uninstalled scikit-learn-1.3.2\n",
            "Successfully installed scikit-learn-1.5.1\n",
            "Collecting torch_geometric\n",
            "  Downloading torch_geometric-2.5.3-py3-none-any.whl.metadata (64 kB)\n",
            "\u001b[2K     \u001b[90m━━━━━━━━━━━━━━━━━━━━━━━━━━━━━━━━━━━━━━━━\u001b[0m \u001b[32m64.2/64.2 kB\u001b[0m \u001b[31m1.9 MB/s\u001b[0m eta \u001b[36m0:00:00\u001b[0m\n",
            "\u001b[?25hRequirement already satisfied: tqdm in /usr/local/lib/python3.10/dist-packages (from torch_geometric) (4.66.5)\n",
            "Requirement already satisfied: numpy in /usr/local/lib/python3.10/dist-packages (from torch_geometric) (1.26.4)\n",
            "Requirement already satisfied: scipy in /usr/local/lib/python3.10/dist-packages (from torch_geometric) (1.13.1)\n",
            "Requirement already satisfied: fsspec in /usr/local/lib/python3.10/dist-packages (from torch_geometric) (2024.6.1)\n",
            "Requirement already satisfied: jinja2 in /usr/local/lib/python3.10/dist-packages (from torch_geometric) (3.1.4)\n",
            "Requirement already satisfied: aiohttp in /usr/local/lib/python3.10/dist-packages (from torch_geometric) (3.10.5)\n",
            "Requirement already satisfied: requests in /usr/local/lib/python3.10/dist-packages (from torch_geometric) (2.32.3)\n",
            "Requirement already satisfied: pyparsing in /usr/local/lib/python3.10/dist-packages (from torch_geometric) (3.1.4)\n",
            "Requirement already satisfied: scikit-learn in /usr/local/lib/python3.10/dist-packages (from torch_geometric) (1.5.1)\n",
            "Requirement already satisfied: psutil>=5.8.0 in /usr/local/lib/python3.10/dist-packages (from torch_geometric) (5.9.5)\n",
            "Requirement already satisfied: aiohappyeyeballs>=2.3.0 in /usr/local/lib/python3.10/dist-packages (from aiohttp->torch_geometric) (2.4.0)\n",
            "Requirement already satisfied: aiosignal>=1.1.2 in /usr/local/lib/python3.10/dist-packages (from aiohttp->torch_geometric) (1.3.1)\n",
            "Requirement already satisfied: attrs>=17.3.0 in /usr/local/lib/python3.10/dist-packages (from aiohttp->torch_geometric) (24.2.0)\n",
            "Requirement already satisfied: frozenlist>=1.1.1 in /usr/local/lib/python3.10/dist-packages (from aiohttp->torch_geometric) (1.4.1)\n",
            "Requirement already satisfied: multidict<7.0,>=4.5 in /usr/local/lib/python3.10/dist-packages (from aiohttp->torch_geometric) (6.0.5)\n",
            "Requirement already satisfied: yarl<2.0,>=1.0 in /usr/local/lib/python3.10/dist-packages (from aiohttp->torch_geometric) (1.9.4)\n",
            "Requirement already satisfied: async-timeout<5.0,>=4.0 in /usr/local/lib/python3.10/dist-packages (from aiohttp->torch_geometric) (4.0.3)\n",
            "Requirement already satisfied: MarkupSafe>=2.0 in /usr/local/lib/python3.10/dist-packages (from jinja2->torch_geometric) (2.1.5)\n",
            "Requirement already satisfied: charset-normalizer<4,>=2 in /usr/local/lib/python3.10/dist-packages (from requests->torch_geometric) (3.3.2)\n",
            "Requirement already satisfied: idna<4,>=2.5 in /usr/local/lib/python3.10/dist-packages (from requests->torch_geometric) (3.8)\n",
            "Requirement already satisfied: urllib3<3,>=1.21.1 in /usr/local/lib/python3.10/dist-packages (from requests->torch_geometric) (2.0.7)\n",
            "Requirement already satisfied: certifi>=2017.4.17 in /usr/local/lib/python3.10/dist-packages (from requests->torch_geometric) (2024.7.4)\n",
            "Requirement already satisfied: joblib>=1.2.0 in /usr/local/lib/python3.10/dist-packages (from scikit-learn->torch_geometric) (1.4.2)\n",
            "Requirement already satisfied: threadpoolctl>=3.1.0 in /usr/local/lib/python3.10/dist-packages (from scikit-learn->torch_geometric) (3.5.0)\n",
            "Downloading torch_geometric-2.5.3-py3-none-any.whl (1.1 MB)\n",
            "\u001b[2K   \u001b[90m━━━━━━━━━━━━━━━━━━━━━━━━━━━━━━━━━━━━━━━━\u001b[0m \u001b[32m1.1/1.1 MB\u001b[0m \u001b[31m18.5 MB/s\u001b[0m eta \u001b[36m0:00:00\u001b[0m\n",
            "\u001b[?25hInstalling collected packages: torch_geometric\n",
            "Successfully installed torch_geometric-2.5.3\n",
            "Requirement already satisfied: networkx in /usr/local/lib/python3.10/dist-packages (3.3)\n",
            "Looking in indexes: https://download.pytorch.org/whl/cu117\n",
            "Requirement already satisfied: torch in /usr/local/lib/python3.10/dist-packages (2.4.0+cu121)\n",
            "Requirement already satisfied: torchvision in /usr/local/lib/python3.10/dist-packages (0.19.0+cu121)\n",
            "Requirement already satisfied: torchaudio in /usr/local/lib/python3.10/dist-packages (2.4.0+cu121)\n",
            "Requirement already satisfied: filelock in /usr/local/lib/python3.10/dist-packages (from torch) (3.15.4)\n",
            "Requirement already satisfied: typing-extensions>=4.8.0 in /usr/local/lib/python3.10/dist-packages (from torch) (4.12.2)\n",
            "Requirement already satisfied: sympy in /usr/local/lib/python3.10/dist-packages (from torch) (1.13.2)\n",
            "Requirement already satisfied: networkx in /usr/local/lib/python3.10/dist-packages (from torch) (3.3)\n",
            "Requirement already satisfied: jinja2 in /usr/local/lib/python3.10/dist-packages (from torch) (3.1.4)\n",
            "Requirement already satisfied: fsspec in /usr/local/lib/python3.10/dist-packages (from torch) (2024.6.1)\n",
            "Requirement already satisfied: numpy in /usr/local/lib/python3.10/dist-packages (from torchvision) (1.26.4)\n",
            "Requirement already satisfied: pillow!=8.3.*,>=5.3.0 in /usr/local/lib/python3.10/dist-packages (from torchvision) (9.4.0)\n",
            "Requirement already satisfied: MarkupSafe>=2.0 in /usr/local/lib/python3.10/dist-packages (from jinja2->torch) (2.1.5)\n",
            "Requirement already satisfied: mpmath<1.4,>=1.1.0 in /usr/local/lib/python3.10/dist-packages (from sympy->torch) (1.3.0)\n"
          ]
        }
      ],
      "source": [
        "!pip install gensim\n",
        "!pip install matplotlib\n",
        "!pip install -U scikit-learn\n",
        "!pip install torch_geometric\n",
        "!pip install networkx\n",
        "!pip3 install torch torchvision torchaudio --index-url https://download.pytorch.org/whl/cu117"
      ]
    },
    {
      "cell_type": "markdown",
      "source": [
        "# Graph Construction"
      ],
      "metadata": {
        "id": "5IOhaI0ItsT-"
      }
    },
    {
      "cell_type": "code",
      "source": [
        "import networkx as nx\n",
        "import matplotlib.pyplot as plt\n",
        "import random\n",
        "\n",
        "G = nx.Graph()\n",
        "\n",
        "# add nodes to graph\n",
        "num_nodes = 20\n",
        "for i in range(num_nodes):\n",
        "    G.add_node(f\"{i}\")\n",
        "\n",
        "# add # of edges (connect randomly) to graph\n",
        "num_edges = 30\n",
        "for _ in range(num_edges):\n",
        "    source = random.choice(list(G.nodes()))\n",
        "    target = random.choice(list(G.nodes()))\n",
        "    if source != target and not G.has_edge(source, target):\n",
        "        G.add_edge(source, target)"
      ],
      "metadata": {
        "id": "30uyEAtFtl41"
      },
      "execution_count": 2,
      "outputs": []
    },
    {
      "cell_type": "code",
      "source": [
        "# visualization\n",
        "pos = nx.spring_layout(G, seed=42)\n",
        "nx.draw(G, pos, with_labels=True, node_size=300, node_color=\"skyblue\")\n",
        "plt.show()"
      ],
      "metadata": {
        "colab": {
          "base_uri": "https://localhost:8080/",
          "height": 516
        },
        "id": "WNlOiVG6t4qv",
        "outputId": "f114d026-a1dd-4e3b-b053-0598897a1603"
      },
      "execution_count": 3,
      "outputs": [
        {
          "output_type": "display_data",
          "data": {
            "text/plain": [
              "<Figure size 640x480 with 1 Axes>"
            ],
            "image/png": "[encoded data removed]"
          },
          "metadata": {}
        }
      ]
    },
    {
      "cell_type": "markdown",
      "source": [
        "# Random Walk"
      ],
      "metadata": {
        "id": "DaW6zuiPt7kz"
      }
    },
    {
      "cell_type": "code",
      "source": [
        "def random_walk(graph, start_node, num_steps):\n",
        "    result = []\n",
        "    current_node = start_node\n",
        "    for _ in range(num_steps):\n",
        "        result.append(current_node)\n",
        "        neighbors = list(graph .neighbors(current_node))\n",
        "        if not neighbors:\n",
        "            break\n",
        "        current_node = random.choice(neighbors)\n",
        "\n",
        "    return result"
      ],
      "metadata": {
        "id": "rBOulyZpt6qL"
      },
      "execution_count": 4,
      "outputs": []
    },
    {
      "cell_type": "code",
      "source": [
        "start_node = random.choice(list(G.nodes())) # Choose random node as a starting node\n",
        "num_steps = 10  # the number of steps for random walk (length of sequence)\n",
        "\n",
        "print(\"Random Walk:\")\n",
        "\n",
        "result = random_walk(G, start_node, num_steps)\n",
        "print(result)"
      ],
      "metadata": {
        "colab": {
          "base_uri": "https://localhost:8080/"
        },
        "id": "TXTUn4Mst-Ta",
        "outputId": "d97431fe-1144-4efa-9c70-19485312e158"
      },
      "execution_count": 5,
      "outputs": [
        {
          "output_type": "stream",
          "name": "stdout",
          "text": [
            "Random Walk:\n",
            "['0', '2', '5', '16', '5', '4', '8', '7', '8', '4']\n"
          ]
        }
      ]
    },
    {
      "cell_type": "markdown",
      "source": [
        "# DeepWalk"
      ],
      "metadata": {
        "id": "3Y38XMoNuEfh"
      }
    },
    {
      "cell_type": "code",
      "source": [
        "import numpy as np\n",
        "import random\n",
        "from gensim.models import Word2Vec\n",
        "from torch.utils.data import Dataset\n",
        "from functools import partial"
      ],
      "metadata": {
        "id": "vzuOG8FmuDmN"
      },
      "execution_count": 6,
      "outputs": []
    },
    {
      "cell_type": "markdown",
      "source": [
        "## Creating a dataset and run DeepWalk"
      ],
      "metadata": {
        "id": "PLdG1v1_uJmA"
      }
    },
    {
      "cell_type": "code",
      "source": [
        "dataset = [random_walk(G, start_node=random.choice(list(G.nodes)), num_steps=20) for _ in range(100)]\n",
        "for seq in dataset:\n",
        "    print(seq)"
      ],
      "metadata": {
        "colab": {
          "base_uri": "https://localhost:8080/"
        },
        "id": "pwQm4eH2uGt1",
        "outputId": "d3196960-ccf8-4809-e424-26e1e4b4c67e"
      },
      "execution_count": 7,
      "outputs": [
        {
          "output_type": "stream",
          "name": "stdout",
          "text": [
            "['4', '0', '12', '6', '0', '16', '14', '16', '5', '4', '5', '4', '8', '2', '8', '2', '1', '7', '8', '7']\n",
            "['0', '2', '5', '2', '16', '14', '16', '5', '2', '8', '4', '9', '4', '8', '7', '1', '7', '12', '6', '12']\n",
            "['11', '12', '6', '0', '4', '9', '4', '9', '4', '0', '16', '2', '8', '2', '1', '17', '15', '3', '11', '12']\n",
            "['16', '2', '16', '2', '16', '14', '16', '14', '16', '14', '16', '14', '16', '0', '6', '12', '7', '8', '2', '5']\n",
            "['17', '18', '17', '18', '17', '15', '3', '10', '18', '17', '1', '17', '1', '2', '8', '4', '8', '7', '1', '7']\n",
            "['0', '16', '14', '16', '14', '16', '0', '16', '2', '1', '17', '1', '17', '18', '17', '1', '7', '8', '2', '8']\n",
            "['3', '10', '3', '10', '19', '11', '5', '4', '8', '2', '1', '7', '12', '6', '12', '0', '2', '5', '11', '5']\n",
            "['18', '10', '3', '15', '3', '11', '5', '4', '9', '4', '5', '4', '9', '4', '0', '6', '12', '0', '6', '0']\n",
            "['7', '8', '2', '5', '4', '9', '4', '9', '4', '9', '4', '9', '4', '9', '4', '9', '4', '0', '12', '0']\n",
            "['18', '10', '18', '17', '15', '17', '1', '17', '18', '17', '18', '17', '1', '2', '16', '0', '2', '8', '2', '16']\n",
            "['17', '18', '17', '18', '17', '18', '10', '19', '10', '3', '11', '19', '10', '19', '11', '19', '10', '19', '11', '3']\n",
            "['4', '9', '4', '8', '4', '5', '16', '14', '16', '0', '6', '0', '6', '12', '0', '12', '7', '8', '2', '16']\n",
            "['18', '17', '15', '17', '15', '3', '11', '3', '15', '3', '10', '3', '11', '12', '7', '12', '7', '1', '17', '1']\n",
            "['17', '18', '17', '18', '10', '19', '10', '19', '11', '5', '4', '9', '4', '5', '11', '3', '15', '3', '15', '3']\n",
            "['13']\n",
            "['9', '4', '0', '6', '12', '6', '0', '6', '12', '0', '16', '14', '16', '14', '16', '14', '16', '0', '2', '8']\n",
            "['4', '0', '4', '0', '16', '0', '2', '8', '2', '16', '5', '11', '3', '11', '19', '11', '5', '11', '5', '2']\n",
            "['3', '10', '18', '10', '3', '15', '3', '15', '3', '11', '19', '10', '3', '11', '12', '11', '5', '4', '8', '2']\n",
            "['9', '4', '0', '6', '12', '0', '12', '0', '4', '0', '2', '5', '11', '19', '11', '5', '11', '12', '11', '19']\n",
            "['12', '0', '2', '16', '5', '11', '19', '10', '19', '11', '19', '11', '12', '11', '3', '11', '5', '11', '3', '11']\n",
            "['12', '7', '12', '7', '8', '2', '1', '17', '1', '7', '1', '7', '12', '6', '0', '2', '8', '2', '5', '2']\n",
            "['2', '0', '12', '7', '8', '4', '0', '4', '8', '4', '5', '4', '0', '6', '12', '11', '3', '10', '19', '11']\n",
            "['6', '0', '12', '0', '2', '8', '7', '8', '2', '5', '11', '12', '7', '8', '2', '0', '16', '2', '5', '11']\n",
            "['2', '1', '2', '1', '7', '12', '7', '12', '11', '5', '2', '8', '4', '8', '7', '1', '7', '8', '7', '1']\n",
            "['6', '12', '7', '8', '4', '5', '2', '8', '7', '12', '7', '8', '7', '8', '7', '1', '2', '16', '5', '11']\n",
            "['8', '4', '5', '11', '19', '11', '12', '11', '3', '10', '3', '11', '12', '7', '1', '2', '16', '14', '16', '0']\n",
            "['13']\n",
            "['12', '7', '1', '2', '1', '17', '18', '17', '15', '17', '15', '3', '10', '18', '17', '15', '3', '15', '3', '11']\n",
            "['7', '8', '4', '9', '4', '9', '4', '8', '4', '0', '6', '12', '7', '1', '17', '15', '17', '1', '17', '18']\n",
            "['16', '14', '16', '2', '0', '6', '0', '12', '6', '0', '6', '0', '2', '8', '4', '5', '16', '0', '12', '0']\n",
            "['12', '6', '12', '6', '0', '12', '0', '4', '5', '4', '5', '16', '0', '2', '1', '17', '1', '17', '15', '3']\n",
            "['14', '16', '2', '0', '4', '9', '4', '5', '2', '5', '2', '8', '7', '12', '0', '6', '0', '4', '9', '4']\n",
            "['14', '16', '0', '2', '0', '16', '5', '16', '14', '16', '2', '1', '7', '8', '7', '1', '2', '16', '0', '12']\n",
            "['5', '11', '3', '10', '3', '15', '17', '1', '2', '5', '4', '5', '2', '5', '4', '0', '4', '5', '2', '16']\n",
            "['18', '10', '19', '11', '3', '11', '3', '11', '5', '2', '16', '2', '16', '2', '1', '2', '1', '17', '15', '17']\n",
            "['2', '5', '4', '8', '4', '9', '4', '0', '4', '0', '12', '11', '3', '10', '3', '10', '3', '15', '17', '15']\n",
            "['12', '6', '0', '2', '0', '6', '0', '12', '0', '4', '9', '4', '8', '7', '8', '4', '5', '16', '2', '5']\n",
            "['6', '0', '2', '16', '14', '16', '5', '4', '0', '6', '0', '2', '16', '0', '4', '0', '4', '9', '4', '8']\n",
            "['0', '12', '0', '16', '0', '2', '1', '17', '18', '10', '19', '10', '18', '10', '19', '10', '3', '15', '17', '1']\n",
            "['16', '5', '11', '19', '10', '19', '11', '3', '10', '18', '17', '1', '17', '15', '3', '10', '18', '10', '19', '10']\n",
            "['7', '12', '0', '12', '11', '5', '2', '1', '2', '0', '6', '12', '11', '12', '0', '6', '0', '4', '0', '4']\n",
            "['6', '0', '4', '0', '2', '8', '7', '1', '7', '1', '17', '15', '3', '10', '18', '17', '15', '17', '15', '17']\n",
            "['10', '19', '10', '3', '15', '17', '18', '10', '18', '10', '19', '10', '3', '15', '3', '15', '3', '15', '3', '11']\n",
            "['6', '12', '7', '8', '4', '8', '7', '8', '7', '8', '4', '8', '7', '8', '4', '9', '4', '5', '2', '8']\n",
            "['17', '15', '17', '1', '7', '12', '6', '12', '11', '19', '10', '3', '10', '3', '11', '3', '11', '19', '10', '18']\n",
            "['2', '8', '4', '8', '2', '1', '2', '0', '4', '0', '6', '0', '2', '8', '7', '1', '7', '1', '7', '1']\n",
            "['0', '12', '0', '12', '0', '4', '9', '4', '8', '7', '8', '7', '1', '7', '12', '0', '2', '0', '4', '0']\n",
            "['1', '2', '8', '2', '0', '16', '0', '2', '0', '4', '8', '4', '0', '12', '6', '12', '11', '5', '4', '9']\n",
            "['18', '10', '19', '11', '12', '11', '19', '10', '18', '10', '18', '10', '19', '10', '18', '17', '15', '17', '15', '17']\n",
            "['10', '3', '15', '3', '15', '17', '15', '3', '11', '19', '10', '3', '10', '19', '10', '18', '10', '18', '10', '3']\n",
            "['12', '7', '12', '0', '16', '0', '12', '6', '12', '0', '2', '5', '2', '16', '0', '6', '0', '2', '0', '2']\n",
            "['2', '0', '2', '16', '0', '4', '0', '2', '8', '2', '1', '2', '16', '14', '16', '5', '11', '19', '10', '3']\n",
            "['4', '9', '4', '0', '6', '12', '11', '5', '2', '16', '2', '0', '4', '0', '2', '16', '14', '16', '2', '8']\n",
            "['4', '5', '4', '8', '2', '8', '2', '0', '12', '11', '3', '10', '3', '15', '3', '15', '3', '10', '19', '10']\n",
            "['9', '4', '9', '4', '0', '6', '12', '11', '3', '11', '12', '6', '0', '12', '7', '8', '2', '8', '7', '12']\n",
            "['19', '11', '3', '11', '3', '11', '3', '11', '3', '10', '3', '11', '12', '0', '16', '14', '16', '14', '16', '2']\n",
            "['15', '3', '15', '3', '15', '3', '10', '18', '10', '3', '15', '3', '10', '19', '10', '3', '11', '3', '11', '19']\n",
            "['12', '6', '0', '4', '8', '4', '5', '11', '5', '16', '0', '6', '12', '7', '12', '0', '6', '12', '7', '8']\n",
            "['8', '2', '16', '14', '16', '14', '16', '14', '16', '14', '16', '2', '5', '16', '14', '16', '0', '12', '11', '5']\n",
            "['3', '10', '18', '10', '3', '15', '17', '1', '17', '18', '10', '18', '10', '19', '10', '19', '10', '3', '11', '3']\n",
            "['18', '17', '15', '17', '18', '10', '18', '10', '18', '17', '15', '3', '10', '19', '10', '19', '10', '3', '15', '17']\n",
            "['15', '3', '15', '3', '10', '18', '10', '19', '11', '19', '10', '18', '17', '15', '3', '15', '17', '15', '17', '1']\n",
            "['10', '18', '10', '18', '10', '18', '17', '1', '17', '1', '2', '16', '5', '4', '9', '4', '8', '2', '16', '2']\n",
            "['1', '2', '5', '4', '8', '2', '5', '11', '19', '11', '3', '15', '3', '15', '3', '10', '3', '10', '18', '17']\n",
            "['1', '7', '1', '7', '8', '4', '5', '2', '8', '2', '0', '4', '9', '4', '0', '16', '14', '16', '14', '16']\n",
            "['15', '3', '10', '3', '10', '18', '10', '18', '17', '18', '17', '1', '7', '1', '17', '18', '17', '18', '17', '18']\n",
            "['6', '0', '2', '5', '16', '0', '4', '0', '2', '5', '16', '5', '2', '5', '2', '8', '7', '12', '11', '12']\n",
            "['18', '17', '1', '7', '1', '7', '8', '4', '9', '4', '0', '12', '7', '12', '11', '5', '11', '5', '16', '0']\n",
            "['13']\n",
            "['17', '18', '10', '18', '10', '19', '11', '5', '2', '8', '4', '8', '7', '12', '11', '5', '16', '5', '11', '3']\n",
            "['7', '12', '6', '12', '7', '1', '17', '1', '17', '15', '3', '10', '18', '10', '3', '11', '19', '10', '18', '17']\n",
            "['13']\n",
            "['11', '19', '11', '3', '11', '3', '15', '17', '15', '17', '15', '17', '18', '10', '3', '11', '5', '4', '9', '4']\n",
            "['1', '17', '18', '10', '3', '15', '17', '18', '10', '19', '10', '19', '11', '19', '10', '19', '10', '19', '10', '19']\n",
            "['2', '0', '12', '6', '12', '0', '6', '12', '11', '3', '10', '3', '10', '18', '10', '19', '10', '3', '11', '19']\n",
            "['10', '18', '17', '15', '17', '18', '17', '15', '17', '1', '7', '1', '17', '1', '2', '5', '4', '0', '2', '16']\n",
            "['3', '11', '19', '10', '19', '11', '5', '16', '2', '8', '2', '1', '2', '16', '14', '16', '2', '5', '16', '14']\n",
            "['0', '12', '6', '12', '7', '12', '11', '12', '7', '1', '17', '15', '17', '1', '7', '8', '2', '0', '16', '0']\n",
            "['18', '17', '15', '3', '15', '17', '1', '7', '1', '17', '15', '3', '11', '5', '11', '19', '11', '12', '11', '3']\n",
            "['15', '17', '1', '7', '8', '2', '8', '7', '12', '6', '12', '7', '8', '7', '1', '17', '18', '17', '1', '7']\n",
            "['17', '15', '3', '15', '17', '18', '10', '18', '10', '19', '10', '3', '10', '18', '10', '18', '17', '18', '17', '15']\n",
            "['9', '4', '9', '4', '8', '4', '5', '11', '19', '10', '3', '11', '19', '11', '19', '10', '18', '10', '18', '17']\n",
            "['16', '2', '16', '2', '1', '7', '8', '4', '8', '2', '0', '16', '5', '11', '3', '10', '3', '15', '17', '1']\n",
            "['10', '19', '10', '18', '10', '18', '17', '1', '2', '0', '2', '0', '6', '0', '12', '7', '1', '2', '5', '4']\n",
            "['10', '19', '10', '19', '10', '18', '17', '1', '7', '12', '11', '3', '11', '3', '10', '18', '17', '15', '3', '15']\n",
            "['3', '15', '17', '1', '2', '8', '7', '1', '7', '1', '2', '16', '2', '16', '5', '11', '12', '11', '3', '10']\n",
            "['2', '0', '2', '1', '17', '15', '17', '1', '7', '12', '6', '12', '6', '12', '6', '12', '6', '12', '6', '12']\n",
            "['13']\n",
            "['10', '19', '11', '3', '11', '5', '16', '5', '16', '0', '6', '0', '4', '9', '4', '5', '4', '8', '2', '16']\n",
            "['9', '4', '8', '2', '1', '17', '15', '17', '15', '3', '10', '18', '10', '3', '10', '3', '11', '3', '10', '19']\n",
            "['2', '5', '2', '1', '17', '1', '17', '18', '10', '3', '15', '17', '15', '17', '1', '17', '15', '17', '15', '17']\n",
            "['16', '14', '16', '2', '1', '7', '12', '0', '4', '5', '16', '2', '1', '2', '5', '11', '12', '11', '12', '0']\n",
            "['16', '5', '4', '8', '4', '0', '6', '0', '6', '0', '12', '6', '12', '0', '2', '0', '6', '12', '0', '12']\n",
            "['17', '1', '2', '0', '16', '5', '2', '16', '5', '2', '0', '12', '6', '0', '2', '0', '4', '0', '12', '7']\n",
            "['8', '7', '1', '2', '16', '5', '16', '2', '5', '11', '12', '7', '8', '7', '1', '17', '15', '3', '15', '3']\n",
            "['11', '3', '10', '18', '17', '1', '2', '5', '16', '5', '2', '0', '12', '0', '12', '0', '16', '0', '6', '0']\n",
            "['13']\n",
            "['0', '4', '0', '6', '0', '6', '0', '12', '11', '5', '16', '0', '12', '6', '12', '7', '1', '2', '16', '2']\n",
            "['8', '2', '1', '7', '12', '7', '8', '4', '0', '2', '8', '7', '8', '4', '5', '4', '5', '2', '1', '2']\n",
            "['3', '11', '3', '15', '17', '15', '3', '15', '3', '11', '5', '16', '2', '1', '17', '18', '17', '1', '2', '16']\n"
          ]
        }
      ]
    },
    {
      "cell_type": "code",
      "source": [
        "deepwalk = Word2Vec(dataset, vector_size=300, sg=1, epochs=100)"
      ],
      "metadata": {
        "id": "Wu-Pj272uRlu"
      },
      "execution_count": 8,
      "outputs": []
    },
    {
      "cell_type": "code",
      "source": [
        "sorted(deepwalk.wv.index_to_key)"
      ],
      "metadata": {
        "colab": {
          "base_uri": "https://localhost:8080/"
        },
        "id": "IrUjiz0bud3V",
        "outputId": "cb20be4e-763d-4471-9488-94f5728e0ef4"
      },
      "execution_count": 9,
      "outputs": [
        {
          "output_type": "execute_result",
          "data": {
            "text/plain": [
              "['0',\n",
              " '1',\n",
              " '10',\n",
              " '11',\n",
              " '12',\n",
              " '13',\n",
              " '14',\n",
              " '15',\n",
              " '16',\n",
              " '17',\n",
              " '18',\n",
              " '19',\n",
              " '2',\n",
              " '3',\n",
              " '4',\n",
              " '5',\n",
              " '6',\n",
              " '7',\n",
              " '8',\n",
              " '9']"
            ]
          },
          "metadata": {},
          "execution_count": 9
        }
      ]
    },
    {
      "cell_type": "code",
      "source": [
        "# Print result of DeepWalk\n",
        "print(deepwalk.wv[\"1\"])\n",
        "print(deepwalk.wv[\"1\"].shape)"
      ],
      "metadata": {
        "colab": {
          "base_uri": "https://localhost:8080/"
        },
        "id": "DVS4XJlbukT1",
        "outputId": "43462ddb-7696-462d-d420-57524b655c7a"
      },
      "execution_count": 10,
      "outputs": [
        {
          "output_type": "stream",
          "name": "stdout",
          "text": [
            "[ 4.78195623e-02  5.28745465e-02 -1.24107368e-01 -1.01490198e-02\n",
            " -2.47808415e-02 -1.14552021e-01  1.33817434e-01  9.75507349e-02\n",
            "  2.49906015e-02  1.35892192e-02  6.55965284e-02 -6.25353679e-02\n",
            " -3.18809375e-02  7.68901557e-02 -4.72710617e-02 -5.61713092e-02\n",
            "  1.04874149e-01  2.14084499e-02 -2.57346798e-02  1.08476244e-01\n",
            " -2.50514615e-02 -8.12303945e-02 -2.75551109e-04  7.19605610e-02\n",
            " -1.02329642e-01 -1.08758904e-01 -2.58920174e-02 -3.92922089e-02\n",
            " -3.63946892e-02 -1.80635720e-01  1.42326891e-01 -1.05607755e-01\n",
            "  9.39832926e-02 -5.14202341e-02 -8.86026304e-03 -2.45475140e-03\n",
            "  7.23034516e-02  8.55169818e-02 -1.88893043e-02  2.13776454e-02\n",
            " -9.45757776e-02  1.21801393e-02  4.10492048e-02 -7.44916052e-02\n",
            "  5.78730144e-02  2.67809965e-02 -1.92259066e-02  4.98097800e-02\n",
            "  4.60370556e-02  3.10923345e-02 -1.87552869e-02 -7.66695105e-03\n",
            " -6.99998662e-02 -7.28229759e-03  2.30530165e-02  7.17671216e-02\n",
            "  6.09173812e-02 -1.66853182e-02  1.09238580e-01  5.07924519e-03\n",
            " -2.48178616e-02 -3.34609821e-02  3.90902981e-02  1.10988088e-01\n",
            "  5.81827983e-02  1.87108088e-02 -1.61172912e-01  1.06241867e-01\n",
            " -9.06457305e-02  2.03725677e-02  6.21747002e-02  2.34648846e-02\n",
            "  9.92849842e-02  9.43823531e-03  2.22787797e-01 -9.40470621e-02\n",
            " -6.40271753e-02 -1.50910737e-02 -4.76315543e-02 -1.29424632e-01\n",
            " -1.30434468e-01 -9.21417251e-02 -2.59822253e-02  8.23471025e-02\n",
            "  4.50821742e-02 -1.15917847e-01  8.84086257e-05 -7.51484036e-02\n",
            "  1.47123173e-01  8.07906222e-03 -6.35628179e-02 -1.11139074e-01\n",
            "  8.07551369e-02 -2.46007890e-02  1.08277515e-01  4.76916917e-02\n",
            "  4.34218459e-02  4.53560315e-02 -5.89777790e-02 -8.93328562e-02\n",
            "  5.96514083e-02 -8.66575018e-02 -6.14253134e-02 -4.44753990e-02\n",
            " -1.20878875e-01 -6.81314319e-02 -1.86220985e-02  8.66116956e-02\n",
            "  7.73490071e-02 -6.06410876e-02 -8.62866566e-02 -7.88032189e-02\n",
            "  7.11300820e-02  1.48965657e-01 -7.24175349e-02  7.19702616e-02\n",
            "  4.18163277e-02  4.42964286e-02  4.19347771e-02 -1.04473025e-01\n",
            "  8.48526210e-02  3.26402895e-02  1.23937748e-01 -6.91605359e-02\n",
            " -3.89542198e-03  7.39350989e-02 -9.69126150e-02 -1.41530171e-01\n",
            " -5.78807220e-02  1.08903088e-01 -4.38385177e-03  9.30663273e-02\n",
            "  1.58529058e-01 -2.49637410e-01 -1.10206001e-01  5.58000132e-02\n",
            " -8.68953168e-02 -1.33223668e-01 -2.01226726e-01 -1.09788500e-01\n",
            " -1.35881244e-03  9.29915458e-02  8.65331478e-03  3.05070262e-02\n",
            "  1.21184692e-01 -5.45744970e-02 -3.53332348e-02 -1.78503275e-01\n",
            "  8.10127407e-02  1.00752562e-02 -1.13747939e-01 -1.14964083e-01\n",
            " -8.82629119e-03 -5.52701019e-02  1.19429223e-01 -3.70928831e-02\n",
            " -8.96249041e-02 -4.84503694e-02 -8.20593326e-04  2.06777584e-02\n",
            "  1.02853641e-01 -1.42956913e-01  6.98624030e-02  1.26614600e-01\n",
            " -5.59211262e-02  1.56325862e-01 -1.65843993e-01 -5.38750403e-02\n",
            " -9.52762272e-03  6.49680719e-02  3.71350418e-03 -2.53234953e-02\n",
            "  1.52320549e-01  3.11377458e-03  5.48065156e-02  3.75991710e-03\n",
            " -4.69477894e-03 -1.64524652e-02 -3.89555059e-02  4.68978658e-02\n",
            " -5.29446304e-02  4.99356315e-02 -1.50346473e-01  1.65152103e-02\n",
            " -4.56197634e-02 -7.66339004e-02  1.78845510e-01  9.94955003e-02\n",
            " -5.20029850e-02 -4.14565802e-02  1.21049561e-01  5.25809005e-02\n",
            " -9.48444456e-02 -6.85845464e-02  4.60579380e-04 -4.51173708e-02\n",
            " -2.01903343e-01 -2.68737301e-02 -4.69682515e-02  8.21095854e-02\n",
            " -5.01768887e-02 -9.50949937e-02 -5.95921762e-02  3.10242865e-02\n",
            "  5.47692589e-02  1.25098852e-02  8.14398006e-02  2.67163180e-02\n",
            " -7.56236613e-02 -9.11396593e-02  6.96290890e-03  3.10015026e-02\n",
            "  6.18946403e-02  9.35133919e-03  1.77433528e-02 -1.56894565e-01\n",
            " -6.54475465e-02 -1.14036858e-01 -9.28277615e-03 -6.84669986e-02\n",
            "  9.33417901e-02  4.11382318e-03 -3.29852812e-02 -7.23011866e-02\n",
            "  4.68232781e-02 -8.39181244e-02  5.64096272e-02  1.13795269e-02\n",
            " -1.96174160e-02  3.53523493e-02  2.39932090e-02  2.39736326e-02\n",
            " -6.74412921e-02 -5.95678687e-02  1.00849777e-01  1.12347424e-01\n",
            " -1.06925033e-01  7.60047510e-02  6.87634572e-02 -9.75647941e-02\n",
            "  2.13923096e-03 -1.07935019e-01 -2.04377882e-02 -5.41888177e-02\n",
            "  3.55161913e-02 -1.34457603e-01 -4.57062200e-02 -7.56133124e-02\n",
            "  1.27995566e-01 -2.62218211e-02  1.19952753e-01  2.59292144e-02\n",
            "  1.52478991e-02 -6.89917952e-02  2.71165930e-02 -4.63517420e-02\n",
            "  1.48469165e-01  6.54308051e-02 -7.59373829e-02 -3.41864787e-02\n",
            "  1.39639918e-02 -6.91470578e-02  1.51365504e-01 -1.33409455e-01\n",
            " -2.01685384e-01 -7.32573029e-03 -1.25924349e-02  1.37598673e-02\n",
            " -1.63648874e-01  9.47928987e-03  4.20058258e-02  3.69485989e-02\n",
            "  7.87152629e-03  8.86037424e-02  1.15990248e-02 -2.24391446e-02\n",
            "  7.07215741e-02  7.22671747e-02 -1.09248474e-01  1.41127527e-01\n",
            " -6.31054789e-02  1.10684773e-02 -8.16665962e-02  4.60807681e-02\n",
            " -7.12499544e-02 -1.80720910e-02 -1.47905648e-02  3.85387652e-02\n",
            "  4.13152575e-02  1.24158747e-01  7.45901018e-02  1.24968156e-01\n",
            "  3.44305336e-02  8.37477669e-02  7.23841339e-02  7.96774402e-02\n",
            " -8.26086570e-03 -4.82828841e-02 -4.95934263e-02 -9.61514339e-02]\n",
            "(300,)\n"
          ]
        }
      ]
    },
    {
      "cell_type": "markdown",
      "source": [
        "# Node2Vec"
      ],
      "metadata": {
        "id": "kLdNFeQNuMyW"
      }
    },
    {
      "cell_type": "code",
      "source": [
        "def node2vec_walk(G, start_node, num_steps, p, q):\n",
        "    walk = [start_node]\n",
        "\n",
        "    for _ in range(num_steps - 1):\n",
        "        current_node = walk[-1]\n",
        "        neighbors = list(G.neighbors(current_node))\n",
        "\n",
        "        if len(neighbors) > 0:\n",
        "            if len(walk) == 1:\n",
        "                next_node = random.choice(neighbors)\n",
        "            else:\n",
        "                next_node = node2vec_weighted_choice(G, current_node, walk[-2], p, q)\n",
        "\n",
        "            walk.append(next_node)\n",
        "        else:\n",
        "            break\n",
        "\n",
        "    return walk\n",
        "\n",
        "def node2vec_weighted_choice(G, current_node, previous_node, p, q):\n",
        "    neighbors = list(G.neighbors(current_node))\n",
        "    unnormalized_weights = []\n",
        "\n",
        "    for neighbor in neighbors:\n",
        "        if neighbor == previous_node:\n",
        "            unnormalized_weights.append(1.0 / p)\n",
        "        elif G.has_edge(current_node, neighbor):\n",
        "            unnormalized_weights.append(1.0)\n",
        "        else:\n",
        "            unnormalized_weights.append(1.0 / q)\n",
        "\n",
        "    norm_weights = [weight / sum(unnormalized_weights) for weight in unnormalized_weights]\n",
        "    return random.choices(neighbors, weights=norm_weights)[0]"
      ],
      "metadata": {
        "id": "UK7Zoij6uscT"
      },
      "execution_count": 11,
      "outputs": []
    },
    {
      "cell_type": "code",
      "source": [
        "dataset2 = [node2vec_walk(G, start_node=random.choice(list(G.nodes)), num_steps=10, p=0.8, q=0.2) for _ in range(100)]\n",
        "for i in dataset:\n",
        "    print(i)"
      ],
      "metadata": {
        "colab": {
          "base_uri": "https://localhost:8080/"
        },
        "id": "2dVV3xhxuuYs",
        "outputId": "6087482e-1100-41dc-85ea-0d2d912272a7"
      },
      "execution_count": 12,
      "outputs": [
        {
          "output_type": "stream",
          "name": "stdout",
          "text": [
            "['4', '0', '12', '6', '0', '16', '14', '16', '5', '4', '5', '4', '8', '2', '8', '2', '1', '7', '8', '7']\n",
            "['0', '2', '5', '2', '16', '14', '16', '5', '2', '8', '4', '9', '4', '8', '7', '1', '7', '12', '6', '12']\n",
            "['11', '12', '6', '0', '4', '9', '4', '9', '4', '0', '16', '2', '8', '2', '1', '17', '15', '3', '11', '12']\n",
            "['16', '2', '16', '2', '16', '14', '16', '14', '16', '14', '16', '14', '16', '0', '6', '12', '7', '8', '2', '5']\n",
            "['17', '18', '17', '18', '17', '15', '3', '10', '18', '17', '1', '17', '1', '2', '8', '4', '8', '7', '1', '7']\n",
            "['0', '16', '14', '16', '14', '16', '0', '16', '2', '1', '17', '1', '17', '18', '17', '1', '7', '8', '2', '8']\n",
            "['3', '10', '3', '10', '19', '11', '5', '4', '8', '2', '1', '7', '12', '6', '12', '0', '2', '5', '11', '5']\n",
            "['18', '10', '3', '15', '3', '11', '5', '4', '9', '4', '5', '4', '9', '4', '0', '6', '12', '0', '6', '0']\n",
            "['7', '8', '2', '5', '4', '9', '4', '9', '4', '9', '4', '9', '4', '9', '4', '9', '4', '0', '12', '0']\n",
            "['18', '10', '18', '17', '15', '17', '1', '17', '18', '17', '18', '17', '1', '2', '16', '0', '2', '8', '2', '16']\n",
            "['17', '18', '17', '18', '17', '18', '10', '19', '10', '3', '11', '19', '10', '19', '11', '19', '10', '19', '11', '3']\n",
            "['4', '9', '4', '8', '4', '5', '16', '14', '16', '0', '6', '0', '6', '12', '0', '12', '7', '8', '2', '16']\n",
            "['18', '17', '15', '17', '15', '3', '11', '3', '15', '3', '10', '3', '11', '12', '7', '12', '7', '1', '17', '1']\n",
            "['17', '18', '17', '18', '10', '19', '10', '19', '11', '5', '4', '9', '4', '5', '11', '3', '15', '3', '15', '3']\n",
            "['13']\n",
            "['9', '4', '0', '6', '12', '6', '0', '6', '12', '0', '16', '14', '16', '14', '16', '14', '16', '0', '2', '8']\n",
            "['4', '0', '4', '0', '16', '0', '2', '8', '2', '16', '5', '11', '3', '11', '19', '11', '5', '11', '5', '2']\n",
            "['3', '10', '18', '10', '3', '15', '3', '15', '3', '11', '19', '10', '3', '11', '12', '11', '5', '4', '8', '2']\n",
            "['9', '4', '0', '6', '12', '0', '12', '0', '4', '0', '2', '5', '11', '19', '11', '5', '11', '12', '11', '19']\n",
            "['12', '0', '2', '16', '5', '11', '19', '10', '19', '11', '19', '11', '12', '11', '3', '11', '5', '11', '3', '11']\n",
            "['12', '7', '12', '7', '8', '2', '1', '17', '1', '7', '1', '7', '12', '6', '0', '2', '8', '2', '5', '2']\n",
            "['2', '0', '12', '7', '8', '4', '0', '4', '8', '4', '5', '4', '0', '6', '12', '11', '3', '10', '19', '11']\n",
            "['6', '0', '12', '0', '2', '8', '7', '8', '2', '5', '11', '12', '7', '8', '2', '0', '16', '2', '5', '11']\n",
            "['2', '1', '2', '1', '7', '12', '7', '12', '11', '5', '2', '8', '4', '8', '7', '1', '7', '8', '7', '1']\n",
            "['6', '12', '7', '8', '4', '5', '2', '8', '7', '12', '7', '8', '7', '8', '7', '1', '2', '16', '5', '11']\n",
            "['8', '4', '5', '11', '19', '11', '12', '11', '3', '10', '3', '11', '12', '7', '1', '2', '16', '14', '16', '0']\n",
            "['13']\n",
            "['12', '7', '1', '2', '1', '17', '18', '17', '15', '17', '15', '3', '10', '18', '17', '15', '3', '15', '3', '11']\n",
            "['7', '8', '4', '9', '4', '9', '4', '8', '4', '0', '6', '12', '7', '1', '17', '15', '17', '1', '17', '18']\n",
            "['16', '14', '16', '2', '0', '6', '0', '12', '6', '0', '6', '0', '2', '8', '4', '5', '16', '0', '12', '0']\n",
            "['12', '6', '12', '6', '0', '12', '0', '4', '5', '4', '5', '16', '0', '2', '1', '17', '1', '17', '15', '3']\n",
            "['14', '16', '2', '0', '4', '9', '4', '5', '2', '5', '2', '8', '7', '12', '0', '6', '0', '4', '9', '4']\n",
            "['14', '16', '0', '2', '0', '16', '5', '16', '14', '16', '2', '1', '7', '8', '7', '1', '2', '16', '0', '12']\n",
            "['5', '11', '3', '10', '3', '15', '17', '1', '2', '5', '4', '5', '2', '5', '4', '0', '4', '5', '2', '16']\n",
            "['18', '10', '19', '11', '3', '11', '3', '11', '5', '2', '16', '2', '16', '2', '1', '2', '1', '17', '15', '17']\n",
            "['2', '5', '4', '8', '4', '9', '4', '0', '4', '0', '12', '11', '3', '10', '3', '10', '3', '15', '17', '15']\n",
            "['12', '6', '0', '2', '0', '6', '0', '12', '0', '4', '9', '4', '8', '7', '8', '4', '5', '16', '2', '5']\n",
            "['6', '0', '2', '16', '14', '16', '5', '4', '0', '6', '0', '2', '16', '0', '4', '0', '4', '9', '4', '8']\n",
            "['0', '12', '0', '16', '0', '2', '1', '17', '18', '10', '19', '10', '18', '10', '19', '10', '3', '15', '17', '1']\n",
            "['16', '5', '11', '19', '10', '19', '11', '3', '10', '18', '17', '1', '17', '15', '3', '10', '18', '10', '19', '10']\n",
            "['7', '12', '0', '12', '11', '5', '2', '1', '2', '0', '6', '12', '11', '12', '0', '6', '0', '4', '0', '4']\n",
            "['6', '0', '4', '0', '2', '8', '7', '1', '7', '1', '17', '15', '3', '10', '18', '17', '15', '17', '15', '17']\n",
            "['10', '19', '10', '3', '15', '17', '18', '10', '18', '10', '19', '10', '3', '15', '3', '15', '3', '15', '3', '11']\n",
            "['6', '12', '7', '8', '4', '8', '7', '8', '7', '8', '4', '8', '7', '8', '4', '9', '4', '5', '2', '8']\n",
            "['17', '15', '17', '1', '7', '12', '6', '12', '11', '19', '10', '3', '10', '3', '11', '3', '11', '19', '10', '18']\n",
            "['2', '8', '4', '8', '2', '1', '2', '0', '4', '0', '6', '0', '2', '8', '7', '1', '7', '1', '7', '1']\n",
            "['0', '12', '0', '12', '0', '4', '9', '4', '8', '7', '8', '7', '1', '7', '12', '0', '2', '0', '4', '0']\n",
            "['1', '2', '8', '2', '0', '16', '0', '2', '0', '4', '8', '4', '0', '12', '6', '12', '11', '5', '4', '9']\n",
            "['18', '10', '19', '11', '12', '11', '19', '10', '18', '10', '18', '10', '19', '10', '18', '17', '15', '17', '15', '17']\n",
            "['10', '3', '15', '3', '15', '17', '15', '3', '11', '19', '10', '3', '10', '19', '10', '18', '10', '18', '10', '3']\n",
            "['12', '7', '12', '0', '16', '0', '12', '6', '12', '0', '2', '5', '2', '16', '0', '6', '0', '2', '0', '2']\n",
            "['2', '0', '2', '16', '0', '4', '0', '2', '8', '2', '1', '2', '16', '14', '16', '5', '11', '19', '10', '3']\n",
            "['4', '9', '4', '0', '6', '12', '11', '5', '2', '16', '2', '0', '4', '0', '2', '16', '14', '16', '2', '8']\n",
            "['4', '5', '4', '8', '2', '8', '2', '0', '12', '11', '3', '10', '3', '15', '3', '15', '3', '10', '19', '10']\n",
            "['9', '4', '9', '4', '0', '6', '12', '11', '3', '11', '12', '6', '0', '12', '7', '8', '2', '8', '7', '12']\n",
            "['19', '11', '3', '11', '3', '11', '3', '11', '3', '10', '3', '11', '12', '0', '16', '14', '16', '14', '16', '2']\n",
            "['15', '3', '15', '3', '15', '3', '10', '18', '10', '3', '15', '3', '10', '19', '10', '3', '11', '3', '11', '19']\n",
            "['12', '6', '0', '4', '8', '4', '5', '11', '5', '16', '0', '6', '12', '7', '12', '0', '6', '12', '7', '8']\n",
            "['8', '2', '16', '14', '16', '14', '16', '14', '16', '14', '16', '2', '5', '16', '14', '16', '0', '12', '11', '5']\n",
            "['3', '10', '18', '10', '3', '15', '17', '1', '17', '18', '10', '18', '10', '19', '10', '19', '10', '3', '11', '3']\n",
            "['18', '17', '15', '17', '18', '10', '18', '10', '18', '17', '15', '3', '10', '19', '10', '19', '10', '3', '15', '17']\n",
            "['15', '3', '15', '3', '10', '18', '10', '19', '11', '19', '10', '18', '17', '15', '3', '15', '17', '15', '17', '1']\n",
            "['10', '18', '10', '18', '10', '18', '17', '1', '17', '1', '2', '16', '5', '4', '9', '4', '8', '2', '16', '2']\n",
            "['1', '2', '5', '4', '8', '2', '5', '11', '19', '11', '3', '15', '3', '15', '3', '10', '3', '10', '18', '17']\n",
            "['1', '7', '1', '7', '8', '4', '5', '2', '8', '2', '0', '4', '9', '4', '0', '16', '14', '16', '14', '16']\n",
            "['15', '3', '10', '3', '10', '18', '10', '18', '17', '18', '17', '1', '7', '1', '17', '18', '17', '18', '17', '18']\n",
            "['6', '0', '2', '5', '16', '0', '4', '0', '2', '5', '16', '5', '2', '5', '2', '8', '7', '12', '11', '12']\n",
            "['18', '17', '1', '7', '1', '7', '8', '4', '9', '4', '0', '12', '7', '12', '11', '5', '11', '5', '16', '0']\n",
            "['13']\n",
            "['17', '18', '10', '18', '10', '19', '11', '5', '2', '8', '4', '8', '7', '12', '11', '5', '16', '5', '11', '3']\n",
            "['7', '12', '6', '12', '7', '1', '17', '1', '17', '15', '3', '10', '18', '10', '3', '11', '19', '10', '18', '17']\n",
            "['13']\n",
            "['11', '19', '11', '3', '11', '3', '15', '17', '15', '17', '15', '17', '18', '10', '3', '11', '5', '4', '9', '4']\n",
            "['1', '17', '18', '10', '3', '15', '17', '18', '10', '19', '10', '19', '11', '19', '10', '19', '10', '19', '10', '19']\n",
            "['2', '0', '12', '6', '12', '0', '6', '12', '11', '3', '10', '3', '10', '18', '10', '19', '10', '3', '11', '19']\n",
            "['10', '18', '17', '15', '17', '18', '17', '15', '17', '1', '7', '1', '17', '1', '2', '5', '4', '0', '2', '16']\n",
            "['3', '11', '19', '10', '19', '11', '5', '16', '2', '8', '2', '1', '2', '16', '14', '16', '2', '5', '16', '14']\n",
            "['0', '12', '6', '12', '7', '12', '11', '12', '7', '1', '17', '15', '17', '1', '7', '8', '2', '0', '16', '0']\n",
            "['18', '17', '15', '3', '15', '17', '1', '7', '1', '17', '15', '3', '11', '5', '11', '19', '11', '12', '11', '3']\n",
            "['15', '17', '1', '7', '8', '2', '8', '7', '12', '6', '12', '7', '8', '7', '1', '17', '18', '17', '1', '7']\n",
            "['17', '15', '3', '15', '17', '18', '10', '18', '10', '19', '10', '3', '10', '18', '10', '18', '17', '18', '17', '15']\n",
            "['9', '4', '9', '4', '8', '4', '5', '11', '19', '10', '3', '11', '19', '11', '19', '10', '18', '10', '18', '17']\n",
            "['16', '2', '16', '2', '1', '7', '8', '4', '8', '2', '0', '16', '5', '11', '3', '10', '3', '15', '17', '1']\n",
            "['10', '19', '10', '18', '10', '18', '17', '1', '2', '0', '2', '0', '6', '0', '12', '7', '1', '2', '5', '4']\n",
            "['10', '19', '10', '19', '10', '18', '17', '1', '7', '12', '11', '3', '11', '3', '10', '18', '17', '15', '3', '15']\n",
            "['3', '15', '17', '1', '2', '8', '7', '1', '7', '1', '2', '16', '2', '16', '5', '11', '12', '11', '3', '10']\n",
            "['2', '0', '2', '1', '17', '15', '17', '1', '7', '12', '6', '12', '6', '12', '6', '12', '6', '12', '6', '12']\n",
            "['13']\n",
            "['10', '19', '11', '3', '11', '5', '16', '5', '16', '0', '6', '0', '4', '9', '4', '5', '4', '8', '2', '16']\n",
            "['9', '4', '8', '2', '1', '17', '15', '17', '15', '3', '10', '18', '10', '3', '10', '3', '11', '3', '10', '19']\n",
            "['2', '5', '2', '1', '17', '1', '17', '18', '10', '3', '15', '17', '15', '17', '1', '17', '15', '17', '15', '17']\n",
            "['16', '14', '16', '2', '1', '7', '12', '0', '4', '5', '16', '2', '1', '2', '5', '11', '12', '11', '12', '0']\n",
            "['16', '5', '4', '8', '4', '0', '6', '0', '6', '0', '12', '6', '12', '0', '2', '0', '6', '12', '0', '12']\n",
            "['17', '1', '2', '0', '16', '5', '2', '16', '5', '2', '0', '12', '6', '0', '2', '0', '4', '0', '12', '7']\n",
            "['8', '7', '1', '2', '16', '5', '16', '2', '5', '11', '12', '7', '8', '7', '1', '17', '15', '3', '15', '3']\n",
            "['11', '3', '10', '18', '17', '1', '2', '5', '16', '5', '2', '0', '12', '0', '12', '0', '16', '0', '6', '0']\n",
            "['13']\n",
            "['0', '4', '0', '6', '0', '6', '0', '12', '11', '5', '16', '0', '12', '6', '12', '7', '1', '2', '16', '2']\n",
            "['8', '2', '1', '7', '12', '7', '8', '4', '0', '2', '8', '7', '8', '4', '5', '4', '5', '2', '1', '2']\n",
            "['3', '11', '3', '15', '17', '15', '3', '15', '3', '11', '5', '16', '2', '1', '17', '18', '17', '1', '2', '16']\n"
          ]
        }
      ]
    },
    {
      "cell_type": "code",
      "source": [
        "node2vec = Word2Vec(dataset2, vector_size=200, sg=1, epochs=100)\n",
        "sorted(node2vec.wv.index_to_key)"
      ],
      "metadata": {
        "colab": {
          "base_uri": "https://localhost:8080/"
        },
        "id": "wR3LL1cauwuC",
        "outputId": "f7eeb64c-4b5a-465f-a9f6-674877488118"
      },
      "execution_count": 13,
      "outputs": [
        {
          "output_type": "execute_result",
          "data": {
            "text/plain": [
              "['0',\n",
              " '1',\n",
              " '10',\n",
              " '11',\n",
              " '12',\n",
              " '13',\n",
              " '14',\n",
              " '15',\n",
              " '16',\n",
              " '17',\n",
              " '18',\n",
              " '19',\n",
              " '2',\n",
              " '3',\n",
              " '4',\n",
              " '5',\n",
              " '6',\n",
              " '7',\n",
              " '8',\n",
              " '9']"
            ]
          },
          "metadata": {},
          "execution_count": 13
        }
      ]
    },
    {
      "cell_type": "code",
      "source": [
        "# Print result\n",
        "print(node2vec.wv[\"1\"])\n",
        "print(node2vec.wv[\"1\"].shape)"
      ],
      "metadata": {
        "colab": {
          "base_uri": "https://localhost:8080/"
        },
        "id": "aRte6E2cuzzt",
        "outputId": "2f3cf900-b209-4f95-cc0f-b6b6c67a9a9f"
      },
      "execution_count": 14,
      "outputs": [
        {
          "output_type": "stream",
          "name": "stdout",
          "text": [
            "[ 0.05495987 -0.05215708 -0.00991439  0.03742835  0.05337831 -0.03493515\n",
            "  0.12360308  0.23793694 -0.04542554 -0.10666488 -0.00421235 -0.18558428\n",
            "  0.04417838  0.11003502 -0.01565721  0.01338594  0.00235753  0.15741242\n",
            "  0.01931739 -0.19298118  0.09812829 -0.0093634  -0.01603694  0.08202691\n",
            "  0.01962128  0.03395925 -0.0201087  -0.01504645 -0.01970645 -0.09168261\n",
            "  0.07866966 -0.0062492   0.08809683 -0.08905031 -0.02476747 -0.04505589\n",
            "  0.12771861 -0.01415429 -0.03327465 -0.05040484 -0.02602692 -0.1013386\n",
            " -0.0149294   0.04622966  0.03787012 -0.10136581 -0.0072317  -0.07187284\n",
            "  0.09744021  0.02761418  0.00035316 -0.09911893 -0.06760137 -0.02472729\n",
            "  0.05144492  0.01928771  0.00508153 -0.10347173  0.03213601  0.0201563\n",
            " -0.02953081 -0.04889931  0.22069207  0.09507106 -0.1910152   0.20065029\n",
            " -0.05005342  0.1035753  -0.14554101  0.12571335  0.08001388  0.06963684\n",
            "  0.13034044  0.02395345  0.10272931  0.02586981  0.10233285  0.04780243\n",
            " -0.09374087 -0.02508752 -0.10252166 -0.0741405  -0.06175297  0.09504987\n",
            " -0.03370487 -0.01701241  0.09476953 -0.02808788 -0.0033146   0.02557707\n",
            "  0.07272592 -0.02433163  0.16720311  0.07350417  0.16505356  0.01308649\n",
            "  0.11189739 -0.02713474  0.05033015  0.03333906 -0.00947663  0.11358196\n",
            "  0.11638209  0.03827649 -0.12872466 -0.11170339 -0.02197822  0.03422366\n",
            " -0.04277945 -0.13955688 -0.03425477  0.02195089  0.05047289 -0.00238163\n",
            "  0.07174162 -0.0054442   0.20291036 -0.09917343 -0.02457571 -0.12222479\n",
            " -0.00181042  0.05040787  0.01558418 -0.15149547 -0.09770594  0.09431899\n",
            " -0.19022821  0.017481    0.03218911  0.17492968  0.11388619 -0.0692063\n",
            " -0.05634928 -0.1867011  -0.04249673  0.16245905 -0.01289263 -0.01216942\n",
            " -0.07633122 -0.01674859  0.11273037 -0.05104282  0.08767182  0.06303643\n",
            "  0.05047514 -0.09120129 -0.08177178 -0.10763063  0.05295325 -0.01988804\n",
            "  0.05591609  0.02117807 -0.03680402 -0.0137611  -0.0640332   0.10245267\n",
            "  0.06658104  0.12244291  0.02801738  0.01271955  0.00782519 -0.01512293\n",
            "  0.01930555  0.07753986  0.14133625  0.09240106  0.03374738 -0.02990505\n",
            " -0.02689439 -0.08092979 -0.06488161  0.00069084 -0.0071207  -0.00359698\n",
            "  0.1179532   0.04367486 -0.03602876  0.11327396  0.06126839  0.06804053\n",
            " -0.10385798  0.02929064  0.05015865  0.05209071  0.04148031 -0.02064965\n",
            "  0.03163487  0.06615335  0.10731433  0.04720197  0.07558075  0.03834261\n",
            " -0.06445194 -0.0810912  -0.00200287 -0.07584669 -0.05277377  0.08315097\n",
            " -0.02656235  0.05562213]\n",
            "(200,)\n"
          ]
        }
      ]
    },
    {
      "cell_type": "markdown",
      "source": [
        "# LINE: Large-scale Information Network Embedding"
      ],
      "metadata": {
        "id": "ENL1pnwku5Tn"
      }
    },
    {
      "cell_type": "markdown",
      "source": [
        "## Alias Sampling"
      ],
      "metadata": {
        "id": "cklTx4mtu_AJ"
      }
    },
    {
      "cell_type": "code",
      "source": [
        "import random\n",
        "from decimal import *\n",
        "import numpy as np\n",
        "import collections\n",
        "from tqdm import tqdm\n",
        "import torch\n",
        "import torch.nn as nn\n",
        "import torch.nn.functional as F"
      ],
      "metadata": {
        "id": "XWkL9o2BvDW3"
      },
      "execution_count": 17,
      "outputs": []
    },
    {
      "cell_type": "code",
      "source": [
        "class VoseAlias:\n",
        "    def __init__(self, dist):\n",
        "        \"\"\"\n",
        "        (VoseAlias, dict) -> NoneType\n",
        "        \"\"\"\n",
        "        self.dist = dist\n",
        "        self.alias_initialisation()\n",
        "\n",
        "    def alias_initialisation(self):\n",
        "        \"\"\"\n",
        "        Construct probability and alias tables for the distribution.\n",
        "        \"\"\"\n",
        "        # Initialise variables\n",
        "        n = len(self.dist)\n",
        "        self.table_prob = {}   # probability table\n",
        "        self.table_alias = {}  # alias table\n",
        "        scaled_prob = {}       # scaled probabilities\n",
        "        small = []             # stack for probabilities smaller that 1\n",
        "        large = []             # stack for probabilities greater than or equal to 1\n",
        "\n",
        "        # Construct and sort the scaled probabilities into their appropriate stacks\n",
        "        print(\"1/2. Building and sorting scaled probabilities for alias table...\")\n",
        "        for o, p in tqdm(self.dist.items()):\n",
        "            scaled_prob[o] = Decimal(p) * n\n",
        "\n",
        "            if scaled_prob[o] < 1:\n",
        "                small.append(o)\n",
        "            else:\n",
        "                large.append(o)\n",
        "\n",
        "        print(\"2/2. Building alias table...\")\n",
        "        # Construct the probability and alias tables\n",
        "        while small and large:\n",
        "            s = small.pop()\n",
        "            l = large.pop()\n",
        "\n",
        "            self.table_prob[s] = scaled_prob[s]\n",
        "            self.table_alias[s] = l\n",
        "\n",
        "            scaled_prob[l] = (scaled_prob[l] + scaled_prob[s]) - Decimal(1)\n",
        "\n",
        "            if scaled_prob[l] < 1:\n",
        "                small.append(l)\n",
        "            else:\n",
        "                large.append(l)\n",
        "\n",
        "        # The remaining outcomes (of one stack) must have probability 1\n",
        "        while large:\n",
        "            self.table_prob[large.pop()] = Decimal(1)\n",
        "\n",
        "        while small:\n",
        "            self.table_prob[small.pop()] = Decimal(1)\n",
        "        self.listprobs = list(self.table_prob)\n",
        "\n",
        "    def alias_generation(self):\n",
        "        \"\"\"\n",
        "        Yields a random outcome from the distribution.\n",
        "        \"\"\"\n",
        "        # Determine which column of table_prob to inspect\n",
        "        col = random.choice(self.listprobs)\n",
        "        # Determine which outcome to pick in that column\n",
        "        if self.table_prob[col] >= random.uniform(0, 1):\n",
        "            return col\n",
        "        else:\n",
        "            return self.table_alias[col]\n",
        "\n",
        "    def sample_n(self, size):\n",
        "        \"\"\"\n",
        "        Yields a sample of size n from the distribution, and print the results to stdout.\n",
        "        \"\"\"\n",
        "        for i in range(size):\n",
        "            yield self.alias_generation()\n",
        "\n",
        "\n",
        "def makeDist(graph: nx.Graph, power=0.75):\n",
        "\n",
        "    edgedistdict = collections.defaultdict(int)\n",
        "    nodedistdict = collections.defaultdict(int)\n",
        "\n",
        "    weightsdict = collections.defaultdict(int)\n",
        "    nodedegrees = collections.defaultdict(int)\n",
        "\n",
        "    weightsum = 0\n",
        "    negprobsum = 0\n",
        "\n",
        "    nlines = 0\n",
        "\n",
        "    maxindex = 0\n",
        "\n",
        "    for edge in tqdm(graph.edges(data=True), total=nlines):\n",
        "        node1, node2, weight = edge[0], edge[1], edge[2][\"weight\"]\n",
        "\n",
        "        edgedistdict[tuple([node1, node2])] = weight\n",
        "        nodedistdict[node1] += weight\n",
        "\n",
        "        weightsdict[tuple([node1, node2])] = weight\n",
        "        nodedegrees[node1] += weight\n",
        "\n",
        "        weightsum += weight\n",
        "        negprobsum += np.power(weight, power)\n",
        "\n",
        "        if node1 > maxindex:\n",
        "            maxindex = node1\n",
        "        elif node2 > maxindex:\n",
        "            maxindex = node2\n",
        "\n",
        "    for node, outdegree in nodedistdict.items():\n",
        "        nodedistdict[node] = np.power(outdegree, power) / negprobsum\n",
        "\n",
        "    for edge, weight in edgedistdict.items():\n",
        "        edgedistdict[edge] = weight / weightsum\n",
        "\n",
        "    return edgedistdict, nodedistdict, weightsdict, nodedegrees, maxindex\n",
        "\n",
        "\n",
        "def negSampleBatch(sourcenode, targetnode, negsamplesize, weights,\n",
        "                   nodedegrees, nodesaliassampler, t=10e-3):\n",
        "    \"\"\"\n",
        "    For generating negative samples.\n",
        "    \"\"\"\n",
        "    negsamples = 0\n",
        "    while negsamples < negsamplesize:\n",
        "        samplednode = nodesaliassampler.sample_n(1)\n",
        "        if (samplednode == sourcenode) or (samplednode == targetnode):\n",
        "            continue\n",
        "        else:\n",
        "            negsamples += 1\n",
        "            yield samplednode\n",
        "\n",
        "\n",
        "def makeData(samplededges, negsamplesize, weights, nodedegrees, nodesaliassampler):\n",
        "    for e in samplededges:\n",
        "        sourcenode, targetnode = e[0], e[1]\n",
        "        negnodes = []\n",
        "        for negsample in negSampleBatch(sourcenode, targetnode, negsamplesize,\n",
        "                                        weights, nodedegrees, nodesaliassampler):\n",
        "            for node in negsample:\n",
        "                negnodes.append(node)\n",
        "        yield [e[0], e[1]] + negnodes\n",
        ""
      ],
      "metadata": {
        "id": "qnBIqrHzu4A2"
      },
      "execution_count": 18,
      "outputs": []
    },
    {
      "cell_type": "markdown",
      "source": [
        "## LINE Model"
      ],
      "metadata": {
        "id": "zKZmW-rwvLX_"
      }
    },
    {
      "cell_type": "code",
      "source": [
        "class LINE(nn.Module):\n",
        "    def __init__(self, size, embed_dim=128, order=1):\n",
        "        super(LINE, self).__init__()\n",
        "\n",
        "        assert order in [1, 2], print(\"Order should either be int(1) or int(2)\")\n",
        "\n",
        "        self.embed_dim = embed_dim\n",
        "        self.order = order\n",
        "        self.nodes_embeddings = nn.Embedding(size, embed_dim)\n",
        "\n",
        "        if order == 2:\n",
        "            self.contextnodes_embeddings = nn.Embedding(size, embed_dim)\n",
        "            # Initialization\n",
        "            self.contextnodes_embeddings.weight.data = self.contextnodes_embeddings.weight.data.uniform_(\n",
        "                -.5, .5) / embed_dim\n",
        "\n",
        "        # Initialization\n",
        "        self.nodes_embeddings.weight.data = self.nodes_embeddings.weight.data.uniform_(\n",
        "            -.5, .5) / embed_dim\n",
        "\n",
        "    def forward(self, v_i, v_j, negsamples, device):\n",
        "\n",
        "        v_i = self.nodes_embeddings(v_i).to(device)\n",
        "\n",
        "        if self.order == 2:\n",
        "            v_j = self.contextnodes_embeddings(v_j).to(device)\n",
        "            negativenodes = -self.contextnodes_embeddings(negsamples).to(device)\n",
        "\n",
        "        else:\n",
        "            v_j = self.nodes_embeddings(v_j).to(device)\n",
        "            negativenodes = -self.nodes_embeddings(negsamples).to(device)\n",
        "\n",
        "        mulpositivebatch = torch.mul(v_i, v_j)\n",
        "        positivebatch = F.logsigmoid(torch.sum(mulpositivebatch, dim=1))\n",
        "\n",
        "        mulnegativebatch = torch.mul(v_i.view(len(v_i), 1, self.embed_dim), negativenodes)\n",
        "        negativebatch = torch.sum(\n",
        "            F.logsigmoid(\n",
        "                torch.sum(mulnegativebatch, dim=2)\n",
        "            ),\n",
        "            dim=1)\n",
        "        loss = positivebatch + negativebatch\n",
        "        return -torch.mean(loss)"
      ],
      "metadata": {
        "id": "T4RpxBqOvJXw"
      },
      "execution_count": 19,
      "outputs": []
    },
    {
      "cell_type": "markdown",
      "source": [
        "### Main running"
      ],
      "metadata": {
        "id": "W3IKqTJKvPtN"
      }
    },
    {
      "cell_type": "code",
      "source": [
        "G2 = nx.Graph()\n",
        "\n",
        "G2.add_nodes_from(range(1, num_nodes + 1))\n",
        "\n",
        "for i in range(1, num_nodes + 1):\n",
        "    for j in range(i + 1, num_nodes + 1):\n",
        "        weight = random.uniform(1, 10)\n",
        "        G2.add_edge(i, j, weight=weight)\n",
        "\n",
        "for edge in G2.edges(data=True):\n",
        "    print(f\"Edge: {edge[0]} - {edge[1]}, Weight: {edge[2]['weight']}\")"
      ],
      "metadata": {
        "colab": {
          "base_uri": "https://localhost:8080/"
        },
        "id": "Y1MPVT6zvNWy",
        "outputId": "6f117aea-7b30-4c84-878d-e3540b3b9bc9"
      },
      "execution_count": 20,
      "outputs": [
        {
          "output_type": "stream",
          "name": "stdout",
          "text": [
            "Edge: 1 - 2, Weight: 2.5779736211950968\n",
            "Edge: 1 - 3, Weight: 9.595803346639384\n",
            "Edge: 1 - 4, Weight: 1.8683230110193279\n",
            "Edge: 1 - 5, Weight: 4.4863299552093885\n",
            "Edge: 1 - 6, Weight: 3.492938548756947\n",
            "Edge: 1 - 7, Weight: 4.5407227030644\n",
            "Edge: 1 - 8, Weight: 5.063450674827217\n",
            "Edge: 1 - 9, Weight: 6.851511484785915\n",
            "Edge: 1 - 10, Weight: 7.042670888564814\n",
            "Edge: 1 - 11, Weight: 6.236434369189794\n",
            "Edge: 1 - 12, Weight: 1.0519859725833856\n",
            "Edge: 1 - 13, Weight: 9.66580365058778\n",
            "Edge: 1 - 14, Weight: 6.224424285601338\n",
            "Edge: 1 - 15, Weight: 9.254582478693909\n",
            "Edge: 1 - 16, Weight: 8.271086347365259\n",
            "Edge: 1 - 17, Weight: 8.809892159615861\n",
            "Edge: 1 - 18, Weight: 2.67005538978588\n",
            "Edge: 1 - 19, Weight: 9.79718014474079\n",
            "Edge: 1 - 20, Weight: 9.566092467840846\n",
            "Edge: 2 - 3, Weight: 5.025235656379006\n",
            "Edge: 2 - 4, Weight: 3.947855584530782\n",
            "Edge: 2 - 5, Weight: 9.11049930867016\n",
            "Edge: 2 - 6, Weight: 4.69768174765376\n",
            "Edge: 2 - 7, Weight: 3.8183117259111103\n",
            "Edge: 2 - 8, Weight: 7.351342098589148\n",
            "Edge: 2 - 9, Weight: 3.6301059740156902\n",
            "Edge: 2 - 10, Weight: 5.098508761341487\n",
            "Edge: 2 - 11, Weight: 3.608730695901614\n",
            "Edge: 2 - 12, Weight: 7.298604413396192\n",
            "Edge: 2 - 13, Weight: 3.334653540085407\n",
            "Edge: 2 - 14, Weight: 1.8648592681619662\n",
            "Edge: 2 - 15, Weight: 1.2389468070937073\n",
            "Edge: 2 - 16, Weight: 8.505985463514538\n",
            "Edge: 2 - 17, Weight: 7.078109296050272\n",
            "Edge: 2 - 18, Weight: 6.17648882083566\n",
            "Edge: 2 - 19, Weight: 3.2532623739679645\n",
            "Edge: 2 - 20, Weight: 9.969326394440994\n",
            "Edge: 3 - 4, Weight: 1.5017907924177314\n",
            "Edge: 3 - 5, Weight: 8.136641759061773\n",
            "Edge: 3 - 6, Weight: 7.879106701720617\n",
            "Edge: 3 - 7, Weight: 1.8841956380601448\n",
            "Edge: 3 - 8, Weight: 6.146072718742009\n",
            "Edge: 3 - 9, Weight: 2.5468118521509933\n",
            "Edge: 3 - 10, Weight: 9.344984036482147\n",
            "Edge: 3 - 11, Weight: 7.962258251643093\n",
            "Edge: 3 - 12, Weight: 2.9107666090868585\n",
            "Edge: 3 - 13, Weight: 1.9854472800441625\n",
            "Edge: 3 - 14, Weight: 9.320230446511244\n",
            "Edge: 3 - 15, Weight: 1.3379991631084511\n",
            "Edge: 3 - 16, Weight: 7.307139708286235\n",
            "Edge: 3 - 17, Weight: 4.784147175131865\n",
            "Edge: 3 - 18, Weight: 3.130373089858396\n",
            "Edge: 3 - 19, Weight: 6.351310004549138\n",
            "Edge: 3 - 20, Weight: 3.591263914212123\n",
            "Edge: 4 - 5, Weight: 8.749766549693852\n",
            "Edge: 4 - 6, Weight: 3.2944447406151376\n",
            "Edge: 4 - 7, Weight: 6.698761944078261\n",
            "Edge: 4 - 8, Weight: 3.303888051170116\n",
            "Edge: 4 - 9, Weight: 9.445102365315224\n",
            "Edge: 4 - 10, Weight: 8.567313222951162\n",
            "Edge: 4 - 11, Weight: 8.205038366723942\n",
            "Edge: 4 - 12, Weight: 6.419975371740726\n",
            "Edge: 4 - 13, Weight: 2.144920265025744\n",
            "Edge: 4 - 14, Weight: 9.67487044095671\n",
            "Edge: 4 - 15, Weight: 1.5723818134731085\n",
            "Edge: 4 - 16, Weight: 3.7040891138616296\n",
            "Edge: 4 - 17, Weight: 4.444082402579523\n",
            "Edge: 4 - 18, Weight: 2.6302922488824514\n",
            "Edge: 4 - 19, Weight: 1.251055120753757\n",
            "Edge: 4 - 20, Weight: 1.6475392616102862\n",
            "Edge: 5 - 6, Weight: 7.851591170474811\n",
            "Edge: 5 - 7, Weight: 3.3695196609797606\n",
            "Edge: 5 - 8, Weight: 7.553863429848144\n",
            "Edge: 5 - 9, Weight: 3.62215382535566\n",
            "Edge: 5 - 10, Weight: 4.7920391533522535\n",
            "Edge: 5 - 11, Weight: 6.203370497631358\n",
            "Edge: 5 - 12, Weight: 2.3068080548144665\n",
            "Edge: 5 - 13, Weight: 3.0041494742075656\n",
            "Edge: 5 - 14, Weight: 3.405284788497149\n",
            "Edge: 5 - 15, Weight: 9.18942463588544\n",
            "Edge: 5 - 16, Weight: 7.1420208847158\n",
            "Edge: 5 - 17, Weight: 5.398117524660213\n",
            "Edge: 5 - 18, Weight: 8.17019608773881\n",
            "Edge: 5 - 19, Weight: 6.603378936442041\n",
            "Edge: 5 - 20, Weight: 8.814549173521124\n",
            "Edge: 6 - 7, Weight: 7.055792711619936\n",
            "Edge: 6 - 8, Weight: 8.730894475756497\n",
            "Edge: 6 - 9, Weight: 8.689720922977596\n",
            "Edge: 6 - 10, Weight: 9.185270451733075\n",
            "Edge: 6 - 11, Weight: 2.144090083405288\n",
            "Edge: 6 - 12, Weight: 9.395133823236428\n",
            "Edge: 6 - 13, Weight: 2.362156151322009\n",
            "Edge: 6 - 14, Weight: 4.526764099352633\n",
            "Edge: 6 - 15, Weight: 6.903186317080859\n",
            "Edge: 6 - 16, Weight: 7.195836967414607\n",
            "Edge: 6 - 17, Weight: 6.3681024638022325\n",
            "Edge: 6 - 18, Weight: 2.5395406823975324\n",
            "Edge: 6 - 19, Weight: 2.4324318331649595\n",
            "Edge: 6 - 20, Weight: 3.598549414328728\n",
            "Edge: 7 - 8, Weight: 8.240633260662129\n",
            "Edge: 7 - 9, Weight: 6.0567458722250995\n",
            "Edge: 7 - 10, Weight: 4.253628822082483\n",
            "Edge: 7 - 11, Weight: 6.679048911708259\n",
            "Edge: 7 - 12, Weight: 7.964395898761492\n",
            "Edge: 7 - 13, Weight: 8.661863290863105\n",
            "Edge: 7 - 14, Weight: 3.9161867244187856\n",
            "Edge: 7 - 15, Weight: 7.12993655059012\n",
            "Edge: 7 - 16, Weight: 7.229930583905395\n",
            "Edge: 7 - 17, Weight: 2.258263551216883\n",
            "Edge: 7 - 18, Weight: 8.18809405258678\n",
            "Edge: 7 - 19, Weight: 8.748239057282504\n",
            "Edge: 7 - 20, Weight: 3.4732727746711616\n",
            "Edge: 8 - 9, Weight: 5.057756631939417\n",
            "Edge: 8 - 10, Weight: 3.629100749826763\n",
            "Edge: 8 - 11, Weight: 3.00038513215744\n",
            "Edge: 8 - 12, Weight: 3.376256356713445\n",
            "Edge: 8 - 13, Weight: 7.395637263992621\n",
            "Edge: 8 - 14, Weight: 9.75474324160482\n",
            "Edge: 8 - 15, Weight: 8.450869051969198\n",
            "Edge: 8 - 16, Weight: 8.689573373686667\n",
            "Edge: 8 - 17, Weight: 1.0223916164065345\n",
            "Edge: 8 - 18, Weight: 9.776301444379632\n",
            "Edge: 8 - 19, Weight: 3.242365581785249\n",
            "Edge: 8 - 20, Weight: 5.458235959206403\n",
            "Edge: 9 - 10, Weight: 2.127053592278745\n",
            "Edge: 9 - 11, Weight: 7.981731752336842\n",
            "Edge: 9 - 12, Weight: 8.139093802610573\n",
            "Edge: 9 - 13, Weight: 6.670718064224742\n",
            "Edge: 9 - 14, Weight: 6.159781727055971\n",
            "Edge: 9 - 15, Weight: 6.808843082091172\n",
            "Edge: 9 - 16, Weight: 1.2856582804848407\n",
            "Edge: 9 - 17, Weight: 8.346789968771244\n",
            "Edge: 9 - 18, Weight: 7.125117794616853\n",
            "Edge: 9 - 19, Weight: 2.8617449488835813\n",
            "Edge: 9 - 20, Weight: 2.946614322708399\n",
            "Edge: 10 - 11, Weight: 1.8116821751228906\n",
            "Edge: 10 - 12, Weight: 4.760921825582754\n",
            "Edge: 10 - 13, Weight: 3.2768171165831874\n",
            "Edge: 10 - 14, Weight: 1.8729095682212444\n",
            "Edge: 10 - 15, Weight: 7.865510070485121\n",
            "Edge: 10 - 16, Weight: 4.700424763781667\n",
            "Edge: 10 - 17, Weight: 3.9950213459046133\n",
            "Edge: 10 - 18, Weight: 8.972767198014667\n",
            "Edge: 10 - 19, Weight: 2.508922161535363\n",
            "Edge: 10 - 20, Weight: 5.130186028797649\n",
            "Edge: 11 - 12, Weight: 2.160305617229525\n",
            "Edge: 11 - 13, Weight: 1.1872263396020917\n",
            "Edge: 11 - 14, Weight: 9.555720237751386\n",
            "Edge: 11 - 15, Weight: 7.269460416396309\n",
            "Edge: 11 - 16, Weight: 6.245184067757811\n",
            "Edge: 11 - 17, Weight: 8.822634715087808\n",
            "Edge: 11 - 18, Weight: 9.554305262635726\n",
            "Edge: 11 - 19, Weight: 5.620022833377358\n",
            "Edge: 11 - 20, Weight: 4.140569271877766\n",
            "Edge: 12 - 13, Weight: 7.221155965447348\n",
            "Edge: 12 - 14, Weight: 9.749636855081222\n",
            "Edge: 12 - 15, Weight: 9.614082068404098\n",
            "Edge: 12 - 16, Weight: 7.018735840326975\n",
            "Edge: 12 - 17, Weight: 4.8119980429899165\n",
            "Edge: 12 - 18, Weight: 9.127627458286863\n",
            "Edge: 12 - 19, Weight: 7.818066750830884\n",
            "Edge: 12 - 20, Weight: 8.376398918299067\n",
            "Edge: 13 - 14, Weight: 9.907870343809925\n",
            "Edge: 13 - 15, Weight: 5.155058921872904\n",
            "Edge: 13 - 16, Weight: 8.921510855521891\n",
            "Edge: 13 - 17, Weight: 7.42348378449553\n",
            "Edge: 13 - 18, Weight: 7.643100953600383\n",
            "Edge: 13 - 19, Weight: 6.345935653024188\n",
            "Edge: 13 - 20, Weight: 4.869214838460875\n",
            "Edge: 14 - 15, Weight: 4.019425302216234\n",
            "Edge: 14 - 16, Weight: 8.439206330390036\n",
            "Edge: 14 - 17, Weight: 7.629363691385485\n",
            "Edge: 14 - 18, Weight: 2.590776335104147\n",
            "Edge: 14 - 19, Weight: 4.713599130256577\n",
            "Edge: 14 - 20, Weight: 4.9972097306028775\n",
            "Edge: 15 - 16, Weight: 4.3879161883189735\n",
            "Edge: 15 - 17, Weight: 2.6664916570772945\n",
            "Edge: 15 - 18, Weight: 3.639791921108942\n",
            "Edge: 15 - 19, Weight: 6.3754608212823545\n",
            "Edge: 15 - 20, Weight: 7.687871839673479\n",
            "Edge: 16 - 17, Weight: 1.3778164379918576\n",
            "Edge: 16 - 18, Weight: 9.022312709549455\n",
            "Edge: 16 - 19, Weight: 7.128167522407038\n",
            "Edge: 16 - 20, Weight: 1.2029571058709723\n",
            "Edge: 17 - 18, Weight: 6.8356596042300115\n",
            "Edge: 17 - 19, Weight: 9.02368634999241\n",
            "Edge: 17 - 20, Weight: 8.115050209297497\n",
            "Edge: 18 - 19, Weight: 2.9736980033297344\n",
            "Edge: 18 - 20, Weight: 3.7546457808622113\n",
            "Edge: 19 - 20, Weight: 4.530081149257266\n"
          ]
        }
      ]
    },
    {
      "cell_type": "code",
      "source": [
        "# Visualization\n",
        "pos = nx.spring_layout(G2, seed=42)\n",
        "nx.draw(G2, pos, with_labels=True, node_size=500, node_color=\"skyblue\")\n",
        "labels = nx.get_edge_attributes(G2, 'weight')\n",
        "nx.draw_networkx_edge_labels(G2, pos, edge_labels=labels)\n",
        "plt.show()"
      ],
      "metadata": {
        "colab": {
          "base_uri": "https://localhost:8080/",
          "height": 516
        },
        "id": "nTGq4uMXvR9D",
        "outputId": "9671c74d-9e9b-41ac-aabb-1e3fadab6ad8"
      },
      "execution_count": 21,
      "outputs": [
        {
          "output_type": "display_data",
          "data": {
            "text/plain": [
              "<Figure size 640x480 with 1 Axes>"
            ],
            "image/png": "[encoded data removed]"
          },
          "metadata": {}
        }
      ]
    },
    {
      "cell_type": "code",
      "source": [
        "from tqdm import trange\n",
        "import torch\n",
        "import torch.optim as optim\n",
        "import sys\n",
        "import pickle\n",
        "\n",
        "args = {\n",
        "    \"epochs\": 100,\n",
        "    \"order\": 2,\n",
        "    \"num_neg\": 5,\n",
        "    \"dim\": 128,\n",
        "    \"batch_size\": 10,\n",
        "    \"lr\": 0.025,\n",
        "    \"neg_power\": 0.75\n",
        "}\n",
        "# Create dict of distribution when opening file\n",
        "edgedistdict, nodedistdict, weights, nodedegrees, maxindex = makeDist(\n",
        "    G2, args[\"neg_power\"])\n",
        "\n",
        "edgesaliassampler = VoseAlias(edgedistdict)\n",
        "nodesaliassampler = VoseAlias(nodedistdict)\n",
        "\n",
        "batchrange = int(len(edgedistdict) / args[\"batch_size\"])\n",
        "print(maxindex)\n",
        "line = LINE(maxindex + 1, embed_dim=args[\"dim\"], order=args[\"order\"])\n",
        "\n",
        "opt = optim.SGD(line.parameters(), lr=args[\"lr\"],\n",
        "                    momentum=0.9, nesterov=True)\n",
        "\n",
        "device = torch.device(\"cuda:0\" if torch.cuda.is_available() else \"cpu\")\n",
        "\n",
        "lossdata = {\"it\": [], \"loss\": []}\n",
        "it = 0\n",
        "\n",
        "print(\"\\nTraining on {}...\\n\".format(device))\n",
        "for epoch in range(args[\"epochs\"]):\n",
        "    print(\"Epoch {}\".format(epoch))\n",
        "    for b in trange(batchrange):\n",
        "        samplededges = edgesaliassampler.sample_n(args[\"batch_size\"])\n",
        "        batch = list(makeData(samplededges, args[\"num_neg\"], weights, nodedegrees,\n",
        "                                  nodesaliassampler))\n",
        "        batch = torch.LongTensor(batch)\n",
        "        v_i = batch[:, 0]\n",
        "        v_j = batch[:, 1]\n",
        "        negsamples = batch[:, 2:]\n",
        "        line.zero_grad()\n",
        "        loss = line(v_i, v_j, negsamples, device)\n",
        "        loss.backward()\n",
        "        opt.step()\n",
        "\n",
        "        lossdata[\"loss\"].append(loss.item())\n",
        "        lossdata[\"it\"].append(it)\n",
        "        it += 1"
      ],
      "metadata": {
        "colab": {
          "base_uri": "https://localhost:8080/"
        },
        "id": "7Ua4kEkIvUju",
        "outputId": "0c16f793-24c7-44d6-e84e-746f2112d9ff"
      },
      "execution_count": 22,
      "outputs": [
        {
          "output_type": "stream",
          "name": "stderr",
          "text": [
            "190it [00:00, 88585.79it/s]\n"
          ]
        },
        {
          "output_type": "stream",
          "name": "stdout",
          "text": [
            "1/2. Building and sorting scaled probabilities for alias table...\n"
          ]
        },
        {
          "output_type": "stream",
          "name": "stderr",
          "text": [
            "100%|██████████| 190/190 [00:00<00:00, 117280.02it/s]\n"
          ]
        },
        {
          "output_type": "stream",
          "name": "stdout",
          "text": [
            "2/2. Building alias table...\n",
            "1/2. Building and sorting scaled probabilities for alias table...\n"
          ]
        },
        {
          "output_type": "stream",
          "name": "stderr",
          "text": [
            "100%|██████████| 19/19 [00:00<00:00, 19878.22it/s]\n"
          ]
        },
        {
          "output_type": "stream",
          "name": "stdout",
          "text": [
            "2/2. Building alias table...\n",
            "20\n",
            "\n",
            "Training on cpu...\n",
            "\n",
            "Epoch 0\n"
          ]
        },
        {
          "output_type": "stream",
          "name": "stderr",
          "text": [
            "100%|██████████| 19/19 [00:00<00:00, 43.30it/s]\n"
          ]
        },
        {
          "output_type": "stream",
          "name": "stdout",
          "text": [
            "Epoch 1\n"
          ]
        },
        {
          "output_type": "stream",
          "name": "stderr",
          "text": [
            "100%|██████████| 19/19 [00:00<00:00, 64.15it/s]\n"
          ]
        },
        {
          "output_type": "stream",
          "name": "stdout",
          "text": [
            "Epoch 2\n"
          ]
        },
        {
          "output_type": "stream",
          "name": "stderr",
          "text": [
            "100%|██████████| 19/19 [00:00<00:00, 43.08it/s]\n"
          ]
        },
        {
          "output_type": "stream",
          "name": "stdout",
          "text": [
            "Epoch 3\n"
          ]
        },
        {
          "output_type": "stream",
          "name": "stderr",
          "text": [
            "100%|██████████| 19/19 [00:00<00:00, 49.17it/s]\n"
          ]
        },
        {
          "output_type": "stream",
          "name": "stdout",
          "text": [
            "Epoch 4\n"
          ]
        },
        {
          "output_type": "stream",
          "name": "stderr",
          "text": [
            "100%|██████████| 19/19 [00:00<00:00, 67.25it/s]\n"
          ]
        },
        {
          "output_type": "stream",
          "name": "stdout",
          "text": [
            "Epoch 5\n"
          ]
        },
        {
          "output_type": "stream",
          "name": "stderr",
          "text": [
            "100%|██████████| 19/19 [00:00<00:00, 121.79it/s]\n"
          ]
        },
        {
          "output_type": "stream",
          "name": "stdout",
          "text": [
            "Epoch 6\n"
          ]
        },
        {
          "output_type": "stream",
          "name": "stderr",
          "text": [
            "100%|██████████| 19/19 [00:00<00:00, 341.43it/s]\n"
          ]
        },
        {
          "output_type": "stream",
          "name": "stdout",
          "text": [
            "Epoch 7\n"
          ]
        },
        {
          "output_type": "stream",
          "name": "stderr",
          "text": [
            "100%|██████████| 19/19 [00:00<00:00, 441.30it/s]\n"
          ]
        },
        {
          "output_type": "stream",
          "name": "stdout",
          "text": [
            "Epoch 8\n"
          ]
        },
        {
          "output_type": "stream",
          "name": "stderr",
          "text": [
            "100%|██████████| 19/19 [00:00<00:00, 291.06it/s]\n"
          ]
        },
        {
          "output_type": "stream",
          "name": "stdout",
          "text": [
            "Epoch 9\n"
          ]
        },
        {
          "output_type": "stream",
          "name": "stderr",
          "text": [
            "100%|██████████| 19/19 [00:00<00:00, 379.24it/s]\n"
          ]
        },
        {
          "output_type": "stream",
          "name": "stdout",
          "text": [
            "Epoch 10\n"
          ]
        },
        {
          "output_type": "stream",
          "name": "stderr",
          "text": [
            "100%|██████████| 19/19 [00:00<00:00, 333.86it/s]\n"
          ]
        },
        {
          "output_type": "stream",
          "name": "stdout",
          "text": [
            "Epoch 11\n"
          ]
        },
        {
          "output_type": "stream",
          "name": "stderr",
          "text": [
            "100%|██████████| 19/19 [00:00<00:00, 306.28it/s]\n"
          ]
        },
        {
          "output_type": "stream",
          "name": "stdout",
          "text": [
            "Epoch 12\n"
          ]
        },
        {
          "output_type": "stream",
          "name": "stderr",
          "text": [
            "100%|██████████| 19/19 [00:00<00:00, 320.48it/s]\n"
          ]
        },
        {
          "output_type": "stream",
          "name": "stdout",
          "text": [
            "Epoch 13\n"
          ]
        },
        {
          "output_type": "stream",
          "name": "stderr",
          "text": [
            "100%|██████████| 19/19 [00:00<00:00, 364.41it/s]\n"
          ]
        },
        {
          "output_type": "stream",
          "name": "stdout",
          "text": [
            "Epoch 14\n"
          ]
        },
        {
          "output_type": "stream",
          "name": "stderr",
          "text": [
            "100%|██████████| 19/19 [00:00<00:00, 172.07it/s]\n"
          ]
        },
        {
          "output_type": "stream",
          "name": "stdout",
          "text": [
            "Epoch 15\n"
          ]
        },
        {
          "output_type": "stream",
          "name": "stderr",
          "text": [
            "100%|██████████| 19/19 [00:00<00:00, 226.92it/s]\n"
          ]
        },
        {
          "output_type": "stream",
          "name": "stdout",
          "text": [
            "Epoch 16\n"
          ]
        },
        {
          "output_type": "stream",
          "name": "stderr",
          "text": [
            "100%|██████████| 19/19 [00:00<00:00, 318.06it/s]\n"
          ]
        },
        {
          "output_type": "stream",
          "name": "stdout",
          "text": [
            "Epoch 17\n"
          ]
        },
        {
          "output_type": "stream",
          "name": "stderr",
          "text": [
            "100%|██████████| 19/19 [00:00<00:00, 299.23it/s]\n"
          ]
        },
        {
          "output_type": "stream",
          "name": "stdout",
          "text": [
            "Epoch 18\n"
          ]
        },
        {
          "output_type": "stream",
          "name": "stderr",
          "text": [
            "100%|██████████| 19/19 [00:00<00:00, 222.42it/s]\n"
          ]
        },
        {
          "output_type": "stream",
          "name": "stdout",
          "text": [
            "Epoch 19\n"
          ]
        },
        {
          "output_type": "stream",
          "name": "stderr",
          "text": [
            "100%|██████████| 19/19 [00:00<00:00, 245.98it/s]\n"
          ]
        },
        {
          "output_type": "stream",
          "name": "stdout",
          "text": [
            "Epoch 20\n"
          ]
        },
        {
          "output_type": "stream",
          "name": "stderr",
          "text": [
            "100%|██████████| 19/19 [00:00<00:00, 198.12it/s]\n"
          ]
        },
        {
          "output_type": "stream",
          "name": "stdout",
          "text": [
            "Epoch 21\n"
          ]
        },
        {
          "output_type": "stream",
          "name": "stderr",
          "text": [
            "100%|██████████| 19/19 [00:00<00:00, 355.04it/s]\n"
          ]
        },
        {
          "output_type": "stream",
          "name": "stdout",
          "text": [
            "Epoch 22\n"
          ]
        },
        {
          "output_type": "stream",
          "name": "stderr",
          "text": [
            "100%|██████████| 19/19 [00:00<00:00, 320.71it/s]\n"
          ]
        },
        {
          "output_type": "stream",
          "name": "stdout",
          "text": [
            "Epoch 23\n"
          ]
        },
        {
          "output_type": "stream",
          "name": "stderr",
          "text": [
            "100%|██████████| 19/19 [00:00<00:00, 377.36it/s]\n"
          ]
        },
        {
          "output_type": "stream",
          "name": "stdout",
          "text": [
            "Epoch 24\n"
          ]
        },
        {
          "output_type": "stream",
          "name": "stderr",
          "text": [
            "100%|██████████| 19/19 [00:00<00:00, 490.28it/s]\n"
          ]
        },
        {
          "output_type": "stream",
          "name": "stdout",
          "text": [
            "Epoch 25\n"
          ]
        },
        {
          "output_type": "stream",
          "name": "stderr",
          "text": [
            "100%|██████████| 19/19 [00:00<00:00, 454.23it/s]\n"
          ]
        },
        {
          "output_type": "stream",
          "name": "stdout",
          "text": [
            "Epoch 26\n"
          ]
        },
        {
          "output_type": "stream",
          "name": "stderr",
          "text": [
            "100%|██████████| 19/19 [00:00<00:00, 528.37it/s]\n"
          ]
        },
        {
          "output_type": "stream",
          "name": "stdout",
          "text": [
            "Epoch 27\n"
          ]
        },
        {
          "output_type": "stream",
          "name": "stderr",
          "text": [
            "100%|██████████| 19/19 [00:00<00:00, 563.94it/s]\n"
          ]
        },
        {
          "output_type": "stream",
          "name": "stdout",
          "text": [
            "Epoch 28\n"
          ]
        },
        {
          "output_type": "stream",
          "name": "stderr",
          "text": [
            "100%|██████████| 19/19 [00:00<00:00, 333.08it/s]\n"
          ]
        },
        {
          "output_type": "stream",
          "name": "stdout",
          "text": [
            "Epoch 29\n"
          ]
        },
        {
          "output_type": "stream",
          "name": "stderr",
          "text": [
            "100%|██████████| 19/19 [00:00<00:00, 537.86it/s]\n"
          ]
        },
        {
          "output_type": "stream",
          "name": "stdout",
          "text": [
            "Epoch 30\n"
          ]
        },
        {
          "output_type": "stream",
          "name": "stderr",
          "text": [
            "100%|██████████| 19/19 [00:00<00:00, 417.86it/s]\n"
          ]
        },
        {
          "output_type": "stream",
          "name": "stdout",
          "text": [
            "Epoch 31\n"
          ]
        },
        {
          "output_type": "stream",
          "name": "stderr",
          "text": [
            "100%|██████████| 19/19 [00:00<00:00, 429.68it/s]\n"
          ]
        },
        {
          "output_type": "stream",
          "name": "stdout",
          "text": [
            "Epoch 32\n"
          ]
        },
        {
          "output_type": "stream",
          "name": "stderr",
          "text": [
            "100%|██████████| 19/19 [00:00<00:00, 382.85it/s]\n"
          ]
        },
        {
          "output_type": "stream",
          "name": "stdout",
          "text": [
            "Epoch 33\n"
          ]
        },
        {
          "output_type": "stream",
          "name": "stderr",
          "text": [
            "100%|██████████| 19/19 [00:00<00:00, 399.99it/s]\n"
          ]
        },
        {
          "output_type": "stream",
          "name": "stdout",
          "text": [
            "Epoch 34\n"
          ]
        },
        {
          "output_type": "stream",
          "name": "stderr",
          "text": [
            "100%|██████████| 19/19 [00:00<00:00, 474.30it/s]\n"
          ]
        },
        {
          "output_type": "stream",
          "name": "stdout",
          "text": [
            "Epoch 35\n"
          ]
        },
        {
          "output_type": "stream",
          "name": "stderr",
          "text": [
            "100%|██████████| 19/19 [00:00<00:00, 402.57it/s]\n"
          ]
        },
        {
          "output_type": "stream",
          "name": "stdout",
          "text": [
            "Epoch 36\n"
          ]
        },
        {
          "output_type": "stream",
          "name": "stderr",
          "text": [
            "100%|██████████| 19/19 [00:00<00:00, 398.55it/s]\n"
          ]
        },
        {
          "output_type": "stream",
          "name": "stdout",
          "text": [
            "Epoch 37\n"
          ]
        },
        {
          "output_type": "stream",
          "name": "stderr",
          "text": [
            "100%|██████████| 19/19 [00:00<00:00, 452.93it/s]\n"
          ]
        },
        {
          "output_type": "stream",
          "name": "stdout",
          "text": [
            "Epoch 38\n"
          ]
        },
        {
          "output_type": "stream",
          "name": "stderr",
          "text": [
            "100%|██████████| 19/19 [00:00<00:00, 500.29it/s]\n"
          ]
        },
        {
          "output_type": "stream",
          "name": "stdout",
          "text": [
            "Epoch 39\n"
          ]
        },
        {
          "output_type": "stream",
          "name": "stderr",
          "text": [
            "100%|██████████| 19/19 [00:00<00:00, 458.41it/s]\n"
          ]
        },
        {
          "output_type": "stream",
          "name": "stdout",
          "text": [
            "Epoch 40\n"
          ]
        },
        {
          "output_type": "stream",
          "name": "stderr",
          "text": [
            "100%|██████████| 19/19 [00:00<00:00, 517.89it/s]\n"
          ]
        },
        {
          "output_type": "stream",
          "name": "stdout",
          "text": [
            "Epoch 41\n"
          ]
        },
        {
          "output_type": "stream",
          "name": "stderr",
          "text": [
            "100%|██████████| 19/19 [00:00<00:00, 484.34it/s]\n"
          ]
        },
        {
          "output_type": "stream",
          "name": "stdout",
          "text": [
            "Epoch 42\n"
          ]
        },
        {
          "output_type": "stream",
          "name": "stderr",
          "text": [
            "100%|██████████| 19/19 [00:00<00:00, 515.25it/s]\n"
          ]
        },
        {
          "output_type": "stream",
          "name": "stdout",
          "text": [
            "Epoch 43\n"
          ]
        },
        {
          "output_type": "stream",
          "name": "stderr",
          "text": [
            "100%|██████████| 19/19 [00:00<00:00, 517.81it/s]\n"
          ]
        },
        {
          "output_type": "stream",
          "name": "stdout",
          "text": [
            "Epoch 44\n"
          ]
        },
        {
          "output_type": "stream",
          "name": "stderr",
          "text": [
            "100%|██████████| 19/19 [00:00<00:00, 510.34it/s]\n"
          ]
        },
        {
          "output_type": "stream",
          "name": "stdout",
          "text": [
            "Epoch 45\n"
          ]
        },
        {
          "output_type": "stream",
          "name": "stderr",
          "text": [
            "100%|██████████| 19/19 [00:00<00:00, 530.50it/s]\n"
          ]
        },
        {
          "output_type": "stream",
          "name": "stdout",
          "text": [
            "Epoch 46\n"
          ]
        },
        {
          "output_type": "stream",
          "name": "stderr",
          "text": [
            "100%|██████████| 19/19 [00:00<00:00, 501.86it/s]\n"
          ]
        },
        {
          "output_type": "stream",
          "name": "stdout",
          "text": [
            "Epoch 47\n"
          ]
        },
        {
          "output_type": "stream",
          "name": "stderr",
          "text": [
            "100%|██████████| 19/19 [00:00<00:00, 399.54it/s]\n"
          ]
        },
        {
          "output_type": "stream",
          "name": "stdout",
          "text": [
            "Epoch 48\n"
          ]
        },
        {
          "output_type": "stream",
          "name": "stderr",
          "text": [
            "100%|██████████| 19/19 [00:00<00:00, 377.96it/s]\n"
          ]
        },
        {
          "output_type": "stream",
          "name": "stdout",
          "text": [
            "Epoch 49\n"
          ]
        },
        {
          "output_type": "stream",
          "name": "stderr",
          "text": [
            "100%|██████████| 19/19 [00:00<00:00, 389.45it/s]\n"
          ]
        },
        {
          "output_type": "stream",
          "name": "stdout",
          "text": [
            "Epoch 50\n"
          ]
        },
        {
          "output_type": "stream",
          "name": "stderr",
          "text": [
            "100%|██████████| 19/19 [00:00<00:00, 314.99it/s]\n"
          ]
        },
        {
          "output_type": "stream",
          "name": "stdout",
          "text": [
            "Epoch 51\n"
          ]
        },
        {
          "output_type": "stream",
          "name": "stderr",
          "text": [
            "100%|██████████| 19/19 [00:00<00:00, 425.33it/s]\n"
          ]
        },
        {
          "output_type": "stream",
          "name": "stdout",
          "text": [
            "Epoch 52\n"
          ]
        },
        {
          "output_type": "stream",
          "name": "stderr",
          "text": [
            "100%|██████████| 19/19 [00:00<00:00, 403.96it/s]\n"
          ]
        },
        {
          "output_type": "stream",
          "name": "stdout",
          "text": [
            "Epoch 53\n"
          ]
        },
        {
          "output_type": "stream",
          "name": "stderr",
          "text": [
            "100%|██████████| 19/19 [00:00<00:00, 348.83it/s]\n"
          ]
        },
        {
          "output_type": "stream",
          "name": "stdout",
          "text": [
            "Epoch 54\n"
          ]
        },
        {
          "output_type": "stream",
          "name": "stderr",
          "text": [
            "100%|██████████| 19/19 [00:00<00:00, 390.78it/s]\n"
          ]
        },
        {
          "output_type": "stream",
          "name": "stdout",
          "text": [
            "Epoch 55\n"
          ]
        },
        {
          "output_type": "stream",
          "name": "stderr",
          "text": [
            "100%|██████████| 19/19 [00:00<00:00, 392.85it/s]\n"
          ]
        },
        {
          "output_type": "stream",
          "name": "stdout",
          "text": [
            "Epoch 56\n"
          ]
        },
        {
          "output_type": "stream",
          "name": "stderr",
          "text": [
            "100%|██████████| 19/19 [00:00<00:00, 365.90it/s]\n"
          ]
        },
        {
          "output_type": "stream",
          "name": "stdout",
          "text": [
            "Epoch 57\n"
          ]
        },
        {
          "output_type": "stream",
          "name": "stderr",
          "text": [
            "100%|██████████| 19/19 [00:00<00:00, 426.10it/s]\n"
          ]
        },
        {
          "output_type": "stream",
          "name": "stdout",
          "text": [
            "Epoch 58\n"
          ]
        },
        {
          "output_type": "stream",
          "name": "stderr",
          "text": [
            "100%|██████████| 19/19 [00:00<00:00, 391.74it/s]\n"
          ]
        },
        {
          "output_type": "stream",
          "name": "stdout",
          "text": [
            "Epoch 59\n"
          ]
        },
        {
          "output_type": "stream",
          "name": "stderr",
          "text": [
            "100%|██████████| 19/19 [00:00<00:00, 409.51it/s]\n"
          ]
        },
        {
          "output_type": "stream",
          "name": "stdout",
          "text": [
            "Epoch 60\n"
          ]
        },
        {
          "output_type": "stream",
          "name": "stderr",
          "text": [
            "100%|██████████| 19/19 [00:00<00:00, 440.68it/s]\n"
          ]
        },
        {
          "output_type": "stream",
          "name": "stdout",
          "text": [
            "Epoch 61\n"
          ]
        },
        {
          "output_type": "stream",
          "name": "stderr",
          "text": [
            "100%|██████████| 19/19 [00:00<00:00, 393.58it/s]\n"
          ]
        },
        {
          "output_type": "stream",
          "name": "stdout",
          "text": [
            "Epoch 62\n"
          ]
        },
        {
          "output_type": "stream",
          "name": "stderr",
          "text": [
            "100%|██████████| 19/19 [00:00<00:00, 421.60it/s]\n"
          ]
        },
        {
          "output_type": "stream",
          "name": "stdout",
          "text": [
            "Epoch 63\n"
          ]
        },
        {
          "output_type": "stream",
          "name": "stderr",
          "text": [
            "100%|██████████| 19/19 [00:00<00:00, 437.46it/s]\n"
          ]
        },
        {
          "output_type": "stream",
          "name": "stdout",
          "text": [
            "Epoch 64\n"
          ]
        },
        {
          "output_type": "stream",
          "name": "stderr",
          "text": [
            "100%|██████████| 19/19 [00:00<00:00, 458.89it/s]\n"
          ]
        },
        {
          "output_type": "stream",
          "name": "stdout",
          "text": [
            "Epoch 65\n"
          ]
        },
        {
          "output_type": "stream",
          "name": "stderr",
          "text": [
            "100%|██████████| 19/19 [00:00<00:00, 492.76it/s]\n"
          ]
        },
        {
          "output_type": "stream",
          "name": "stdout",
          "text": [
            "Epoch 66\n"
          ]
        },
        {
          "output_type": "stream",
          "name": "stderr",
          "text": [
            "100%|██████████| 19/19 [00:00<00:00, 382.56it/s]\n"
          ]
        },
        {
          "output_type": "stream",
          "name": "stdout",
          "text": [
            "Epoch 67\n"
          ]
        },
        {
          "output_type": "stream",
          "name": "stderr",
          "text": [
            "100%|██████████| 19/19 [00:00<00:00, 387.22it/s]\n"
          ]
        },
        {
          "output_type": "stream",
          "name": "stdout",
          "text": [
            "Epoch 68\n"
          ]
        },
        {
          "output_type": "stream",
          "name": "stderr",
          "text": [
            "100%|██████████| 19/19 [00:00<00:00, 576.77it/s]\n"
          ]
        },
        {
          "output_type": "stream",
          "name": "stdout",
          "text": [
            "Epoch 69\n"
          ]
        },
        {
          "output_type": "stream",
          "name": "stderr",
          "text": [
            "100%|██████████| 19/19 [00:00<00:00, 694.55it/s]\n"
          ]
        },
        {
          "output_type": "stream",
          "name": "stdout",
          "text": [
            "Epoch 70\n"
          ]
        },
        {
          "output_type": "stream",
          "name": "stderr",
          "text": [
            "100%|██████████| 19/19 [00:00<00:00, 628.10it/s]\n"
          ]
        },
        {
          "output_type": "stream",
          "name": "stdout",
          "text": [
            "Epoch 71\n"
          ]
        },
        {
          "output_type": "stream",
          "name": "stderr",
          "text": [
            "100%|██████████| 19/19 [00:00<00:00, 685.66it/s]\n"
          ]
        },
        {
          "output_type": "stream",
          "name": "stdout",
          "text": [
            "Epoch 72\n"
          ]
        },
        {
          "output_type": "stream",
          "name": "stderr",
          "text": [
            "100%|██████████| 19/19 [00:00<00:00, 679.93it/s]\n"
          ]
        },
        {
          "output_type": "stream",
          "name": "stdout",
          "text": [
            "Epoch 73\n"
          ]
        },
        {
          "output_type": "stream",
          "name": "stderr",
          "text": [
            "100%|██████████| 19/19 [00:00<00:00, 677.49it/s]\n"
          ]
        },
        {
          "output_type": "stream",
          "name": "stdout",
          "text": [
            "Epoch 74\n"
          ]
        },
        {
          "output_type": "stream",
          "name": "stderr",
          "text": [
            "100%|██████████| 19/19 [00:00<00:00, 603.41it/s]\n"
          ]
        },
        {
          "output_type": "stream",
          "name": "stdout",
          "text": [
            "Epoch 75\n"
          ]
        },
        {
          "output_type": "stream",
          "name": "stderr",
          "text": [
            "100%|██████████| 19/19 [00:00<00:00, 655.38it/s]\n"
          ]
        },
        {
          "output_type": "stream",
          "name": "stdout",
          "text": [
            "Epoch 76\n"
          ]
        },
        {
          "output_type": "stream",
          "name": "stderr",
          "text": [
            "100%|██████████| 19/19 [00:00<00:00, 689.61it/s]\n"
          ]
        },
        {
          "output_type": "stream",
          "name": "stdout",
          "text": [
            "Epoch 77\n"
          ]
        },
        {
          "output_type": "stream",
          "name": "stderr",
          "text": [
            "100%|██████████| 19/19 [00:00<00:00, 588.89it/s]\n"
          ]
        },
        {
          "output_type": "stream",
          "name": "stdout",
          "text": [
            "Epoch 78\n"
          ]
        },
        {
          "output_type": "stream",
          "name": "stderr",
          "text": [
            "100%|██████████| 19/19 [00:00<00:00, 571.60it/s]\n"
          ]
        },
        {
          "output_type": "stream",
          "name": "stdout",
          "text": [
            "Epoch 79\n"
          ]
        },
        {
          "output_type": "stream",
          "name": "stderr",
          "text": [
            "100%|██████████| 19/19 [00:00<00:00, 535.42it/s]\n"
          ]
        },
        {
          "output_type": "stream",
          "name": "stdout",
          "text": [
            "Epoch 80\n"
          ]
        },
        {
          "output_type": "stream",
          "name": "stderr",
          "text": [
            "100%|██████████| 19/19 [00:00<00:00, 490.65it/s]\n"
          ]
        },
        {
          "output_type": "stream",
          "name": "stdout",
          "text": [
            "Epoch 81\n"
          ]
        },
        {
          "output_type": "stream",
          "name": "stderr",
          "text": [
            "100%|██████████| 19/19 [00:00<00:00, 479.79it/s]\n"
          ]
        },
        {
          "output_type": "stream",
          "name": "stdout",
          "text": [
            "Epoch 82\n"
          ]
        },
        {
          "output_type": "stream",
          "name": "stderr",
          "text": [
            "100%|██████████| 19/19 [00:00<00:00, 558.75it/s]\n"
          ]
        },
        {
          "output_type": "stream",
          "name": "stdout",
          "text": [
            "Epoch 83\n"
          ]
        },
        {
          "output_type": "stream",
          "name": "stderr",
          "text": [
            "100%|██████████| 19/19 [00:00<00:00, 569.15it/s]\n"
          ]
        },
        {
          "output_type": "stream",
          "name": "stdout",
          "text": [
            "Epoch 84\n"
          ]
        },
        {
          "output_type": "stream",
          "name": "stderr",
          "text": [
            "100%|██████████| 19/19 [00:00<00:00, 579.50it/s]\n"
          ]
        },
        {
          "output_type": "stream",
          "name": "stdout",
          "text": [
            "Epoch 85\n"
          ]
        },
        {
          "output_type": "stream",
          "name": "stderr",
          "text": [
            "100%|██████████| 19/19 [00:00<00:00, 524.33it/s]\n"
          ]
        },
        {
          "output_type": "stream",
          "name": "stdout",
          "text": [
            "Epoch 86\n"
          ]
        },
        {
          "output_type": "stream",
          "name": "stderr",
          "text": [
            "100%|██████████| 19/19 [00:00<00:00, 555.50it/s]\n"
          ]
        },
        {
          "output_type": "stream",
          "name": "stdout",
          "text": [
            "Epoch 87\n"
          ]
        },
        {
          "output_type": "stream",
          "name": "stderr",
          "text": [
            "100%|██████████| 19/19 [00:00<00:00, 466.35it/s]\n"
          ]
        },
        {
          "output_type": "stream",
          "name": "stdout",
          "text": [
            "Epoch 88\n"
          ]
        },
        {
          "output_type": "stream",
          "name": "stderr",
          "text": [
            "100%|██████████| 19/19 [00:00<00:00, 528.00it/s]\n"
          ]
        },
        {
          "output_type": "stream",
          "name": "stdout",
          "text": [
            "Epoch 89\n"
          ]
        },
        {
          "output_type": "stream",
          "name": "stderr",
          "text": [
            "100%|██████████| 19/19 [00:00<00:00, 561.60it/s]\n"
          ]
        },
        {
          "output_type": "stream",
          "name": "stdout",
          "text": [
            "Epoch 90\n"
          ]
        },
        {
          "output_type": "stream",
          "name": "stderr",
          "text": [
            "100%|██████████| 19/19 [00:00<00:00, 501.65it/s]\n"
          ]
        },
        {
          "output_type": "stream",
          "name": "stdout",
          "text": [
            "Epoch 91\n"
          ]
        },
        {
          "output_type": "stream",
          "name": "stderr",
          "text": [
            "100%|██████████| 19/19 [00:00<00:00, 354.30it/s]\n"
          ]
        },
        {
          "output_type": "stream",
          "name": "stdout",
          "text": [
            "Epoch 92\n"
          ]
        },
        {
          "output_type": "stream",
          "name": "stderr",
          "text": [
            "100%|██████████| 19/19 [00:00<00:00, 600.47it/s]\n"
          ]
        },
        {
          "output_type": "stream",
          "name": "stdout",
          "text": [
            "Epoch 93\n"
          ]
        },
        {
          "output_type": "stream",
          "name": "stderr",
          "text": [
            "100%|██████████| 19/19 [00:00<00:00, 557.56it/s]\n"
          ]
        },
        {
          "output_type": "stream",
          "name": "stdout",
          "text": [
            "Epoch 94\n"
          ]
        },
        {
          "output_type": "stream",
          "name": "stderr",
          "text": [
            "100%|██████████| 19/19 [00:00<00:00, 383.74it/s]\n"
          ]
        },
        {
          "output_type": "stream",
          "name": "stdout",
          "text": [
            "Epoch 95\n"
          ]
        },
        {
          "output_type": "stream",
          "name": "stderr",
          "text": [
            "100%|██████████| 19/19 [00:00<00:00, 396.76it/s]"
          ]
        },
        {
          "output_type": "stream",
          "name": "stdout",
          "text": [
            "Epoch 96"
          ]
        },
        {
          "output_type": "stream",
          "name": "stderr",
          "text": [
            "\n"
          ]
        },
        {
          "output_type": "stream",
          "name": "stdout",
          "text": [
            "\n"
          ]
        },
        {
          "output_type": "stream",
          "name": "stderr",
          "text": [
            "100%|██████████| 19/19 [00:00<00:00, 562.74it/s]\n"
          ]
        },
        {
          "output_type": "stream",
          "name": "stdout",
          "text": [
            "Epoch 97\n"
          ]
        },
        {
          "output_type": "stream",
          "name": "stderr",
          "text": [
            "100%|██████████| 19/19 [00:00<00:00, 566.07it/s]\n"
          ]
        },
        {
          "output_type": "stream",
          "name": "stdout",
          "text": [
            "Epoch 98\n"
          ]
        },
        {
          "output_type": "stream",
          "name": "stderr",
          "text": [
            "100%|██████████| 19/19 [00:00<00:00, 522.39it/s]\n"
          ]
        },
        {
          "output_type": "stream",
          "name": "stdout",
          "text": [
            "Epoch 99\n"
          ]
        },
        {
          "output_type": "stream",
          "name": "stderr",
          "text": [
            "100%|██████████| 19/19 [00:00<00:00, 502.22it/s]\n"
          ]
        }
      ]
    },
    {
      "cell_type": "markdown",
      "source": [
        "# Randomwalk of Metapath2Vec"
      ],
      "metadata": {
        "id": "apBVSparvlR_"
      }
    },
    {
      "cell_type": "code",
      "source": [
        "import networkx as nx\n",
        "import random"
      ],
      "metadata": {
        "id": "YsUSq2ZyvY_b"
      },
      "execution_count": 23,
      "outputs": []
    },
    {
      "cell_type": "code",
      "source": [
        "# Import the Karate Club graph using NetworkX and create an adjacency matrix\n",
        "karate_graph = nx.karate_club_graph()\n",
        "adjacency_list = nx.adjacency_matrix(karate_graph, dtype=int)\n",
        "adjacency_matrix_array = adjacency_list.toarray()\n",
        "\n",
        "# Define the metapaths\n",
        "metapaths = [[\"Member\", \"Club\", \"Member\"], [\"Member\", \"Club\", \"Member\", \"Club\", \"Member\"]]\n",
        "\n",
        "def random_walk_metapath2vec(adj_list, node, metapath, walk_length):\n",
        "  walk = [node]        # Walk starts from this node\n",
        "\n",
        "  for i in range(walk_length-1):\n",
        "    next_hop_candidates = []\n",
        "    current_node = walk[-1]\n",
        "    for j in range(len(metapath)):\n",
        "      if current_node in adj_list and metapath[j] in adj_list[current_node]:\n",
        "        next_hop_candidates.extend(adj_list[current_node][metapath[j]])\n",
        "    if len(next_hop_candidates) > 0:\n",
        "      next_node = random.choice(next_hop_candidates)\n",
        "    else:\n",
        "      next_node = random.choice(adj_list[current_node])\n",
        "    walk.append(next_node)\n",
        "\n",
        "  return walk\n",
        "\n",
        "# Perform random walks on the graph using metapath2vec\n",
        "num_walks = 6\n",
        "\n",
        "for node in karate_graph.nodes():\n",
        "  for metapath in metapaths:\n",
        "    print(\"Node \" + str(node) + \" using metapath \" + str(metapath) + \" :\" + str(random_walk_metapath2vec(adjacency_matrix_array, node, metapath, num_walks)))\n",
        "\n"
      ],
      "metadata": {
        "colab": {
          "base_uri": "https://localhost:8080/"
        },
        "id": "h-X3jgJ8v0DY",
        "outputId": "3ae2e827-cf45-4092-8b7e-a5d064574194"
      },
      "execution_count": 24,
      "outputs": [
        {
          "output_type": "stream",
          "name": "stdout",
          "text": [
            "Node 0 using metapath ['Member', 'Club', 'Member'] :[0, 0, 3, 0, 0, 0]\n",
            "Node 0 using metapath ['Member', 'Club', 'Member', 'Club', 'Member'] :[0, 2, 0, 0, 0, 2]\n",
            "Node 1 using metapath ['Member', 'Club', 'Member'] :[1, 0, 0, 0, 5, 0]\n",
            "Node 1 using metapath ['Member', 'Club', 'Member', 'Club', 'Member'] :[1, 0, 0, 0, 0, 2]\n",
            "Node 2 using metapath ['Member', 'Club', 'Member'] :[2, 1, 0, 3, 3, 0]\n",
            "Node 2 using metapath ['Member', 'Club', 'Member', 'Club', 'Member'] :[2, 0, 2, 0, 0, 0]\n",
            "Node 3 using metapath ['Member', 'Club', 'Member'] :[3, 0, 0, 3, 0, 2]\n",
            "Node 3 using metapath ['Member', 'Club', 'Member', 'Club', 'Member'] :[3, 3, 0, 0, 0, 3]\n",
            "Node 4 using metapath ['Member', 'Club', 'Member'] :[4, 0, 0, 2, 0, 0]\n",
            "Node 4 using metapath ['Member', 'Club', 'Member', 'Club', 'Member'] :[4, 0, 2, 0, 4, 0]\n",
            "Node 5 using metapath ['Member', 'Club', 'Member'] :[5, 0, 0, 2, 0, 3]\n",
            "Node 5 using metapath ['Member', 'Club', 'Member', 'Club', 'Member'] :[5, 0, 3, 0, 0, 4]\n",
            "Node 6 using metapath ['Member', 'Club', 'Member'] :[6, 0, 2, 0, 0, 0]\n",
            "Node 6 using metapath ['Member', 'Club', 'Member', 'Club', 'Member'] :[6, 3, 0, 2, 0, 2]\n",
            "Node 7 using metapath ['Member', 'Club', 'Member'] :[7, 0, 0, 2, 0, 5]\n",
            "Node 7 using metapath ['Member', 'Club', 'Member', 'Club', 'Member'] :[7, 0, 0, 2, 0, 2]\n",
            "Node 8 using metapath ['Member', 'Club', 'Member'] :[8, 2, 0, 3, 3, 0]\n",
            "Node 8 using metapath ['Member', 'Club', 'Member', 'Club', 'Member'] :[8, 0, 2, 0, 0, 0]\n",
            "Node 9 using metapath ['Member', 'Club', 'Member'] :[9, 0, 0, 0, 3, 3]\n",
            "Node 9 using metapath ['Member', 'Club', 'Member', 'Club', 'Member'] :[9, 0, 3, 3, 3, 3]\n",
            "Node 10 using metapath ['Member', 'Club', 'Member'] :[10, 0, 3, 0, 1, 4]\n",
            "Node 10 using metapath ['Member', 'Club', 'Member', 'Club', 'Member'] :[10, 0, 0, 3, 0, 3]\n",
            "Node 11 using metapath ['Member', 'Club', 'Member'] :[11, 0, 2, 2, 0, 0]\n",
            "Node 11 using metapath ['Member', 'Club', 'Member', 'Club', 'Member'] :[11, 0, 2, 2, 3, 0]\n",
            "Node 12 using metapath ['Member', 'Club', 'Member'] :[12, 0, 4, 0, 0, 2]\n",
            "Node 12 using metapath ['Member', 'Club', 'Member', 'Club', 'Member'] :[12, 0, 0, 2, 0, 0]\n",
            "Node 13 using metapath ['Member', 'Club', 'Member'] :[13, 0, 3, 0, 0, 3]\n",
            "Node 13 using metapath ['Member', 'Club', 'Member', 'Club', 'Member'] :[13, 0, 3, 0, 0, 0]\n",
            "Node 14 using metapath ['Member', 'Club', 'Member'] :[14, 0, 2, 0, 0, 0]\n",
            "Node 14 using metapath ['Member', 'Club', 'Member', 'Club', 'Member'] :[14, 0, 2, 1, 0, 0]\n",
            "Node 15 using metapath ['Member', 'Club', 'Member'] :[15, 0, 0, 2, 0, 4]\n",
            "Node 15 using metapath ['Member', 'Club', 'Member', 'Club', 'Member'] :[15, 0, 2, 0, 3, 3]\n",
            "Node 16 using metapath ['Member', 'Club', 'Member'] :[16, 0, 2, 0, 0, 3]\n",
            "Node 16 using metapath ['Member', 'Club', 'Member', 'Club', 'Member'] :[16, 0, 0, 2, 5, 0]\n",
            "Node 17 using metapath ['Member', 'Club', 'Member'] :[17, 0, 0, 0, 0, 0]\n",
            "Node 17 using metapath ['Member', 'Club', 'Member', 'Club', 'Member'] :[17, 0, 0, 0, 2, 4]\n",
            "Node 18 using metapath ['Member', 'Club', 'Member'] :[18, 0, 0, 2, 0, 3]\n",
            "Node 18 using metapath ['Member', 'Club', 'Member', 'Club', 'Member'] :[18, 0, 0, 0, 3, 0]\n",
            "Node 19 using metapath ['Member', 'Club', 'Member'] :[19, 0, 2, 0, 3, 3]\n",
            "Node 19 using metapath ['Member', 'Club', 'Member', 'Club', 'Member'] :[19, 2, 0, 3, 3, 0]\n",
            "Node 20 using metapath ['Member', 'Club', 'Member'] :[20, 0, 0, 0, 2, 1]\n",
            "Node 20 using metapath ['Member', 'Club', 'Member', 'Club', 'Member'] :[20, 0, 3, 0, 0, 2]\n",
            "Node 21 using metapath ['Member', 'Club', 'Member'] :[21, 0, 2, 0, 0, 2]\n",
            "Node 21 using metapath ['Member', 'Club', 'Member', 'Club', 'Member'] :[21, 0, 2, 0, 0, 2]\n",
            "Node 22 using metapath ['Member', 'Club', 'Member'] :[22, 0, 2, 0, 0, 3]\n",
            "Node 22 using metapath ['Member', 'Club', 'Member', 'Club', 'Member'] :[22, 0, 0, 0, 0, 4]\n",
            "Node 23 using metapath ['Member', 'Club', 'Member'] :[23, 0, 0, 2, 0, 0]\n",
            "Node 23 using metapath ['Member', 'Club', 'Member', 'Club', 'Member'] :[23, 0, 0, 3, 0, 0]\n",
            "Node 24 using metapath ['Member', 'Club', 'Member'] :[24, 0, 0, 2, 0, 0]\n",
            "Node 24 using metapath ['Member', 'Club', 'Member', 'Club', 'Member'] :[24, 3, 0, 0, 3, 0]\n",
            "Node 25 using metapath ['Member', 'Club', 'Member'] :[25, 0, 3, 0, 4, 0]\n",
            "Node 25 using metapath ['Member', 'Club', 'Member', 'Club', 'Member'] :[25, 0, 3, 0, 2, 0]\n",
            "Node 26 using metapath ['Member', 'Club', 'Member'] :[26, 0, 2, 0, 0, 0]\n",
            "Node 26 using metapath ['Member', 'Club', 'Member', 'Club', 'Member'] :[26, 0, 2, 0, 0, 3]\n",
            "Node 27 using metapath ['Member', 'Club', 'Member'] :[27, 0, 5, 0, 2, 0]\n",
            "Node 27 using metapath ['Member', 'Club', 'Member', 'Club', 'Member'] :[27, 0, 2, 0, 2, 0]\n",
            "Node 28 using metapath ['Member', 'Club', 'Member'] :[28, 0, 0, 0, 0, 2]\n",
            "Node 28 using metapath ['Member', 'Club', 'Member', 'Club', 'Member'] :[28, 0, 0, 2, 1, 1]\n",
            "Node 29 using metapath ['Member', 'Club', 'Member'] :[29, 0, 0, 0, 4, 0]\n",
            "Node 29 using metapath ['Member', 'Club', 'Member', 'Club', 'Member'] :[29, 0, 0, 0, 0, 2]\n",
            "Node 30 using metapath ['Member', 'Club', 'Member'] :[30, 0, 0, 2, 6, 0]\n",
            "Node 30 using metapath ['Member', 'Club', 'Member', 'Club', 'Member'] :[30, 0, 2, 3, 0, 3]\n",
            "Node 31 using metapath ['Member', 'Club', 'Member'] :[31, 4, 0, 0, 0, 0]\n",
            "Node 31 using metapath ['Member', 'Club', 'Member', 'Club', 'Member'] :[31, 0, 0, 0, 2, 0]\n",
            "Node 32 using metapath ['Member', 'Club', 'Member'] :[32, 0, 3, 3, 0, 3]\n",
            "Node 32 using metapath ['Member', 'Club', 'Member', 'Club', 'Member'] :[32, 0, 2, 0, 3, 0]\n",
            "Node 33 using metapath ['Member', 'Club', 'Member'] :[33, 0, 0, 2, 5, 3]\n",
            "Node 33 using metapath ['Member', 'Club', 'Member', 'Club', 'Member'] :[33, 1, 4, 0, 0, 4]\n"
          ]
        }
      ]
    },
    {
      "cell_type": "code",
      "source": [
        "adjacency_matrix_array"
      ],
      "metadata": {
        "colab": {
          "base_uri": "https://localhost:8080/"
        },
        "id": "GBxhW7d4v2jh",
        "outputId": "397e1601-3cf3-43d2-accf-9d1892e01f03"
      },
      "execution_count": 25,
      "outputs": [
        {
          "output_type": "execute_result",
          "data": {
            "text/plain": [
              "array([[0, 4, 5, ..., 2, 0, 0],\n",
              "       [4, 0, 6, ..., 0, 0, 0],\n",
              "       [5, 6, 0, ..., 0, 2, 0],\n",
              "       ...,\n",
              "       [2, 0, 0, ..., 0, 4, 4],\n",
              "       [0, 0, 2, ..., 4, 0, 5],\n",
              "       [0, 0, 0, ..., 4, 5, 0]])"
            ]
          },
          "metadata": {},
          "execution_count": 25
        }
      ]
    }
  ]
}