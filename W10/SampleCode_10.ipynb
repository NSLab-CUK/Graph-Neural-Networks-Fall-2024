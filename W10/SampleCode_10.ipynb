{
 "cells": [
  {
   "cell_type": "markdown",
   "metadata": {},
   "source": [
    "# Equivariant Subgraph Aggregation Networks: $Simple Code$ (ESAN)"
   ]
  },
  {
   "cell_type": "code",
   "execution_count": 15,
   "metadata": {},
   "outputs": [],
   "source": [
    "import torch\n",
    "import torch.nn as nn\n",
    "import torch.optim as optim\n",
    "import torch.nn.functional as F\n",
    "from torch_geometric.datasets import Planetoid\n",
    "from torch_geometric.utils import to_dense_adj\n",
    "\n",
    "# ESANLayer for subgraph sampling and node embedding\n",
    "class ESANLayer(nn.Module):\n",
    "    def __init__(self, input_dim, output_dim, k_hop=1):\n",
    "        super(ESANLayer, self).__init__()\n",
    "        self.k_hop = k_hop\n",
    "        self.node_encoder = nn.Linear(input_dim, output_dim)\n",
    "    \n",
    "    def extract_subgraph(self, x, adj, node_idx):\n",
    "        # Initialize the set of neighbors with the central node\n",
    "        neighbors = torch.tensor([node_idx])\n",
    "        visited = set(neighbors.tolist())\n",
    "\n",
    "        # Perform k-hop neighborhood expansion\n",
    "        for _ in range(self.k_hop):\n",
    "            next_neighbors = []\n",
    "            for neighbor in neighbors:\n",
    "                # Find all nodes connected to the current neighbor\n",
    "                neighbor_nodes = (adj[neighbor] > 0).nonzero(as_tuple=True)[0]\n",
    "                for node in neighbor_nodes:\n",
    "                    if node.item() not in visited:\n",
    "                        visited.add(node.item())\n",
    "                        next_neighbors.append(node.item())\n",
    "            neighbors = torch.tensor(next_neighbors)\n",
    "        \n",
    "        # Create subgraph with the visited nodes\n",
    "        subgraph_nodes = torch.tensor(list(visited))\n",
    "        ego_x = x[subgraph_nodes]\n",
    "        ego_adj = adj[subgraph_nodes][:, subgraph_nodes]\n",
    "        return ego_x, ego_adj, subgraph_nodes\n",
    "\n",
    "    def forward(self, x, adj):\n",
    "        node_embeddings = []\n",
    "        for node_idx in range(x.size(0)):\n",
    "            # Extract the subgraph centered at the current node\n",
    "            ego_x, ego_adj, subgraph_nodes = self.extract_subgraph(x, adj, node_idx)\n",
    "            # Encode the node features within the subgraph\n",
    "            node_embedding = F.relu(self.node_encoder(ego_x))\n",
    "            # Apply equivariant pooling within the subgraph to get a single embedding for the central node\n",
    "            pooled_embedding = torch.mean(node_embedding, dim=0)\n",
    "            node_embeddings.append(pooled_embedding)\n",
    "        return torch.stack(node_embeddings, dim=0)  # Shape: [num_nodes, output_dim]"
   ]
  },
  {
   "cell_type": "code",
   "execution_count": 16,
   "metadata": {},
   "outputs": [],
   "source": [
    "# ESANModel using ESANLayer with EquivariantPooling concept embedded in ESANLayer\n",
    "class ESANModel(nn.Module):\n",
    "    def __init__(self, input_dim, hidden_dim, num_classes, k_hop=1):\n",
    "        super(ESANModel, self).__init__()\n",
    "        self.esan_layer = ESANLayer(input_dim, hidden_dim, k_hop)\n",
    "        self.output_layer = nn.Linear(hidden_dim, num_classes)\n",
    "\n",
    "    def forward(self, x, adj):\n",
    "        h = self.esan_layer(x, adj)  # Node embeddings after equivariant pooling for subgraphs\n",
    "        return self.output_layer(h)  # Output node-level predictions"
   ]
  },
  {
   "cell_type": "code",
   "execution_count": 17,
   "metadata": {},
   "outputs": [],
   "source": [
    "# Load dataset\n",
    "dataset = Planetoid(root='/tmp/Cora', name='Cora')\n",
    "data = dataset[0]\n",
    "adj_matrix = to_dense_adj(data.edge_index)[0]  # Convert to dense adjacency for simplicity\n",
    "\n",
    "# Initialize model, loss, and optimizer\n",
    "model = ESANModel(input_dim=dataset.num_features, hidden_dim=64, num_classes=dataset.num_classes)\n",
    "optimizer = optim.Adam(model.parameters(), lr=0.01)\n",
    "criterion = nn.CrossEntropyLoss()"
   ]
  },
  {
   "cell_type": "code",
   "execution_count": 18,
   "metadata": {},
   "outputs": [
    {
     "name": "stdout",
     "output_type": "stream",
     "text": [
      "Epoch 001, Loss: 1.9465, Test Accuracy: 0.2350\n",
      "Epoch 002, Loss: 1.8215, Test Accuracy: 0.5370\n",
      "Epoch 003, Loss: 1.6361, Test Accuracy: 0.5860\n",
      "Epoch 004, Loss: 1.4048, Test Accuracy: 0.6010\n",
      "Epoch 005, Loss: 1.1539, Test Accuracy: 0.6190\n",
      "Epoch 006, Loss: 0.9023, Test Accuracy: 0.6550\n",
      "Epoch 007, Loss: 0.6689, Test Accuracy: 0.7040\n",
      "Epoch 008, Loss: 0.4706, Test Accuracy: 0.7440\n",
      "Epoch 009, Loss: 0.3166, Test Accuracy: 0.7710\n",
      "Epoch 010, Loss: 0.2059, Test Accuracy: 0.7830\n"
     ]
    }
   ],
   "source": [
    "# Training loop\n",
    "for epoch in range(10):\n",
    "    model.train()\n",
    "    optimizer.zero_grad()\n",
    "    \n",
    "    # Forward pass\n",
    "    out = model(data.x, adj_matrix)\n",
    "    \n",
    "    # Compute loss and backpropagate\n",
    "    loss = criterion(out[data.train_mask], data.y[data.train_mask])\n",
    "    loss.backward()\n",
    "    optimizer.step()\n",
    "    \n",
    "    # Evaluation\n",
    "    model.eval()\n",
    "    with torch.no_grad():\n",
    "        out = model(data.x, adj_matrix)\n",
    "        _, pred = out[data.test_mask].max(dim=1)\n",
    "        correct = pred.eq(data.y[data.test_mask]).sum().item()\n",
    "        acc = correct / data.test_mask.sum().item()\n",
    "    \n",
    "    print(f\"Epoch {epoch+1:03d}, Loss: {loss.item():.4f}, Test Accuracy: {acc:.4f}\")\n"
   ]
  }
 ],
 "metadata": {
  "kernelspec": {
   "display_name": "Python 3",
   "language": "python",
   "name": "python3"
  },
  "language_info": {
   "codemirror_mode": {
    "name": "ipython",
    "version": 3
   },
   "file_extension": ".py",
   "mimetype": "text/x-python",
   "name": "python",
   "nbconvert_exporter": "python",
   "pygments_lexer": "ipython3",
   "version": "3.9.19"
  }
 },
 "nbformat": 4,
 "nbformat_minor": 2
}
