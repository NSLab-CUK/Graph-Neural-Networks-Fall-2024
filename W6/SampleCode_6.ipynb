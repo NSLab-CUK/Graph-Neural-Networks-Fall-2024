{
  "nbformat": 4,
  "nbformat_minor": 0,
  "metadata": {
    "colab": {
      "provenance": []
    },
    "kernelspec": {
      "name": "python3",
      "display_name": "Python 3"
    },
    "language_info": {
      "name": "python"
    }
  },
  "cells": [
    {
      "cell_type": "markdown",
      "source": [
        "# Install Library"
      ],
      "metadata": {
        "id": "kdUxuCVUJfHt"
      }
    },
    {
      "cell_type": "code",
      "source": [
        "# Install PyTorch Scatter, PyTorch Sparse, and PyTorch Geometric\n",
        "!pip install torch_geometric\n",
        "!pip install -q torch-scatter -f https://data.pyg.org/whl/torch-{torchversion}.html\n",
        "!pip install -q torch-sparse -f https://data.pyg.org/whl/torch-{torchversion}.html\n",
        "!pip install -q git+https://github.com/pyg-team/pytorch_geometric.git\n",
        "!pip install rdflib"
      ],
      "metadata": {
        "colab": {
          "base_uri": "https://localhost:8080/"
        },
        "id": "T35AzKPxJeRI",
        "outputId": "b6df373d-5468-4589-84d7-6c46f7959f82"
      },
      "execution_count": 1,
      "outputs": [
        {
          "output_type": "stream",
          "name": "stdout",
          "text": [
            "Collecting torch_geometric\n",
            "  Downloading torch_geometric-2.6.1-py3-none-any.whl.metadata (63 kB)\n",
            "\u001b[2K     \u001b[90m━━━━━━━━━━━━━━━━━━━━━━━━━━━━━━━━━━━━━━━━\u001b[0m \u001b[32m63.1/63.1 kB\u001b[0m \u001b[31m602.9 kB/s\u001b[0m eta \u001b[36m0:00:00\u001b[0m\n",
            "\u001b[?25hRequirement already satisfied: aiohttp in /usr/local/lib/python3.10/dist-packages (from torch_geometric) (3.10.5)\n",
            "Requirement already satisfied: fsspec in /usr/local/lib/python3.10/dist-packages (from torch_geometric) (2024.6.1)\n",
            "Requirement already satisfied: jinja2 in /usr/local/lib/python3.10/dist-packages (from torch_geometric) (3.1.4)\n",
            "Requirement already satisfied: numpy in /usr/local/lib/python3.10/dist-packages (from torch_geometric) (1.26.4)\n",
            "Requirement already satisfied: psutil>=5.8.0 in /usr/local/lib/python3.10/dist-packages (from torch_geometric) (5.9.5)\n",
            "Requirement already satisfied: pyparsing in /usr/local/lib/python3.10/dist-packages (from torch_geometric) (3.1.4)\n",
            "Requirement already satisfied: requests in /usr/local/lib/python3.10/dist-packages (from torch_geometric) (2.32.3)\n",
            "Requirement already satisfied: tqdm in /usr/local/lib/python3.10/dist-packages (from torch_geometric) (4.66.5)\n",
            "Requirement already satisfied: aiohappyeyeballs>=2.3.0 in /usr/local/lib/python3.10/dist-packages (from aiohttp->torch_geometric) (2.4.0)\n",
            "Requirement already satisfied: aiosignal>=1.1.2 in /usr/local/lib/python3.10/dist-packages (from aiohttp->torch_geometric) (1.3.1)\n",
            "Requirement already satisfied: attrs>=17.3.0 in /usr/local/lib/python3.10/dist-packages (from aiohttp->torch_geometric) (24.2.0)\n",
            "Requirement already satisfied: frozenlist>=1.1.1 in /usr/local/lib/python3.10/dist-packages (from aiohttp->torch_geometric) (1.4.1)\n",
            "Requirement already satisfied: multidict<7.0,>=4.5 in /usr/local/lib/python3.10/dist-packages (from aiohttp->torch_geometric) (6.1.0)\n",
            "Requirement already satisfied: yarl<2.0,>=1.0 in /usr/local/lib/python3.10/dist-packages (from aiohttp->torch_geometric) (1.11.1)\n",
            "Requirement already satisfied: async-timeout<5.0,>=4.0 in /usr/local/lib/python3.10/dist-packages (from aiohttp->torch_geometric) (4.0.3)\n",
            "Requirement already satisfied: MarkupSafe>=2.0 in /usr/local/lib/python3.10/dist-packages (from jinja2->torch_geometric) (2.1.5)\n",
            "Requirement already satisfied: charset-normalizer<4,>=2 in /usr/local/lib/python3.10/dist-packages (from requests->torch_geometric) (3.3.2)\n",
            "Requirement already satisfied: idna<4,>=2.5 in /usr/local/lib/python3.10/dist-packages (from requests->torch_geometric) (3.10)\n",
            "Requirement already satisfied: urllib3<3,>=1.21.1 in /usr/local/lib/python3.10/dist-packages (from requests->torch_geometric) (2.2.3)\n",
            "Requirement already satisfied: certifi>=2017.4.17 in /usr/local/lib/python3.10/dist-packages (from requests->torch_geometric) (2024.8.30)\n",
            "Requirement already satisfied: typing-extensions>=4.1.0 in /usr/local/lib/python3.10/dist-packages (from multidict<7.0,>=4.5->aiohttp->torch_geometric) (4.12.2)\n",
            "Downloading torch_geometric-2.6.1-py3-none-any.whl (1.1 MB)\n",
            "\u001b[2K   \u001b[90m━━━━━━━━━━━━━━━━━━━━━━━━━━━━━━━━━━━━━━━━\u001b[0m \u001b[32m1.1/1.1 MB\u001b[0m \u001b[31m6.0 MB/s\u001b[0m eta \u001b[36m0:00:00\u001b[0m\n",
            "\u001b[?25hInstalling collected packages: torch_geometric\n",
            "Successfully installed torch_geometric-2.6.1\n",
            "\u001b[2K     \u001b[90m━━━━━━━━━━━━━━━━━━━━━━━━━━━━━━━━━━━━━━━━\u001b[0m \u001b[32m108.0/108.0 kB\u001b[0m \u001b[31m1.2 MB/s\u001b[0m eta \u001b[36m0:00:00\u001b[0m\n",
            "\u001b[?25h  Preparing metadata (setup.py) ... \u001b[?25l\u001b[?25hdone\n",
            "  Building wheel for torch-scatter (setup.py) ... \u001b[?25l\u001b[?25hdone\n",
            "\u001b[2K     \u001b[90m━━━━━━━━━━━━━━━━━━━━━━━━━━━━━━━━━━━━━━━━\u001b[0m \u001b[32m210.0/210.0 kB\u001b[0m \u001b[31m1.5 MB/s\u001b[0m eta \u001b[36m0:00:00\u001b[0m\n",
            "\u001b[?25h  Preparing metadata (setup.py) ... \u001b[?25l\u001b[?25hdone\n",
            "  Building wheel for torch-sparse (setup.py) ... \u001b[?25l\u001b[?25hdone\n",
            "  Installing build dependencies ... \u001b[?25l\u001b[?25hdone\n",
            "  Getting requirements to build wheel ... \u001b[?25l\u001b[?25hdone\n",
            "  Preparing metadata (pyproject.toml) ... \u001b[?25l\u001b[?25hdone\n",
            "  Building wheel for torch-geometric (pyproject.toml) ... \u001b[?25l\u001b[?25hdone\n"
          ]
        }
      ]
    },
    {
      "cell_type": "code",
      "source": [
        "# Pytorch library\n",
        "import torch\n",
        "from torch_geometric.utils import remove_isolated_nodes\n",
        "import torch.nn.functional as F\n",
        "import torch\n",
        "from torch.nn import Linear, Dropout\n",
        "from torch_geometric.nn import GCNConv, GATv2Conv, RGATConv\n",
        "\n",
        "# Dataset\n",
        "from torch_geometric.datasets import Planetoid, KarateClub, Entities\n",
        "\n",
        "# Numpy for matrices\n",
        "import numpy as np\n",
        "\n",
        "# Visualization\n",
        "import networkx as nx\n",
        "from sklearn.manifold import TSNE\n",
        "import matplotlib.pyplot as plt\n",
        "\n",
        "import os.path as osp\n",
        "import time"
      ],
      "metadata": {
        "id": "DaHBn0OOJmAI"
      },
      "execution_count": 10,
      "outputs": []
    },
    {
      "cell_type": "code",
      "source": [
        "torchversion = torch.__version__"
      ],
      "metadata": {
        "id": "Wl3aIC_aJp_q"
      },
      "execution_count": 3,
      "outputs": []
    },
    {
      "cell_type": "code",
      "source": [
        "np.random.seed(0)"
      ],
      "metadata": {
        "id": "XcCLUoj3JpD8"
      },
      "execution_count": 4,
      "outputs": []
    },
    {
      "cell_type": "markdown",
      "source": [
        "# 1. Graph Attention Networks"
      ],
      "metadata": {
        "id": "Uwy6qdGMJiSV"
      }
    },
    {
      "cell_type": "code",
      "execution_count": 5,
      "metadata": {
        "colab": {
          "base_uri": "https://localhost:8080/"
        },
        "id": "whIdkU3jnYU7",
        "outputId": "dfa300a7-bb53-47bc-8241-b0b35046ab75"
      },
      "outputs": [
        {
          "output_type": "stream",
          "name": "stderr",
          "text": [
            "Downloading https://github.com/kimiyoung/planetoid/raw/master/data/ind.cora.x\n",
            "Downloading https://github.com/kimiyoung/planetoid/raw/master/data/ind.cora.tx\n",
            "Downloading https://github.com/kimiyoung/planetoid/raw/master/data/ind.cora.allx\n",
            "Downloading https://github.com/kimiyoung/planetoid/raw/master/data/ind.cora.y\n",
            "Downloading https://github.com/kimiyoung/planetoid/raw/master/data/ind.cora.ty\n",
            "Downloading https://github.com/kimiyoung/planetoid/raw/master/data/ind.cora.ally\n",
            "Downloading https://github.com/kimiyoung/planetoid/raw/master/data/ind.cora.graph\n",
            "Downloading https://github.com/kimiyoung/planetoid/raw/master/data/ind.cora.test.index\n",
            "Processing...\n",
            "Done!\n"
          ]
        }
      ],
      "source": [
        "# Import dataset from PyTorch Geometric\n",
        "dataset = Planetoid(root=\".\", name=\"cora\")\n",
        "\n",
        "data = dataset[0]"
      ]
    },
    {
      "cell_type": "markdown",
      "source": [
        "## Print dataset's information"
      ],
      "metadata": {
        "id": "F_U6lGHgJyHy"
      }
    },
    {
      "cell_type": "code",
      "source": [
        "# Print information about the dataset\n",
        "print(f'Dataset: {dataset}')\n",
        "print('-------------------')\n",
        "print(f'Number of graphs: {len(dataset)}')\n",
        "print(f'Number of nodes: {data.x.shape[0]}')\n",
        "print(f'Number of features: {dataset.num_features}')\n",
        "print(f'Number of classes: {dataset.num_classes}')\n",
        "\n",
        "# Print information about the graph\n",
        "print(f'\\nGraph:')\n",
        "print('------')\n",
        "print(f'Edges are directed: {data.is_directed()}')\n",
        "print(f'Graph has isolated nodes: {data.has_isolated_nodes()}')\n",
        "print(f'Graph has loops: {data.has_self_loops()}')"
      ],
      "metadata": {
        "colab": {
          "base_uri": "https://localhost:8080/"
        },
        "id": "kHtkkp76Jz7a",
        "outputId": "9dda27c4-10bf-4e9b-ace3-fbd78ddfc8a4"
      },
      "execution_count": 6,
      "outputs": [
        {
          "output_type": "stream",
          "name": "stdout",
          "text": [
            "Dataset: cora()\n",
            "-------------------\n",
            "Number of graphs: 1\n",
            "Number of nodes: 2708\n",
            "Number of features: 1433\n",
            "Number of classes: 7\n",
            "\n",
            "Graph:\n",
            "------\n",
            "Edges are directed: False\n",
            "Graph has isolated nodes: False\n",
            "Graph has loops: False\n"
          ]
        }
      ]
    },
    {
      "cell_type": "code",
      "source": [
        "isolated = (remove_isolated_nodes(data['edge_index'])[2] == False).sum(dim=0).item()\n",
        "print(f'Number of isolated nodes = {isolated}')"
      ],
      "metadata": {
        "colab": {
          "base_uri": "https://localhost:8080/"
        },
        "id": "Ad6n4nHjQDj_",
        "outputId": "5e746538-6b6f-4cc0-9472-6dc38f61c482"
      },
      "execution_count": 11,
      "outputs": [
        {
          "output_type": "stream",
          "name": "stdout",
          "text": [
            "Number of isolated nodes = 0\n"
          ]
        }
      ]
    },
    {
      "cell_type": "markdown",
      "source": [
        "## Implement GAT\n",
        "### GAT model"
      ],
      "metadata": {
        "id": "mzpPQpc2RYMu"
      }
    },
    {
      "cell_type": "code",
      "source": [
        "class GAT(torch.nn.Module):\n",
        "  \"\"\"Graph Attention Network\"\"\"\n",
        "  def __init__(self, dim_in, dim_h, dim_out, heads=8):\n",
        "    super().__init__()\n",
        "    self.gat1 = GATv2Conv(dim_in, dim_h, heads=heads)\n",
        "    self.gat2 = GATv2Conv(dim_h*heads, dim_out, heads=1)\n",
        "    self.optimizer = torch.optim.Adam(self.parameters(),\n",
        "                                      lr=0.005,\n",
        "                                      weight_decay=5e-4)\n",
        "\n",
        "  def forward(self, x, edge_index):\n",
        "    h = F.dropout(x, p=0.6, training=self.training)\n",
        "    h = self.gat1(x, edge_index)\n",
        "    h = F.elu(h)\n",
        "    h = F.dropout(h, p=0.6, training=self.training)\n",
        "    h = self.gat2(h, edge_index)\n",
        "    return h, F.log_softmax(h, dim=1)"
      ],
      "metadata": {
        "id": "Ue82FLWARSXx"
      },
      "execution_count": 12,
      "outputs": []
    },
    {
      "cell_type": "markdown",
      "source": [
        "### Train function"
      ],
      "metadata": {
        "id": "pWYGvMisRcH9"
      }
    },
    {
      "cell_type": "code",
      "source": [
        "def accuracy(pred_y, y):\n",
        "    \"\"\"Calculate accuracy.\"\"\"\n",
        "    return ((pred_y == y).sum() / len(y)).item()\n",
        "\n",
        "def train(model, data):\n",
        "    \"\"\"Train a GNN model and return the trained model.\"\"\"\n",
        "    criterion = torch.nn.CrossEntropyLoss()\n",
        "    optimizer = model.optimizer\n",
        "    epochs = 15\n",
        "\n",
        "    model.train()\n",
        "    for epoch in range(epochs+1):\n",
        "        # Training\n",
        "        optimizer.zero_grad()\n",
        "        _, out = model(data.x, data.edge_index)\n",
        "        loss = criterion(out[data.train_mask], data.y[data.train_mask])\n",
        "        acc = accuracy(out[data.train_mask].argmax(dim=1), data.y[data.train_mask])\n",
        "        loss.backward()\n",
        "        optimizer.step()\n",
        "\n",
        "        # Validation\n",
        "        val_loss = criterion(out[data.val_mask], data.y[data.val_mask])\n",
        "        val_acc = accuracy(out[data.val_mask].argmax(dim=1), data.y[data.val_mask])\n",
        "\n",
        "        # Print metrics every 10 epochs\n",
        "        if(epoch % 1 == 0):\n",
        "            print(f'Epoch {epoch:>3} | Train Loss: {loss:.3f} | Train Acc: '\n",
        "                  f'{acc*100:>6.2f}% | Val Loss: {val_loss:.2f} | '\n",
        "                  f'Val Acc: {val_acc*100:.2f}%')\n",
        "\n",
        "    return model\n",
        "\n",
        "def test(model, data):\n",
        "    \"\"\"Evaluate the model on test set and print the accuracy score.\"\"\"\n",
        "    model.eval()\n",
        "    _, out = model(data.x, data.edge_index)\n",
        "    acc = accuracy(out.argmax(dim=1)[data.test_mask], data.y[data.test_mask])\n",
        "    return acc"
      ],
      "metadata": {
        "id": "byCzsighRemt"
      },
      "execution_count": 14,
      "outputs": []
    },
    {
      "cell_type": "markdown",
      "source": [
        "### Train GAT"
      ],
      "metadata": {
        "id": "FSUspxuVRin0"
      }
    },
    {
      "cell_type": "code",
      "source": [
        "%%time\n",
        "\n",
        "# Create GAT model\n",
        "gat = GAT(dataset.num_features, 8, dataset.num_classes)\n",
        "print(gat)"
      ],
      "metadata": {
        "colab": {
          "base_uri": "https://localhost:8080/"
        },
        "id": "1TeEj6_5RkGd",
        "outputId": "75ea8e4a-8e30-4d4e-a2eb-b7388b2a9443"
      },
      "execution_count": 15,
      "outputs": [
        {
          "output_type": "stream",
          "name": "stdout",
          "text": [
            "GAT(\n",
            "  (gat1): GATv2Conv(1433, 8, heads=8)\n",
            "  (gat2): GATv2Conv(64, 7, heads=1)\n",
            ")\n",
            "CPU times: user 94 ms, sys: 5.63 ms, total: 99.7 ms\n",
            "Wall time: 101 ms\n"
          ]
        }
      ]
    },
    {
      "cell_type": "code",
      "source": [
        "# Train\n",
        "train(gat, data)\n",
        "\n",
        "# Test\n",
        "acc = test(gat, data)\n",
        "print(f'\\nGAT test accuracy: {acc*100:.2f}%\\n')"
      ],
      "metadata": {
        "colab": {
          "base_uri": "https://localhost:8080/"
        },
        "id": "BxaZIvSxRmaz",
        "outputId": "e32a9294-efde-46d3-a03e-3fd08eef1175"
      },
      "execution_count": 16,
      "outputs": [
        {
          "output_type": "stream",
          "name": "stdout",
          "text": [
            "Epoch   0 | Train Loss: 1.948 | Train Acc:  18.57% | Val Loss: 1.90 | Val Acc: 32.60%\n",
            "Epoch   1 | Train Loss: 1.696 | Train Acc:  80.71% | Val Loss: 1.81 | Val Acc: 52.60%\n",
            "Epoch   2 | Train Loss: 1.480 | Train Acc:  92.86% | Val Loss: 1.69 | Val Acc: 64.80%\n",
            "Epoch   3 | Train Loss: 1.279 | Train Acc:  97.14% | Val Loss: 1.59 | Val Acc: 69.60%\n",
            "Epoch   4 | Train Loss: 1.091 | Train Acc:  95.00% | Val Loss: 1.46 | Val Acc: 73.80%\n",
            "Epoch   5 | Train Loss: 0.916 | Train Acc:  96.43% | Val Loss: 1.35 | Val Acc: 75.00%\n",
            "Epoch   6 | Train Loss: 0.772 | Train Acc:  98.57% | Val Loss: 1.25 | Val Acc: 76.40%\n",
            "Epoch   7 | Train Loss: 0.638 | Train Acc:  97.14% | Val Loss: 1.13 | Val Acc: 78.00%\n",
            "Epoch   8 | Train Loss: 0.523 | Train Acc:  98.57% | Val Loss: 1.07 | Val Acc: 75.80%\n",
            "Epoch   9 | Train Loss: 0.449 | Train Acc:  98.57% | Val Loss: 1.01 | Val Acc: 77.80%\n",
            "Epoch  10 | Train Loss: 0.368 | Train Acc:  97.14% | Val Loss: 0.96 | Val Acc: 76.80%\n",
            "Epoch  11 | Train Loss: 0.308 | Train Acc:  98.57% | Val Loss: 0.92 | Val Acc: 75.20%\n",
            "Epoch  12 | Train Loss: 0.276 | Train Acc:  98.57% | Val Loss: 0.88 | Val Acc: 76.00%\n",
            "Epoch  13 | Train Loss: 0.205 | Train Acc:  97.86% | Val Loss: 0.85 | Val Acc: 76.40%\n",
            "Epoch  14 | Train Loss: 0.176 | Train Acc:  99.29% | Val Loss: 0.86 | Val Acc: 76.00%\n",
            "Epoch  15 | Train Loss: 0.147 | Train Acc:  98.57% | Val Loss: 0.86 | Val Acc: 76.60%\n",
            "\n",
            "GAT test accuracy: 77.90%\n",
            "\n"
          ]
        }
      ]
    },
    {
      "cell_type": "markdown",
      "source": [
        "# GATv2"
      ],
      "metadata": {
        "id": "o2zGqyzAR7bP"
      }
    },
    {
      "cell_type": "code",
      "source": [
        "class GATv2(torch.nn.Module):\n",
        "    def __init__(self,num_features,dims, num_classes,  drop=0.0):\n",
        "        super(GATv2, self).__init__()\n",
        "        heads = 8\n",
        "        self.h = None\n",
        "        self.conv1 = GATv2Conv(num_features,dims, heads=heads, dropout = 0.3, concat=False)\n",
        "        self.conv2 = GATv2Conv(dims, num_classes, heads=heads, concat=False, dropout=0.3)\n",
        "        self.drop = torch.nn.Dropout(p=drop)\n",
        "        self.optimizer = torch.optim.Adam(self.parameters(),lr=0.005,weight_decay=5e-4)\n",
        "    def forward(self, x, edge_index,):\n",
        "        x = F.elu(self.conv1(x, edge_index))\n",
        "        x = self.drop(x)\n",
        "        x = self.conv2(x, edge_index)\n",
        "        return x, F.log_softmax(x, dim=1)"
      ],
      "metadata": {
        "id": "0Aq03KQYR4iY"
      },
      "execution_count": 17,
      "outputs": []
    },
    {
      "cell_type": "code",
      "source": [
        "%%time\n",
        "\n",
        "# Create GAT model\n",
        "gat2 = GATv2(dataset.num_features, 8, dataset.num_classes)\n",
        "print(gat2)"
      ],
      "metadata": {
        "colab": {
          "base_uri": "https://localhost:8080/"
        },
        "id": "wk9H-f-aR8VY",
        "outputId": "af86ebac-d6c4-48c7-fb11-6c595e53350c"
      },
      "execution_count": 18,
      "outputs": [
        {
          "output_type": "stream",
          "name": "stdout",
          "text": [
            "GATv2(\n",
            "  (conv1): GATv2Conv(1433, 8, heads=8)\n",
            "  (conv2): GATv2Conv(8, 7, heads=8)\n",
            "  (drop): Dropout(p=0.0, inplace=False)\n",
            ")\n",
            "CPU times: user 9.51 ms, sys: 0 ns, total: 9.51 ms\n",
            "Wall time: 11.5 ms\n"
          ]
        }
      ]
    },
    {
      "cell_type": "code",
      "source": [
        "# Train\n",
        "train(gat2, data)\n",
        "\n",
        "# Test\n",
        "acc = test(gat2, data)\n",
        "print(f'\\nGAT test accuracy: {acc*100:.2f}%\\n')"
      ],
      "metadata": {
        "colab": {
          "base_uri": "https://localhost:8080/"
        },
        "id": "0JiY7QJnR9qp",
        "outputId": "83c2ed03-8f1f-4f3d-9606-41a5026726e1"
      },
      "execution_count": 19,
      "outputs": [
        {
          "output_type": "stream",
          "name": "stdout",
          "text": [
            "Epoch   0 | Train Loss: 1.950 | Train Acc:  13.57% | Val Loss: 1.94 | Val Acc: 12.00%\n",
            "Epoch   1 | Train Loss: 1.934 | Train Acc:  17.86% | Val Loss: 1.93 | Val Acc: 14.60%\n",
            "Epoch   2 | Train Loss: 1.922 | Train Acc:  20.00% | Val Loss: 1.92 | Val Acc: 18.80%\n",
            "Epoch   3 | Train Loss: 1.904 | Train Acc:  30.71% | Val Loss: 1.92 | Val Acc: 30.60%\n",
            "Epoch   4 | Train Loss: 1.887 | Train Acc:  52.14% | Val Loss: 1.91 | Val Acc: 33.00%\n",
            "Epoch   5 | Train Loss: 1.872 | Train Acc:  60.71% | Val Loss: 1.90 | Val Acc: 41.80%\n",
            "Epoch   6 | Train Loss: 1.851 | Train Acc:  71.43% | Val Loss: 1.89 | Val Acc: 53.20%\n",
            "Epoch   7 | Train Loss: 1.832 | Train Acc:  80.00% | Val Loss: 1.88 | Val Acc: 59.00%\n",
            "Epoch   8 | Train Loss: 1.806 | Train Acc:  85.71% | Val Loss: 1.87 | Val Acc: 62.60%\n",
            "Epoch   9 | Train Loss: 1.784 | Train Acc:  87.14% | Val Loss: 1.86 | Val Acc: 61.20%\n",
            "Epoch  10 | Train Loss: 1.756 | Train Acc:  81.43% | Val Loss: 1.85 | Val Acc: 63.60%\n",
            "Epoch  11 | Train Loss: 1.732 | Train Acc:  84.29% | Val Loss: 1.84 | Val Acc: 60.60%\n",
            "Epoch  12 | Train Loss: 1.706 | Train Acc:  80.71% | Val Loss: 1.82 | Val Acc: 61.00%\n",
            "Epoch  13 | Train Loss: 1.669 | Train Acc:  82.86% | Val Loss: 1.80 | Val Acc: 61.00%\n",
            "Epoch  14 | Train Loss: 1.642 | Train Acc:  85.71% | Val Loss: 1.79 | Val Acc: 61.00%\n",
            "Epoch  15 | Train Loss: 1.614 | Train Acc:  82.14% | Val Loss: 1.76 | Val Acc: 65.40%\n",
            "\n",
            "GAT test accuracy: 67.50%\n",
            "\n"
          ]
        }
      ]
    },
    {
      "cell_type": "markdown",
      "source": [
        "# Relational GAT (RGAT)"
      ],
      "metadata": {
        "id": "BvGbgtLxR_kf"
      }
    },
    {
      "cell_type": "code",
      "source": [
        "#path = osp.join(\".\", '..', 'data', 'Entities')'AIFB'\n",
        "dataset = Entities(\".\", 'AIFB')\n",
        "data = dataset[0]\n",
        "data.x = torch.randn(data.num_nodes, 16)"
      ],
      "metadata": {
        "colab": {
          "base_uri": "https://localhost:8080/"
        },
        "id": "lsvZwbOHR-ma",
        "outputId": "8d2c2c12-b2c0-4201-be96-94af11af0f22"
      },
      "execution_count": 20,
      "outputs": [
        {
          "output_type": "stream",
          "name": "stderr",
          "text": [
            "Downloading https://data.dgl.ai/dataset/aifb.tgz\n",
            "Extracting ./aifb.tgz\n",
            "Processing...\n",
            "Done!\n"
          ]
        }
      ]
    },
    {
      "cell_type": "markdown",
      "source": [
        "## RGAT model"
      ],
      "metadata": {
        "id": "tdnC5Mz8SGNN"
      }
    },
    {
      "cell_type": "code",
      "source": [
        "class RGAT(torch.nn.Module):\n",
        "    def __init__(self, in_channels, hidden_channels, out_channels,\n",
        "                 num_relations):\n",
        "        super().__init__()\n",
        "        self.conv1 = RGATConv(in_channels, hidden_channels, num_relations)\n",
        "        self.conv2 = RGATConv(hidden_channels, hidden_channels, num_relations)\n",
        "        self.lin = torch.nn.Linear(hidden_channels, out_channels)\n",
        "\n",
        "    def forward(self, x, edge_index, edge_type):\n",
        "        x = self.conv1(x, edge_index, edge_type).relu()\n",
        "        x = self.conv2(x, edge_index, edge_type).relu()\n",
        "        x = self.lin(x)\n",
        "        return F.log_softmax(x, dim=-1)"
      ],
      "metadata": {
        "id": "OAQRbKQiSEux"
      },
      "execution_count": 21,
      "outputs": []
    },
    {
      "cell_type": "code",
      "source": [
        "device = torch.device('cuda' if torch.cuda.is_available() else 'cpu')\n",
        "data = data.to(device)\n",
        "model = RGAT(16, 16, dataset.num_classes, dataset.num_relations).to(device)\n",
        "optimizer = torch.optim.Adam(model.parameters(), lr=0.01, weight_decay=0.0005)"
      ],
      "metadata": {
        "id": "8kIZpmX5SKF8"
      },
      "execution_count": 22,
      "outputs": []
    },
    {
      "cell_type": "code",
      "source": [
        "def train():\n",
        "    model.train()\n",
        "    optimizer.zero_grad()\n",
        "    out = model(data.x, data.edge_index, data.edge_type)\n",
        "    loss = F.nll_loss(out[data.train_idx], data.train_y)\n",
        "    loss.backward()\n",
        "    optimizer.step()\n",
        "    return float(loss)\n",
        "\n",
        "\n",
        "@torch.no_grad()\n",
        "def test():\n",
        "    model.eval()\n",
        "    pred = model(data.x, data.edge_index, data.edge_type).argmax(dim=-1)\n",
        "    train_acc = float((pred[data.train_idx] == data.train_y).float().mean())\n",
        "    test_acc = float((pred[data.test_idx] == data.test_y).float().mean())\n",
        "    return train_acc, test_acc"
      ],
      "metadata": {
        "id": "4LiGTUKLSLJr"
      },
      "execution_count": 23,
      "outputs": []
    },
    {
      "cell_type": "code",
      "source": [
        "times = []\n",
        "for epoch in range(1, 16):\n",
        "    start = time.time()\n",
        "    loss = train()\n",
        "    train_acc, test_acc = test()\n",
        "    print(f'Epoch: {epoch:02d}, Loss: {loss:.4f}, Train: {train_acc:.4f} '\n",
        "          f'Test: {test_acc:.4f}')\n",
        "    times.append(time.time() - start)\n",
        "print(f\"Median time per epoch: {torch.tensor(times).median():.4f}s\")"
      ],
      "metadata": {
        "colab": {
          "base_uri": "https://localhost:8080/"
        },
        "id": "TfCPXZYvSMp8",
        "outputId": "6debacfb-33b5-435e-fd88-4c62e1b88ee3"
      },
      "execution_count": 24,
      "outputs": [
        {
          "output_type": "stream",
          "name": "stdout",
          "text": [
            "Epoch: 01, Loss: 1.4440, Train: 0.0857 Test: 0.0556\n",
            "Epoch: 02, Loss: 1.3809, Train: 0.1571 Test: 0.0833\n",
            "Epoch: 03, Loss: 1.3189, Train: 0.5786 Test: 0.4722\n",
            "Epoch: 04, Loss: 1.2599, Train: 0.5929 Test: 0.5000\n",
            "Epoch: 05, Loss: 1.1968, Train: 0.6143 Test: 0.5833\n",
            "Epoch: 06, Loss: 1.1288, Train: 0.6143 Test: 0.6667\n",
            "Epoch: 07, Loss: 1.0552, Train: 0.6714 Test: 0.6944\n",
            "Epoch: 08, Loss: 0.9769, Train: 0.6857 Test: 0.6944\n",
            "Epoch: 09, Loss: 0.8929, Train: 0.7214 Test: 0.6944\n",
            "Epoch: 10, Loss: 0.8035, Train: 0.7357 Test: 0.6944\n",
            "Epoch: 11, Loss: 0.7161, Train: 0.7571 Test: 0.6944\n",
            "Epoch: 12, Loss: 0.6340, Train: 0.8071 Test: 0.7222\n",
            "Epoch: 13, Loss: 0.5509, Train: 0.8357 Test: 0.7778\n",
            "Epoch: 14, Loss: 0.4702, Train: 0.8571 Test: 0.7778\n",
            "Epoch: 15, Loss: 0.4037, Train: 0.8929 Test: 0.8056\n",
            "Median time per epoch: 0.8513s\n"
          ]
        }
      ]
    }
  ]
}
